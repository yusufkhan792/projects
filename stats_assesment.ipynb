
 "cells": [
  {
   "cell_type": "code",
   "execution_count": 1,
   "id": "eff7e50d-4cd2-47ed-8651-d13692288c76",
   "metadata": {},
   "outputs": [],
   "source": [
    "import numpy as np\n",
    "import pandas as pd\n",
    "import matplotlib.pyplot as plt\n",
    "import seaborn as sns\n",
    "import statistics as st"
   ]
  },
  {
   "cell_type": "code",
   "execution_count": null,
   "id": "206c3765-24bd-4451-a881-ba3c806b9905",
   "metadata": {},
   "outputs": [],
   "source": [
    "#Q1. From the pack of 52 cards, three cards are drawn randomly without\n",
    "# replacement then what is the probability that one card is a\n",
    "# diamond, one card is a heart and one is spade?"
   ]
  },
  {
   "cell_type": "code",
   "execution_count": 3,
   "id": "9efcfffd-97e1-4f3e-ae79-bd1b0b763dee",
   "metadata": {},
   "outputs": [
    {
     "name": "stdout",
     "output_type": "stream",
     "text": [
      "Probability: 0.0994\n"
     ]
    }
   ],
   "source": [
    "from math import comb # this is func used for combination\n",
    "\n",
    "# Total cards in a deck\n",
    "total_cards = 52\n",
    "\n",
    "# Total cards of each suit\n",
    "cards_per_suit = 13\n",
    "\n",
    "# Calculating total possible outcomes\n",
    "total_outcomes = comb(total_cards, 3)\n",
    "\n",
    "# Calculate favorable outcomes\n",
    "favorable_outcomes = comb(cards_per_suit, 1) * comb(cards_per_suit, 1) * comb(cards_per_suit, 1)\n",
    "\n",
    "# Calculating probability\n",
    "probability = favorable_outcomes / total_outcomes\n",
    "print(f\"Probability: {probability:.4f}\")"
   ]
  },
  {
   "cell_type": "code",
   "execution_count": null,
   "id": "8d9d4166-005f-4b47-9d57-027f715e9ccf",
   "metadata": {},
   "outputs": [],
   "source": [
    "#Q2. The information was gathered by a survey done by a productioncompany: \n",
    "#42 % of the respondents said that they like action movies,\n",
    "#54 % like comedy movies, 36 % like drama movies, and \n",
    "#12 % like horror movies. If a person is selected at random,\n",
    "#find the probability that his or her favourite movie type is either action or drama."
   ]
  },
  {
   "cell_type": "code",
   "execution_count": 35,
   "id": "7c4cc5d1-fa57-449c-8d7e-a846f4ec58fa",
   "metadata": {},
   "outputs": [
    {
     "name": "stdout",
     "output_type": "stream",
     "text": [
      "Probability of liking either action or drama movie is : 0.78\n"
     ]
    }
   ],
   "source": [
    "# Probabilities of liking action and drama movies\n",
    "P_action = 0.42\n",
    "P_drama = 0.36\n",
    "\n",
    "# Calculating probability of liking action or drama movie\n",
    "Prob_action_or_drama = P_action + P_drama\n",
    "print(f\"Probability of liking either action or drama movie is : {Prob_action_or_drama:.2f}\")"
   ]
  },
  {
   "cell_type": "code",
   "execution_count": null,
   "id": "2ba87ac0-c563-4ccc-89e3-c95b522c90ff",
   "metadata": {},
   "outputs": [],
   "source": [
    "#Q3 .An MNC company receives 450 applications from applicants in one\n",
    "#hour. Find the probability of\n",
    "#a. Receiving 10 applications in 1 minute.\n",
    "#b. Receiving at least 17 applications in 2 minutes."
   ]
  },
  {
   "cell_type": "code",
   "execution_count": 81,
   "id": "182fe029-2499-4a3e-a5e2-f517a744630c",
   "metadata": {},
   "outputs": [
    {
     "name": "stdout",
     "output_type": "stream",
     "text": [
      "Probability of receiving 10 applications in 1 minute: 0.0858\n",
      "Probability of receiving at least 17 applications in 2 minutes: 0.3359\n"
     ]
    }
   ],
   "source": [
    "from scipy.stats import poisson\n",
    "\n",
    "# a: Receiving 10 applications in 1 minute\n",
    "lambda_1min = 450/60\n",
    "P_10_in_1min = poisson.pmf(10, lambda_1min)\n",
    "\n",
    "# b: Receiving at least 17 applications in 2 minutes\n",
    "lambda_2min = 2*lambda_1min\n",
    "P_17_or_more = 1 - poisson.cdf(16, lambda_2min)\n",
    "\n",
    "# Display results\n",
    "print(f\"Probability of receiving 10 applications in 1 minute: {P_10_in_1min:.4f}\")\n",
    "print(f\"Probability of receiving at least 17 applications in 2 minutes: {P_17_or_more:.4f}\")"
   ]
  },
  {
   "cell_type": "code",
   "execution_count": null,
   "id": "5a220804-2328-491a-912c-92a65354ff41",
   "metadata": {},
   "outputs": [],
   "source": [
    "#Q4. The government of state union has declared a free medical insurance for below poverty line population by using following\n",
    "#assumptions:\n",
    "#a. In every year, there can be at most one patient who needs medical insurance in a family.\n",
    "#b. Every year, the probability of a medical emergency is 0.05.\n",
    "#c. The number of patients every year is independent.\n",
    "#(Using the assumptions, calculate the probability that there are fewer than 3 patients in a 10 years period in one family)"
   ]
  },
  {
   "cell_type": "code",
   "execution_count": 75,
   "id": "b5a5c033-6e17-462c-b00f-f2a06cb1f50a",
   "metadata": {},
   "outputs": [
    {
     "name": "stdout",
     "output_type": "stream",
     "text": [
      "The probability of having fewer than 3 patients in 10 years is: 0.9885\n"
     ]
    }
   ],
   "source": [
    "from scipy.stats import binom\n",
    "n = 10  # number of years\n",
    "p = 0.05  # probability of having a patient each year\n",
    "\n",
    "# Calculating cumulative probability P(X < 3), which is P(X = 0) + P(X = 1) + P(X = 2)\n",
    "probability = binom.cdf(2, n, p)\n",
    "print(f\"The probability of having fewer than 3 patients in 10 years is: {probability:.4f}\")"
   ]
  },
  {
   "cell_type": "code",
   "execution_count": null,
   "id": "7efd7fb5-1dc6-43d0-b823-f6b213efcaf3",
   "metadata": {},
   "outputs": [],
   "source": [
    "#Q5.A bag A contains 3 red and 5 black balls and bag B contains 4 white\n",
    "#and 7 black balls. A bag is selected randomly and a ball is drawn\n",
    "#from it. A drawn ball is observed to be black. Find the probability\n",
    "#that bag ‘B’ was selected."
   ]
  },
  {
   "cell_type": "code",
   "execution_count": 41,
   "id": "f793a1c1-85a3-422d-aac9-4778d471c7e4",
   "metadata": {},
   "outputs": [
    {
     "name": "stdout",
     "output_type": "stream",
     "text": [
      "Probability that Bag B was selected given a black ball was drawn: 0.5045\n"
     ]
    }
   ],
   "source": [
    "P_A = 0.5  # Probability of selecting Bag A\n",
    "P_B = 0.5  # Probability of selecting Bag B\n",
    "P_black_given_A = 5 / 8  # Probability of drawing black ball from Bag A\n",
    "P_black_given_B = 7 / 11  # Probability of drawing black ball from Bag B\n",
    "\n",
    "# Total probability of drawing a black ball\n",
    "P_black = (P_black_given_A * P_A) + (P_black_given_B * P_B)\n",
    "\n",
    "# Applying Bayes' Theorem to calculate P(B | Black)\n",
    "P_B_given_black = (P_black_given_B * P_B) / P_black\n",
    "print(f\"Probability that Bag B was selected given a black ball was drawn: {P_B_given_black:.4f}\")"
   ]
  },
  {
   "cell_type": "code",
   "execution_count": null,
   "id": "8f4d5bb7-de02-4083-ab47-dfbfca4f1946",
   "metadata": {},
   "outputs": [],
   "source": [
    "#Q6.data = [152, 153, 154,20,55,26,64,88,150, 151, 155, 156,157,158,159, 250, 158, 22,33,43,159, 160, 161, 162, 163, 164,\n",
    "#165, 166, 167, 168, 169, 170, 171, 172, 355, 174, 175, 176, 177,178, 300]\n",
    "#a) Calculate the mean and standard deviation of these observations and check if calculated Z-statistics can be applied or not.\n",
    "#b) Obtain the descriptive statistics of the data."
   ]
  },
  {
   "cell_type": "code",
   "execution_count": 43,
   "id": "0ca39020-c05f-4f1a-9743-d8955ddf195a",
   "metadata": {},
   "outputs": [
    {
     "name": "stdout",
     "output_type": "stream",
     "text": [
      "Mean: 150.15\n",
      "Standard Deviation: 65.50\n",
      "Z-statistic Applicable: True\n",
      "\n",
      "Descriptive Statistics:\n",
      "count     41.000000\n",
      "mean     150.146341\n",
      "std       66.316876\n",
      "min       20.000000\n",
      "25%      152.000000\n",
      "50%      160.000000\n",
      "75%      170.000000\n",
      "max      355.000000\n",
      "dtype: float64\n"
     ]
    }
   ],
   "source": [
    "data = [152, 153, 154, 20, 55, 26, 64, 88, 150, 151, 155, 156, 157, 158, \n",
    "        159, 250, 158, 22, 33, 43, 159, 160, 161, 162, 163, 164, 165, \n",
    "        166, 167, 168, 169, 170, 171, 172, 355, 174, 175, 176, 177, 178, 300]\n",
    "\n",
    "# Mean and Standard Deviation\n",
    "mean = np.mean(data)\n",
    "std_dev = np.std(data, ddof=0)  # Population standard deviation (ddof=0)\n",
    "\n",
    "# Z-statistic applicability:- since in our above question our sample data>30 we can use z-test here\n",
    "n = len(data)\n",
    "z_stat_applicable = n > 30  # True if sample size > 30\n",
    "\n",
    "# Descriptive Statistics\n",
    "descriptive_stats = pd.Series(data).describe()\n",
    "\n",
    "\n",
    "print(f\"Mean: {mean:.2f}\")\n",
    "print(f\"Standard Deviation: {std_dev:.2f}\")\n",
    "print(f\"Z-statistic Applicable: {z_stat_applicable}\")\n",
    "print(\"\\nDescriptive Statistics:\")\n",
    "print(descriptive_stats)"
   ]
  },
  {
   "cell_type": "code",
   "execution_count": null,
   "id": "aa36e034-d601-4d34-a296-76a74a2b0271",
   "metadata": {},
   "outputs": [],
   "source": [
    "#Q7.Identify the outliers from the data and if any present remove it.\n",
    "#data =[152, 153, 154,20,55,26,64,88,150, 151, 155,156,157,158,159, 250, 158, 22,33,43,159, 160, 161, 162, 163,\n",
    "#164,165, 166, 167, 168, 169, 170, 171, 172, 355, 174, 175, 176,177,178, 300 ]"
   ]
  },
  {
   "cell_type": "code",
   "execution_count": 51,
   "id": "0146fb32-c123-4abb-ac13-63a1e02bb9c8",
   "metadata": {},
   "outputs": [
    {
     "name": "stdout",
     "output_type": "stream",
     "text": [
      "Q1 (25th percentile): 152.00\n",
      "Q3 (75th percentile): 170.00\n",
      "IQR: 18.00\n",
      "Lower Bound: 125.00\n",
      "Upper Bound: 197.00\n",
      "Outliers: [20, 55, 26, 64, 88, 250, 22, 33, 43, 355, 300]\n",
      "Data after removing outliers: [152, 153, 154, 150, 151, 155, 156, 157, 158, 159, 158, 159, 160, 161, 162, 163, 164, 165, 166, 167, 168, 169, 170, 171, 172, 174, 175, 176, 177, 178]\n"
     ]
    }
   ],
   "source": [
    "data = [152, 153, 154, 20, 55, 26, 64, 88, 150, 151, 155, 156, 157, 158, \n",
    "        159, 250, 158, 22, 33, 43, 159, 160, 161, 162, 163, 164, 165, \n",
    "        166, 167, 168, 169, 170, 171, 172, 355, 174, 175, 176, 177, 178, 300]\n",
    "cd = pd.Series(data)\n",
    "\n",
    "# Q1, Q3, and IQR\n",
    "Q1 = cd.quantile(0.25)  # 25th percentile\n",
    "Q3 = cd.quantile(0.75)  # 75th percentile\n",
    "IQR = Q3 - Q1\n",
    "\n",
    "# Determining outlier boundaries\n",
    "lower_bound = Q1 - 1.5 * IQR\n",
    "upper_bound = Q3 + 1.5 * IQR\n",
    "\n",
    "# Identifying outliers\n",
    "outliers = cd[(cd < lower_bound) | (cd > upper_bound)]\n",
    "\n",
    "# Removing outliers\n",
    "filtered_data = cd[(cd >= lower_bound) & (cd <= upper_bound)]\n",
    "\n",
    "print(f\"Q1 (25th percentile): {Q1:.2f}\")\n",
    "print(f\"Q3 (75th percentile): {Q3:.2f}\")\n",
    "print(f\"IQR: {IQR:.2f}\")\n",
    "print(f\"Lower Bound: {lower_bound:.2f}\")\n",
    "print(f\"Upper Bound: {upper_bound:.2f}\")\n",
    "print(f\"Outliers: {list(outliers)}\")\n",
    "print(f\"Data after removing outliers: {list(filtered_data)}\")"
   ]
  },
  {
   "cell_type": "code",
   "execution_count": null,
   "id": "c89ed75d-fd42-413c-9a7d-2147c9ca3ac8",
   "metadata": {},
   "outputs": [],
   "source": [
    "#Q8.In the population, the mean weight is 82. A team of dietitians wants\n",
    "#to test a new protein supplier to see if it has either a positive or\n",
    "#negative effect on diet, or no effect at all. A sample of 15\n",
    "#participants who have taken the protein supplier. Did the protein\n",
    "#supplier affect diet? Where alpha=0.05.\n",
    "# before = [90, 82, 77, 81]\n",
    "# after = [85, 88, 86, 80]"
   ]
  },
  {
   "cell_type": "code",
   "execution_count": 61,
   "id": "e940d90c-bfe3-44dc-b44c-59610930f144",
   "metadata": {},
   "outputs": [
    {
     "name": "stdout",
     "output_type": "stream",
     "text": [
      "t-statistic: 2.06\n",
      "p-value: 0.0585\n",
      "Fail to reject the null hypothesis: The protein supplier does not significantly affect diet.\n"
     ]
    }
   ],
   "source": [
    "# since we are comparing before and after we use paired t-test\n",
    "from scipy.stats import ttest_rel\n",
    "before = np.array([90, 82, 77, 81,98,100 ,111 ,84 ,85 ,81 ,81 ,73 ,81 ,89 ,83 ])\n",
    "after = np.array([85, 88, 86, 80,86 ,99 ,98 ,79 ,79 ,78 ,76 ,78 ,78 ,74 ,78 ])\n",
    "\n",
    "\n",
    "# Paired t-test\n",
    "t_stat, p_value = ttest_rel(before, after)\n",
    "\n",
    "# Significance level\n",
    "alpha = 0.05\n",
    "\n",
    "print(f\"t-statistic: {t_stat:.2f}\")\n",
    "print(f\"p-value: {p_value:.4f}\")\n",
    "\n",
    "if p_value < alpha:\n",
    "    print(\"Reject the null hypothesis: The protein supplier significantly affects diet.\")\n",
    "else:\n",
    "    print(\"Fail to reject the null hypothesis: The protein supplier does not significantly affect diet.\")"
   ]
  },
  {
   "cell_type": "code",
   "execution_count": null,
   "id": "6432fe99-fe89-4720-9fa8-2c4bcde0d5b7",
   "metadata": {},
   "outputs": [],
   "source": [
    "# since we are comparing mean of three sample data we use one way anova"
   ]
  },
  {
   "cell_type": "code",
   "execution_count": 63,
   "id": "435de5e6-f1ed-4147-aabe-2210de71ed57",
   "metadata": {},
   "outputs": [
    {
     "name": "stdout",
     "output_type": "stream",
     "text": [
      "F-statistic: 1.5526\n",
      "p-value: 0.2439\n",
      "Fail to reject the null hypothesis: The groups performed the same.\n"
     ]
    }
   ],
   "source": [
    "from scipy.stats import f_oneway\n",
    "\n",
    "Group1_Marks = [80, 30, 40, 70, 88, 85]\n",
    "Group2_Marks = [96, 77, 65, 88, 74, 83]\n",
    "Group3_Marks = [90, 87, 75, 58, 84, 90]\n",
    "\n",
    "# Performing one way anova\n",
    "F_stat, p_value = f_oneway(Group1_Marks, Group2_Marks, Group3_Marks)\n",
    "\n",
    "# Significance level\n",
    "alpha = 0.05\n",
    "\n",
    "print(f\"F-statistic: {F_stat:.4f}\")\n",
    "print(f\"p-value: {p_value:.4f}\")\n",
    "\n",
    "if p_value < alpha:\n",
    "    print(\"Reject the null hypothesis: The groups performed differently.\")\n",
    "else:\n",
    "    print(\"Fail to reject the null hypothesis: The groups performed the same.\")"
   ]
  },
  {
   "cell_type": "code",
   "execution_count": null,
   "id": "65204b3e-4f0e-4974-acae-d7561079df53",
   "metadata": {},
   "outputs": [],
   "source": [
    "#The number of customers that arrive on different days in a week at\n",
    "#the Hotel Taj is given below. Test the claim that the different days of the week have the same frequency of customers. (Use the\n",
    "#significance level as 0.1.**)"
   ]
  },
  {
   "cell_type": "code",
   "execution_count": 91,
   "id": "79a0fe51-18ad-46d2-aa6b-a82dca95352a",
   "metadata": {},
   "outputs": [
    {
     "name": "stdout",
     "output_type": "stream",
     "text": [
      "p-value: 0.0000\n",
      "Reject the null hypothesis: The frequency of customers is not the same for all days.\n"
     ]
    }
   ],
   "source": [
    "observed = [1419, 1320, 1526, 1289, 1620, 2067, 2055]\n",
    "total_customers = 11296\n",
    "days = 7\n",
    "\n",
    "# Calculating expected frequency for each day which is just mean of observed value\n",
    "expected = [total_customers / days] * days\n",
    "from scipy.stats import chisquare\n",
    "\n",
    "# perform chi-square goodness of fit test\n",
    "stat,p_val= chisquare(f_obs=observed,f_exp=expected)\n",
    "\n",
    "# Significance level\n",
    "alpha = 0.1\n",
    "print(f\"p-value: {p_val:.4f}\")\n",
    "\n",
    "if p_val < alpha:\n",
    "     print(\"Reject the null hypothesis: The frequency of customers is not the same for all days.\")\n",
    "else:\n",
    "    print(\"Fail to reject the null hypothesis: The frequency of customers is the same for all days.\")"
   ]
  },
  {
   "cell_type": "code",
   "execution_count": null,
   "id": "3276731f-2f24-4a1e-99e7-fae6e25747e1",
   "metadata": {},
   "outputs": [],
   "source": []
  }
 ],
 "metadata": {
  "kernelspec": {
   "display_name": "Python 3 (ipykernel)",
   "language": "python",
   "name": "python3"
  },
  "language_info": {
   "codemirror_mode": {
    "name": "ipython",
    "version": 3
   },
   "file_extension": ".py",
   "mimetype": "text/x-python",
   "name": "python",
   "nbconvert_exporter": "python",
   "pygments_lexer": "ipython3",
   "version": "3.12.4"
  }
 },
 "nbformat": 4,
 "nbformat_minor": 5
}
