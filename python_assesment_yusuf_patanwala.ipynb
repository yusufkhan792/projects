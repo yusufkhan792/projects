{
 "cells": [
  {
   "cell_type": "code",
   "execution_count": 1,
   "id": "1a8938de-17b7-410a-b202-46a02f13b569",
   "metadata": {},
   "outputs": [
    {
     "name": "stdout",
     "output_type": "stream",
     "text": [
      "No. of letters is 9\n",
      "No. of digits is 3\n",
      "No. of special_sym is 4\n"
     ]
    }
   ],
   "source": [
    "# Q1. Count all letters, digits, and special symbols from a given string\n",
    "# str1 = \"I@#ma26rt^&ic5us\"\n",
    "str1 = \"I@#ma26rt^&ic5us\"\n",
    "letters = 0\n",
    "digits = 0 \n",
    "special_sym = 0\n",
    "for i in str1:\n",
    "    if i.isalpha():\n",
    "        letters+=1\n",
    "    elif i.isdigit():\n",
    "        digits+=1\n",
    "    else:\n",
    "        special_sym+=1\n",
    "print(f\"No. of letters is {letters}\")\n",
    "print(f\"No. of digits is {digits}\")\n",
    "print(f\"No. of special_sym is {special_sym}\")\n",
    "        \n"
   ]
  },
  {
   "cell_type": "code",
   "execution_count": 11,
   "id": "f9dc2a29-1649-4a2c-b29f-a35ecbc7f6f8",
   "metadata": {},
   "outputs": [
    {
     "data": {
      "text/plain": [
       "[19, 65, 57, 39, 152, 190]"
      ]
     },
     "execution_count": 11,
     "metadata": {},
     "output_type": "execute_result"
    }
   ],
   "source": [
    "# Q.2 Write a Python program to find numbers divisible by nineteen or thirteen from a list of numbers using Lambda.\n",
    "a=[19, 65, 57, 39, 152, 639, 121, 44, 90, 190]\n",
    "list(filter(lambda c:c%19==0 or c%13==0,a))"
   ]
  },
  {
   "cell_type": "code",
   "execution_count": 35,
   "id": "0f3ee547-3db2-4a14-8b82-80f16989b012",
   "metadata": {},
   "outputs": [
    {
     "name": "stdout",
     "output_type": "stream",
     "text": [
      "words less than 5 letters are  ['to', 'List', 'in', 'Your']\n"
     ]
    }
   ],
   "source": [
    "#Q3. Find all of the words in a string that are less than 5 letters.\n",
    "x = \"Practice Problems to Drill List Comprehension in Your Head.\"\n",
    "y=x.split()\n",
    "a= []\n",
    "for i in y:\n",
    "    if len(i)<5:\n",
    "        a.append(i)\n",
    "print(\"words less than 5 letters are \", a)"
   ]
  },
  {
   "cell_type": "code",
   "execution_count": 41,
   "id": "fb587075-45df-4fb3-91f2-2ec3a07f61e1",
   "metadata": {},
   "outputs": [
    {
     "name": "stdout",
     "output_type": "stream",
     "text": [
      "words less than 5 letters are  ['to', 'List', 'in', 'Your']\n"
     ]
    }
   ],
   "source": [
    "b = [i for i in y if len(i)<5] # using list comprehension\n",
    "print(\"words less than 5 letters are \",b)"
   ]
  },
  {
   "cell_type": "code",
   "execution_count": 59,
   "id": "9f80cbb9-d279-483c-af5a-aa557ef8f50c",
   "metadata": {},
   "outputs": [
    {
     "name": "stdin",
     "output_type": "stream",
     "text": [
      "enter your income :  45000\n"
     ]
    },
    {
     "name": "stdout",
     "output_type": "stream",
     "text": [
      "tax on $45000 is $6000.00\n"
     ]
    }
   ],
   "source": [
    "# Q4.Calculate income tax for the given income by adhering to the below rules:\n",
    "income = int(input(\"enter your income : \"))\n",
    "if income <= 10000:\n",
    "        tax = 0\n",
    "elif income <= 20000:\n",
    "    tax = (income - 10000) * 0.1\n",
    "else:\n",
    "    tax = (10000 * 0.1) + ((income - 20000) * 0.2)\n",
    "print(f\"tax on ${income} is ${tax:.2f}\")\n"
   ]
  },
  {
   "cell_type": "code",
   "execution_count": 65,
   "id": "ac6686fd-0a86-4645-b125-1ff83cdfd0d4",
   "metadata": {},
   "outputs": [],
   "source": [
    "#Q5 Given below are the list of positive and negative words.\n",
    "#Also, a list of tweets is provided. Separate out the positive and negative comments.\n",
    "positive = ['good','awesome', 'best', 'nice']\n",
    "negative = ['worst','awful', 'bad']\n",
    "tweets = ['This government policies are good', 'bad implementation', \n",
    "          'The way he played showed that he is one of the best players in the world',\n",
    "          'Her acting in the play was awesome', 'The wine tastes awful',\n",
    "          \"It's nice to hear this little kid's laugh\"]"
   ]
  },
  {
   "cell_type": "code",
   "execution_count": 83,
   "id": "c9d1221b-77a0-4926-9534-9a14fd83e719",
   "metadata": {},
   "outputs": [],
   "source": [
    "positive_comments = []\n",
    "negative_comments = []\n",
    "\n",
    "for i in tweets:\n",
    "    if any(word in i for word in positive):\n",
    "        positive_comments.append(i)\n",
    "    elif any(word in i for word in negative):\n",
    "        negative_comments.append(i)\n"
   ]
  },
  {
   "cell_type": "code",
   "execution_count": 89,
   "id": "e9d6c3f4-0ccc-44d5-8713-fef6142957ac",
   "metadata": {},
   "outputs": [
    {
     "name": "stdout",
     "output_type": "stream",
     "text": [
      "Positive comments:\n",
      "- This government policies are good\n",
      "- The way he played showed that he is one of the best players in the world\n",
      "- Her acting in the play was awesome\n",
      "- It's nice to hear this little kid's laugh\n",
      "Negative comments:\n",
      "- bad implementation\n",
      "- The wine tastes awful\n"
     ]
    }
   ],
   "source": [
    "print(\"Positive comments:\")\n",
    "for comment in positive_comments:\n",
    "    print(f\"- {comment}\")\n",
    "\n",
    "print(\"Negative comments:\")\n",
    "for comment in negative_comments:\n",
    "    print(f\"- {comment}\")"
   ]
  },
  {
   "cell_type": "code",
   "execution_count": 117,
   "id": "43d278a9-b055-4f27-beb8-288d74b7818b",
   "metadata": {},
   "outputs": [
    {
     "name": "stdout",
     "output_type": "stream",
     "text": [
      "['a', 'b', ['c', ['d', 'e', ['f', 'g', 'h', 'i', 'j'], 'k'], 'l'], 'm', 'n']\n"
     ]
    }
   ],
   "source": [
    "#Q.6 Extend nested list by adding the sublist.\n",
    "# You have given a nested list. Write a program to extend it by adding the sublist [\"h\", \"i\", \"j\"] in such a way that it will look\n",
    "list1 = [\"a\", \"b\", [\"c\", [\"d\", \"e\", [\"f\", \"g\"], \"k\"], \"l\"], \"m\", \"n\"]\n",
    "sub_list = [\"h\", \"i\", \"j\"]\n",
    "list1[2][1][2].extend([\"h\", \"i\", \"j\"])\n",
    "print(list1)"
   ]
  },
  {
   "cell_type": "code",
   "execution_count": 123,
   "id": "9c8d5e79-4264-416b-b842-66b236209870",
   "metadata": {},
   "outputs": [],
   "source": [
    "# Q.7 Remove and add item in a list.\n",
    "# Write a program to remove the item present at index 4 and add it to the 2nd position and at the end of the list.\n",
    "list1 = [54, 44, 27, 79, 91, 41]\n",
    "a = list1.pop(4)\n",
    "list1.insert(1,a)\n",
    "list1.append(a)"
   ]
  },
  {
   "cell_type": "code",
   "execution_count": 125,
   "id": "91cf456f-789b-407a-961c-db333a2c02f2",
   "metadata": {},
   "outputs": [
    {
     "data": {
      "text/plain": [
       "[54, 91, 44, 27, 79, 41, 91]"
      ]
     },
     "execution_count": 125,
     "metadata": {},
     "output_type": "execute_result"
    }
   ],
   "source": [
    "list1"
   ]
  },
  {
   "cell_type": "code",
   "execution_count": 127,
   "id": "7fff3abb-d2d8-428f-9c25-42d9530798cb",
   "metadata": {},
   "outputs": [],
   "source": [
    "# Q.8 Load the iris dataset and Find only those records whose sepal_length = 5.1 and sepal_width = 3.5\n",
    "import seaborn as sns"
   ]
  },
  {
   "cell_type": "code",
   "execution_count": 129,
   "id": "03e82124-156c-44f7-8281-eaf768dbbc57",
   "metadata": {},
   "outputs": [
    {
     "data": {
      "text/plain": [
       "['anagrams',\n",
       " 'anscombe',\n",
       " 'attention',\n",
       " 'brain_networks',\n",
       " 'car_crashes',\n",
       " 'diamonds',\n",
       " 'dots',\n",
       " 'dowjones',\n",
       " 'exercise',\n",
       " 'flights',\n",
       " 'fmri',\n",
       " 'geyser',\n",
       " 'glue',\n",
       " 'healthexp',\n",
       " 'iris',\n",
       " 'mpg',\n",
       " 'penguins',\n",
       " 'planets',\n",
       " 'seaice',\n",
       " 'taxis',\n",
       " 'tips',\n",
       " 'titanic']"
      ]
     },
     "execution_count": 129,
     "metadata": {},
     "output_type": "execute_result"
    }
   ],
   "source": [
    "sns.get_dataset_names()"
   ]
  },
  {
   "cell_type": "code",
   "execution_count": 133,
   "id": "dab07239-f6fd-4fb0-8069-0981782f4465",
   "metadata": {},
   "outputs": [
    {
     "data": {
      "text/html": [
       "<div>\n",
       "<style scoped>\n",
       "    .dataframe tbody tr th:only-of-type {\n",
       "        vertical-align: middle;\n",
       "    }\n",
       "\n",
       "    .dataframe tbody tr th {\n",
       "        vertical-align: top;\n",
       "    }\n",
       "\n",
       "    .dataframe thead th {\n",
       "        text-align: right;\n",
       "    }\n",
       "</style>\n",
       "<table border=\"1\" class=\"dataframe\">\n",
       "  <thead>\n",
       "    <tr style=\"text-align: right;\">\n",
       "      <th></th>\n",
       "      <th>sepal_length</th>\n",
       "      <th>sepal_width</th>\n",
       "      <th>petal_length</th>\n",
       "      <th>petal_width</th>\n",
       "      <th>species</th>\n",
       "    </tr>\n",
       "  </thead>\n",
       "  <tbody>\n",
       "    <tr>\n",
       "      <th>0</th>\n",
       "      <td>5.1</td>\n",
       "      <td>3.5</td>\n",
       "      <td>1.4</td>\n",
       "      <td>0.2</td>\n",
       "      <td>setosa</td>\n",
       "    </tr>\n",
       "    <tr>\n",
       "      <th>1</th>\n",
       "      <td>4.9</td>\n",
       "      <td>3.0</td>\n",
       "      <td>1.4</td>\n",
       "      <td>0.2</td>\n",
       "      <td>setosa</td>\n",
       "    </tr>\n",
       "    <tr>\n",
       "      <th>2</th>\n",
       "      <td>4.7</td>\n",
       "      <td>3.2</td>\n",
       "      <td>1.3</td>\n",
       "      <td>0.2</td>\n",
       "      <td>setosa</td>\n",
       "    </tr>\n",
       "    <tr>\n",
       "      <th>3</th>\n",
       "      <td>4.6</td>\n",
       "      <td>3.1</td>\n",
       "      <td>1.5</td>\n",
       "      <td>0.2</td>\n",
       "      <td>setosa</td>\n",
       "    </tr>\n",
       "    <tr>\n",
       "      <th>4</th>\n",
       "      <td>5.0</td>\n",
       "      <td>3.6</td>\n",
       "      <td>1.4</td>\n",
       "      <td>0.2</td>\n",
       "      <td>setosa</td>\n",
       "    </tr>\n",
       "    <tr>\n",
       "      <th>...</th>\n",
       "      <td>...</td>\n",
       "      <td>...</td>\n",
       "      <td>...</td>\n",
       "      <td>...</td>\n",
       "      <td>...</td>\n",
       "    </tr>\n",
       "    <tr>\n",
       "      <th>145</th>\n",
       "      <td>6.7</td>\n",
       "      <td>3.0</td>\n",
       "      <td>5.2</td>\n",
       "      <td>2.3</td>\n",
       "      <td>virginica</td>\n",
       "    </tr>\n",
       "    <tr>\n",
       "      <th>146</th>\n",
       "      <td>6.3</td>\n",
       "      <td>2.5</td>\n",
       "      <td>5.0</td>\n",
       "      <td>1.9</td>\n",
       "      <td>virginica</td>\n",
       "    </tr>\n",
       "    <tr>\n",
       "      <th>147</th>\n",
       "      <td>6.5</td>\n",
       "      <td>3.0</td>\n",
       "      <td>5.2</td>\n",
       "      <td>2.0</td>\n",
       "      <td>virginica</td>\n",
       "    </tr>\n",
       "    <tr>\n",
       "      <th>148</th>\n",
       "      <td>6.2</td>\n",
       "      <td>3.4</td>\n",
       "      <td>5.4</td>\n",
       "      <td>2.3</td>\n",
       "      <td>virginica</td>\n",
       "    </tr>\n",
       "    <tr>\n",
       "      <th>149</th>\n",
       "      <td>5.9</td>\n",
       "      <td>3.0</td>\n",
       "      <td>5.1</td>\n",
       "      <td>1.8</td>\n",
       "      <td>virginica</td>\n",
       "    </tr>\n",
       "  </tbody>\n",
       "</table>\n",
       "<p>150 rows × 5 columns</p>\n",
       "</div>"
      ],
      "text/plain": [
       "     sepal_length  sepal_width  petal_length  petal_width    species\n",
       "0             5.1          3.5           1.4          0.2     setosa\n",
       "1             4.9          3.0           1.4          0.2     setosa\n",
       "2             4.7          3.2           1.3          0.2     setosa\n",
       "3             4.6          3.1           1.5          0.2     setosa\n",
       "4             5.0          3.6           1.4          0.2     setosa\n",
       "..            ...          ...           ...          ...        ...\n",
       "145           6.7          3.0           5.2          2.3  virginica\n",
       "146           6.3          2.5           5.0          1.9  virginica\n",
       "147           6.5          3.0           5.2          2.0  virginica\n",
       "148           6.2          3.4           5.4          2.3  virginica\n",
       "149           5.9          3.0           5.1          1.8  virginica\n",
       "\n",
       "[150 rows x 5 columns]"
      ]
     },
     "execution_count": 133,
     "metadata": {},
     "output_type": "execute_result"
    }
   ],
   "source": [
    "iris = sns.load_dataset(\"iris\")\n",
    "iris"
   ]
  },
  {
   "cell_type": "code",
   "execution_count": 137,
   "id": "c5ef1748-42cc-487b-9738-ed91320b43fb",
   "metadata": {},
   "outputs": [
    {
     "data": {
      "text/html": [
       "<div>\n",
       "<style scoped>\n",
       "    .dataframe tbody tr th:only-of-type {\n",
       "        vertical-align: middle;\n",
       "    }\n",
       "\n",
       "    .dataframe tbody tr th {\n",
       "        vertical-align: top;\n",
       "    }\n",
       "\n",
       "    .dataframe thead th {\n",
       "        text-align: right;\n",
       "    }\n",
       "</style>\n",
       "<table border=\"1\" class=\"dataframe\">\n",
       "  <thead>\n",
       "    <tr style=\"text-align: right;\">\n",
       "      <th></th>\n",
       "      <th>sepal_length</th>\n",
       "      <th>sepal_width</th>\n",
       "      <th>petal_length</th>\n",
       "      <th>petal_width</th>\n",
       "      <th>species</th>\n",
       "    </tr>\n",
       "  </thead>\n",
       "  <tbody>\n",
       "    <tr>\n",
       "      <th>0</th>\n",
       "      <td>5.1</td>\n",
       "      <td>3.5</td>\n",
       "      <td>1.4</td>\n",
       "      <td>0.2</td>\n",
       "      <td>setosa</td>\n",
       "    </tr>\n",
       "    <tr>\n",
       "      <th>17</th>\n",
       "      <td>5.1</td>\n",
       "      <td>3.5</td>\n",
       "      <td>1.4</td>\n",
       "      <td>0.3</td>\n",
       "      <td>setosa</td>\n",
       "    </tr>\n",
       "  </tbody>\n",
       "</table>\n",
       "</div>"
      ],
      "text/plain": [
       "    sepal_length  sepal_width  petal_length  petal_width species\n",
       "0            5.1          3.5           1.4          0.2  setosa\n",
       "17           5.1          3.5           1.4          0.3  setosa"
      ]
     },
     "execution_count": 137,
     "metadata": {},
     "output_type": "execute_result"
    }
   ],
   "source": [
    "iris.loc[(iris[\"sepal_length\"]==5.1) & (iris[\"sepal_width\"]==3.5)]"
   ]
  },
  {
   "cell_type": "code",
   "execution_count": 151,
   "id": "d8c4c3d9-fd88-4d7e-843d-f878b9760375",
   "metadata": {},
   "outputs": [],
   "source": [
    "# Q.9 Check for Maximum petal_length and convert it in to 7.2 and min petal_length and convert it in to 1.2\n",
    "iris.loc[(iris[\"sepal_length\"]==iris[\"petal_length\"].max())]= 7.2"
   ]
  },
  {
   "cell_type": "code",
   "execution_count": 153,
   "id": "7eb5e538-b9c1-4d11-a7de-cce97aae609e",
   "metadata": {},
   "outputs": [],
   "source": [
    "iris.loc[(iris[\"sepal_length\"]==iris[\"petal_length\"].min())]= 1.2"
   ]
  },
  {
   "cell_type": "code",
   "execution_count": 155,
   "id": "66ea5d1f-f33d-4175-92f5-e8bda17665fc",
   "metadata": {},
   "outputs": [
    {
     "data": {
      "text/plain": [
       "7.2"
      ]
     },
     "execution_count": 155,
     "metadata": {},
     "output_type": "execute_result"
    }
   ],
   "source": [
    "iris[\"petal_length\"].max()"
   ]
  },
  {
   "cell_type": "code",
   "execution_count": 157,
   "id": "ea300475-4c3c-4582-9320-b8d1a922bcbb",
   "metadata": {},
   "outputs": [
    {
     "data": {
      "text/plain": [
       "1.0"
      ]
     },
     "execution_count": 157,
     "metadata": {},
     "output_type": "execute_result"
    }
   ],
   "source": [
    "iris[\"petal_length\"].min()"
   ]
  },
  {
   "cell_type": "code",
   "execution_count": 159,
   "id": "962d43a3-904c-42d1-bc5a-fffd84130d27",
   "metadata": {},
   "outputs": [],
   "source": [
    "# Q.10 Perform right join to combine values based on the 'ID' in the two dataframes.\n",
    "# Use the dataframe given below, read the DataFrame with the help of clipboard function\n",
    "import pandas as pd"
   ]
  },
  {
   "cell_type": "code",
   "execution_count": 173,
   "id": "5122eae8-6dd3-4bf0-92f9-c0b5d92b5e56",
   "metadata": {},
   "outputs": [],
   "source": [
    "df1 = pd.read_clipboard()"
   ]
  },
  {
   "cell_type": "code",
   "execution_count": 175,
   "id": "1a6fdd77-5d3e-4b5f-9514-1147ce1b038b",
   "metadata": {},
   "outputs": [
    {
     "data": {
      "text/html": [
       "<div>\n",
       "<style scoped>\n",
       "    .dataframe tbody tr th:only-of-type {\n",
       "        vertical-align: middle;\n",
       "    }\n",
       "\n",
       "    .dataframe tbody tr th {\n",
       "        vertical-align: top;\n",
       "    }\n",
       "\n",
       "    .dataframe thead th {\n",
       "        text-align: right;\n",
       "    }\n",
       "</style>\n",
       "<table border=\"1\" class=\"dataframe\">\n",
       "  <thead>\n",
       "    <tr style=\"text-align: right;\">\n",
       "      <th></th>\n",
       "      <th>ID</th>\n",
       "      <th>Candidate_Name</th>\n",
       "      <th>Subject</th>\n",
       "    </tr>\n",
       "  </thead>\n",
       "  <tbody>\n",
       "    <tr>\n",
       "      <th>0</th>\n",
       "      <td>101</td>\n",
       "      <td>Alex</td>\n",
       "      <td>History</td>\n",
       "    </tr>\n",
       "    <tr>\n",
       "      <th>1</th>\n",
       "      <td>102</td>\n",
       "      <td>Amy</td>\n",
       "      <td>English</td>\n",
       "    </tr>\n",
       "    <tr>\n",
       "      <th>2</th>\n",
       "      <td>103</td>\n",
       "      <td>Allen</td>\n",
       "      <td>Geography</td>\n",
       "    </tr>\n",
       "    <tr>\n",
       "      <th>3</th>\n",
       "      <td>104</td>\n",
       "      <td>Alice</td>\n",
       "      <td>German</td>\n",
       "    </tr>\n",
       "    <tr>\n",
       "      <th>4</th>\n",
       "      <td>105</td>\n",
       "      <td>James</td>\n",
       "      <td>History</td>\n",
       "    </tr>\n",
       "    <tr>\n",
       "      <th>5</th>\n",
       "      <td>106</td>\n",
       "      <td>Sara</td>\n",
       "      <td>German</td>\n",
       "    </tr>\n",
       "    <tr>\n",
       "      <th>6</th>\n",
       "      <td>107</td>\n",
       "      <td>Mia</td>\n",
       "      <td>English</td>\n",
       "    </tr>\n",
       "  </tbody>\n",
       "</table>\n",
       "</div>"
      ],
      "text/plain": [
       "    ID Candidate_Name    Subject\n",
       "0  101           Alex    History\n",
       "1  102            Amy    English\n",
       "2  103          Allen  Geography\n",
       "3  104          Alice     German\n",
       "4  105          James    History\n",
       "5  106           Sara     German\n",
       "6  107            Mia    English"
      ]
     },
     "execution_count": 175,
     "metadata": {},
     "output_type": "execute_result"
    }
   ],
   "source": [
    "df1"
   ]
  },
  {
   "cell_type": "code",
   "execution_count": 167,
   "id": "48da62f7-df94-408a-9bb7-ea35d7f9c6cf",
   "metadata": {},
   "outputs": [],
   "source": [
    "df2 = pd.read_clipboard()"
   ]
  },
  {
   "cell_type": "code",
   "execution_count": 169,
   "id": "c66def42-6402-4e31-8016-2f5d11894d3e",
   "metadata": {},
   "outputs": [
    {
     "data": {
      "text/html": [
       "<div>\n",
       "<style scoped>\n",
       "    .dataframe tbody tr th:only-of-type {\n",
       "        vertical-align: middle;\n",
       "    }\n",
       "\n",
       "    .dataframe tbody tr th {\n",
       "        vertical-align: top;\n",
       "    }\n",
       "\n",
       "    .dataframe thead th {\n",
       "        text-align: right;\n",
       "    }\n",
       "</style>\n",
       "<table border=\"1\" class=\"dataframe\">\n",
       "  <thead>\n",
       "    <tr style=\"text-align: right;\">\n",
       "      <th></th>\n",
       "      <th>ID</th>\n",
       "      <th>City</th>\n",
       "      <th>Subject_Score</th>\n",
       "    </tr>\n",
       "  </thead>\n",
       "  <tbody>\n",
       "    <tr>\n",
       "      <th>0</th>\n",
       "      <td>101</td>\n",
       "      <td>Delhi</td>\n",
       "      <td>89</td>\n",
       "    </tr>\n",
       "    <tr>\n",
       "      <th>1</th>\n",
       "      <td>102</td>\n",
       "      <td>Mumbai</td>\n",
       "      <td>78</td>\n",
       "    </tr>\n",
       "    <tr>\n",
       "      <th>2</th>\n",
       "      <td>103</td>\n",
       "      <td>Delhi</td>\n",
       "      <td>77</td>\n",
       "    </tr>\n",
       "    <tr>\n",
       "      <th>3</th>\n",
       "      <td>104</td>\n",
       "      <td>Chennai</td>\n",
       "      <td>87</td>\n",
       "    </tr>\n",
       "    <tr>\n",
       "      <th>4</th>\n",
       "      <td>105</td>\n",
       "      <td>Hyderabad</td>\n",
       "      <td>87</td>\n",
       "    </tr>\n",
       "    <tr>\n",
       "      <th>5</th>\n",
       "      <td>108</td>\n",
       "      <td>Delhi</td>\n",
       "      <td>84</td>\n",
       "    </tr>\n",
       "  </tbody>\n",
       "</table>\n",
       "</div>"
      ],
      "text/plain": [
       "    ID       City  Subject_Score\n",
       "0  101      Delhi             89\n",
       "1  102     Mumbai             78\n",
       "2  103      Delhi             77\n",
       "3  104    Chennai             87\n",
       "4  105  Hyderabad             87\n",
       "5  108      Delhi             84"
      ]
     },
     "execution_count": 169,
     "metadata": {},
     "output_type": "execute_result"
    }
   ],
   "source": [
    "df2"
   ]
  },
  {
   "cell_type": "code",
   "execution_count": 177,
   "id": "39f1c455-3424-4269-acb7-3264df074ecf",
   "metadata": {},
   "outputs": [
    {
     "data": {
      "text/html": [
       "<div>\n",
       "<style scoped>\n",
       "    .dataframe tbody tr th:only-of-type {\n",
       "        vertical-align: middle;\n",
       "    }\n",
       "\n",
       "    .dataframe tbody tr th {\n",
       "        vertical-align: top;\n",
       "    }\n",
       "\n",
       "    .dataframe thead th {\n",
       "        text-align: right;\n",
       "    }\n",
       "</style>\n",
       "<table border=\"1\" class=\"dataframe\">\n",
       "  <thead>\n",
       "    <tr style=\"text-align: right;\">\n",
       "      <th></th>\n",
       "      <th>ID</th>\n",
       "      <th>Candidate_Name</th>\n",
       "      <th>Subject</th>\n",
       "      <th>City</th>\n",
       "      <th>Subject_Score</th>\n",
       "    </tr>\n",
       "  </thead>\n",
       "  <tbody>\n",
       "    <tr>\n",
       "      <th>0</th>\n",
       "      <td>101</td>\n",
       "      <td>Alex</td>\n",
       "      <td>History</td>\n",
       "      <td>Delhi</td>\n",
       "      <td>89</td>\n",
       "    </tr>\n",
       "    <tr>\n",
       "      <th>1</th>\n",
       "      <td>102</td>\n",
       "      <td>Amy</td>\n",
       "      <td>English</td>\n",
       "      <td>Mumbai</td>\n",
       "      <td>78</td>\n",
       "    </tr>\n",
       "    <tr>\n",
       "      <th>2</th>\n",
       "      <td>103</td>\n",
       "      <td>Allen</td>\n",
       "      <td>Geography</td>\n",
       "      <td>Delhi</td>\n",
       "      <td>77</td>\n",
       "    </tr>\n",
       "    <tr>\n",
       "      <th>3</th>\n",
       "      <td>104</td>\n",
       "      <td>Alice</td>\n",
       "      <td>German</td>\n",
       "      <td>Chennai</td>\n",
       "      <td>87</td>\n",
       "    </tr>\n",
       "    <tr>\n",
       "      <th>4</th>\n",
       "      <td>105</td>\n",
       "      <td>James</td>\n",
       "      <td>History</td>\n",
       "      <td>Hyderabad</td>\n",
       "      <td>87</td>\n",
       "    </tr>\n",
       "    <tr>\n",
       "      <th>5</th>\n",
       "      <td>108</td>\n",
       "      <td>NaN</td>\n",
       "      <td>NaN</td>\n",
       "      <td>Delhi</td>\n",
       "      <td>84</td>\n",
       "    </tr>\n",
       "  </tbody>\n",
       "</table>\n",
       "</div>"
      ],
      "text/plain": [
       "    ID Candidate_Name    Subject       City  Subject_Score\n",
       "0  101           Alex    History      Delhi             89\n",
       "1  102            Amy    English     Mumbai             78\n",
       "2  103          Allen  Geography      Delhi             77\n",
       "3  104          Alice     German    Chennai             87\n",
       "4  105          James    History  Hyderabad             87\n",
       "5  108            NaN        NaN      Delhi             84"
      ]
     },
     "execution_count": 177,
     "metadata": {},
     "output_type": "execute_result"
    }
   ],
   "source": [
    "new = pd.merge(df1, df2, on='ID', how='right')\n",
    "new"
   ]
  },
  {
   "cell_type": "code",
   "execution_count": null,
   "id": "79e94b46-80d0-42a3-a235-8cb47dc84a84",
   "metadata": {},
   "outputs": [],
   "source": []
  }
 ],
 "metadata": {
  "kernelspec": {
   "display_name": "Python 3 (ipykernel)",
   "language": "python",
   "name": "python3"
  },
  "language_info": {
   "codemirror_mode": {
    "name": "ipython",
    "version": 3
   },
   "file_extension": ".py",
   "mimetype": "text/x-python",
   "name": "python",
   "nbconvert_exporter": "python",
   "pygments_lexer": "ipython3",
   "version": "3.12.4"
  }
 },
 "nbformat": 4,
 "nbformat_minor": 5
}
