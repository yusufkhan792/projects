{
 "cells": [
  {
   "cell_type": "code",
   "execution_count": 1,
   "id": "4f2c3f88-d359-4a77-8a7f-bcee27af0d8e",
   "metadata": {},
   "outputs": [],
   "source": [
    "import numpy as np\n",
    "import pandas as pd\n",
    "import matplotlib.pyplot as plt\n",
    "import seaborn as sns"
   ]
  },
  {
   "cell_type": "code",
   "execution_count": 4,
   "id": "fee7c465-ec7a-4aa1-8acf-28f18581c1a5",
   "metadata": {},
   "outputs": [],
   "source": [
    "cd = pd.Series([23, 3, 13, 4, 45, 35, 48, 98, 65, 45, 75, 24, 15, 25, 34, 17, 16, 17, 19])"
   ]
  },
  {
   "cell_type": "code",
   "execution_count": 5,
   "id": "16939453-7616-4652-b819-b2e54accc0cc",
   "metadata": {},
   "outputs": [
    {
     "data": {
      "text/plain": [
       "0     23\n",
       "1      3\n",
       "2     13\n",
       "3      4\n",
       "4     45\n",
       "5     35\n",
       "6     48\n",
       "7     98\n",
       "8     65\n",
       "9     45\n",
       "10    75\n",
       "11    24\n",
       "12    15\n",
       "13    25\n",
       "14    34\n",
       "15    17\n",
       "16    16\n",
       "17    17\n",
       "18    19\n",
       "dtype: int64"
      ]
     },
     "execution_count": 5,
     "metadata": {},
     "output_type": "execute_result"
    }
   ],
   "source": [
    "cd"
   ]
  },
  {
   "cell_type": "code",
   "execution_count": 29,
   "id": "e47260f8-789a-49a2-be0e-6bd74cf6ad12",
   "metadata": {},
   "outputs": [
    {
     "data": {
      "text/plain": [
       "32.68421052631579"
      ]
     },
     "execution_count": 29,
     "metadata": {},
     "output_type": "execute_result"
    }
   ],
   "source": [
    "cd.mean()#unreliable value as mean is affected due to outliers\n",
    "#and we can see that mean is far away from median"
   ]
  },
  {
   "cell_type": "code",
   "execution_count": 31,
   "id": "cf862baa-b92f-45bb-b16d-3df078ea4a4c",
   "metadata": {},
   "outputs": [
    {
     "data": {
      "text/plain": [
       "24.0"
      ]
     },
     "execution_count": 31,
     "metadata": {},
     "output_type": "execute_result"
    }
   ],
   "source": [
    "cd.median()# reliable value as median is not affected due to outliers"
   ]
  },
  {
   "cell_type": "code",
   "execution_count": 27,
   "id": "fbb0087a-4fc8-4cc4-902e-c392a442e3e0",
   "metadata": {},
   "outputs": [
    {
     "data": {
      "text/plain": [
       "0    17\n",
       "1    45\n",
       "dtype: int64"
      ]
     },
     "execution_count": 27,
     "metadata": {},
     "output_type": "execute_result"
    }
   ],
   "source": [
    "cd.mode()#bimodal data"
   ]
  },
  {
   "cell_type": "code",
   "execution_count": 19,
   "id": "a9039a0e-be85-4536-aee8-42caaa452474",
   "metadata": {},
   "outputs": [
    {
     "data": {
      "text/plain": [
       "count    19.000000\n",
       "mean     32.684211\n",
       "std      24.984557\n",
       "min       3.000000\n",
       "25%      16.500000\n",
       "50%      24.000000\n",
       "75%      45.000000\n",
       "max      98.000000\n",
       "dtype: float64"
      ]
     },
     "execution_count": 19,
     "metadata": {},
     "output_type": "execute_result"
    }
   ],
   "source": [
    "cd.describe()"
   ]
  },
  {
   "cell_type": "code",
   "execution_count": 25,
   "id": "ace1fda4-f7f3-4069-9934-c60ca73a5f35",
   "metadata": {},
   "outputs": [
    {
     "name": "stdout",
     "output_type": "stream",
     "text": [
      "3\n",
      "98\n"
     ]
    }
   ],
   "source": [
    "print(cd.min())\n",
    "\n",
    "print(cd.max())"
   ]
  },
  {
   "cell_type": "code",
   "execution_count": 41,
   "id": "bec327ce-4b31-4220-86eb-4043f98e9ff0",
   "metadata": {},
   "outputs": [
    {
     "name": "stdout",
     "output_type": "stream",
     "text": [
      "mean is 32.68421052631579\n",
      "24.0\n",
      "0    17\n",
      "1    45\n",
      "dtype: int64\n"
     ]
    }
   ],
   "source": [
    "print(f'mean is {cd.mean()}')\n",
    "print(cd.median())\n",
    "print(cd.mode())"
   ]
  },
  {
   "cell_type": "code",
   "execution_count": 43,
   "id": "4787b31d-b645-44a2-88b1-f95d2948a534",
   "metadata": {},
   "outputs": [
    {
     "name": "stdout",
     "output_type": "stream",
     "text": [
      "95\n"
     ]
    }
   ],
   "source": [
    "min=cd.min()\n",
    "max=cd.max()\n",
    "cd_range=max-min\n",
    "print(cd_range)"
   ]
  },
  {
   "cell_type": "code",
   "execution_count": 9,
   "id": "8285d387-9cd9-4f98-a9ba-e23593b4e5c2",
   "metadata": {},
   "outputs": [
    {
     "name": "stdout",
     "output_type": "stream",
     "text": [
      "16.5\n",
      "45.0\n",
      "32.19999999999999\n"
     ]
    }
   ],
   "source": [
    "q1=cd.quantile(0.25)\n",
    "print(q1)\n",
    "q3=cd.quantile(0.75)\n",
    "print(q3)\n",
    "print(cd.quantile(0.6))# returns the percentile value for the given argument value"
   ]
  },
  {
   "cell_type": "code",
   "execution_count": 53,
   "id": "c653ce86-a7b9-4d59-b96c-102c67803c07",
   "metadata": {},
   "outputs": [
    {
     "name": "stdout",
     "output_type": "stream",
     "text": [
      "IQR is: 28.5\n"
     ]
    }
   ],
   "source": [
    "print('IQR is:',q3-q1)"
   ]
  },
  {
   "cell_type": "code",
   "execution_count": 55,
   "id": "7801477a-43bb-4258-8c1d-4b787017fcb6",
   "metadata": {},
   "outputs": [
    {
     "name": "stdout",
     "output_type": "stream",
     "text": [
      "24.984556633557432\n",
      "624.2280701754387\n"
     ]
    }
   ],
   "source": [
    "print(cd.std())\n",
    "print(cd.var())"
   ]
  },
  {
   "cell_type": "code",
   "execution_count": 57,
   "id": "63c1fcba-e73e-4bda-a0e9-3de83e2b1a75",
   "metadata": {},
   "outputs": [
    {
     "data": {
      "text/plain": [
       "count    19.000000\n",
       "mean     32.684211\n",
       "std      24.984557\n",
       "min       3.000000\n",
       "25%      16.500000\n",
       "50%      24.000000\n",
       "75%      45.000000\n",
       "max      98.000000\n",
       "dtype: float64"
      ]
     },
     "execution_count": 57,
     "metadata": {},
     "output_type": "execute_result"
    }
   ],
   "source": [
    "cd.describe()"
   ]
  },
  {
   "cell_type": "code",
   "execution_count": 13,
   "id": "e76e1db9-3f80-45f9-b9ca-b3b8a8ad5cbd",
   "metadata": {},
   "outputs": [
    {
     "name": "stdout",
     "output_type": "stream",
     "text": [
      "28.5\n",
      "-26.25\n",
      "87.75\n"
     ]
    }
   ],
   "source": [
    "iqr=q3-q1\n",
    "print(iqr)\n",
    "lower=q1-1.5*iqr\n",
    "print(lower)\n",
    "upper=q3+1.5*iqr\n",
    "print(upper)"
   ]
  },
  {
   "cell_type": "code",
   "execution_count": 15,
   "id": "3a215ac6-40cb-4e4b-9b4f-e3da62c87ea6",
   "metadata": {},
   "outputs": [
    {
     "name": "stdout",
     "output_type": "stream",
     "text": [
      "7    98\n",
      "dtype: int64\n"
     ]
    }
   ],
   "source": [
    "outliers=cd[(cd<lower)|(cd>upper)]\n",
    "print(outliers)"
   ]
  },
  {
   "cell_type": "code",
   "execution_count": 42,
   "id": "4e0954cd-84aa-4941-9805-5dccbb5be958",
   "metadata": {},
   "outputs": [
    {
     "data": {
      "image/png": "[encoded data removed]",
      "text/plain": [
       "<Figure size 640x480 with 1 Axes>"
      ]
     },
     "metadata": {},
     "output_type": "display_data"
    }
   ],
   "source": [
    "sns.boxplot(y=cd);"
   ]
  },
  {
   "cell_type": "code",
   "execution_count": 49,
   "id": "f27cc28d-2d66-400e-b291-a5118b5a3e7e",
   "metadata": {},
   "outputs": [
    {
     "data": {
      "image/png": "[encoded data removed]",
      "text/plain": [
       "<Figure size 640x480 with 1 Axes>"
      ]
     },
     "metadata": {},
     "output_type": "display_data"
    }
   ],
   "source": [
    "sns.boxplot(x=cd);"
   ]
  },
  {
   "cell_type": "code",
   "execution_count": 5,
   "id": "d4bd06f9-ec67-424a-b1e4-c23140d3619b",
   "metadata": {},
   "outputs": [],
   "source": [
    "h = pd.Series([162, 158, 149, 167, 162, 154, 172, 160, 164, 159, 175, 163])"
   ]
  },
  {
   "cell_type": "code",
   "execution_count": 63,
   "id": "27f849f5-98d3-4654-89ec-899b96f0425f",
   "metadata": {},
   "outputs": [
    {
     "data": {
      "text/plain": [
       "162.08333333333334"
      ]
     },
     "execution_count": 63,
     "metadata": {},
     "output_type": "execute_result"
    }
   ],
   "source": [
    "h.mean()"
   ]
  },
  {
   "cell_type": "code",
   "execution_count": 65,
   "id": "fd2540db-76c8-4c87-b062-abb5952cc8ef",
   "metadata": {},
   "outputs": [
    {
     "data": {
      "text/plain": [
       "7.14089799972134"
      ]
     },
     "execution_count": 65,
     "metadata": {},
     "output_type": "execute_result"
    }
   ],
   "source": [
    "h.std()"
   ]
  },
  {
   "cell_type": "code",
   "execution_count": 67,
   "id": "3266b4d4-8828-4ac0-84e8-a08409b97d08",
   "metadata": {},
   "outputs": [
    {
     "data": {
      "text/plain": [
       "50.99242424242424"
      ]
     },
     "execution_count": 67,
     "metadata": {},
     "output_type": "execute_result"
    }
   ],
   "source": [
    "h.var()"
   ]
  },
  {
   "cell_type": "code",
   "execution_count": 81,
   "id": "4ba57384-cb07-4b70-a4c2-8034e52e589e",
   "metadata": {},
   "outputs": [
    {
     "name": "stdout",
     "output_type": "stream",
     "text": [
      "26\n"
     ]
    }
   ],
   "source": [
    "range=h.max()-h.min()\n",
    "print(range)"
   ]
  },
  {
   "cell_type": "code",
   "execution_count": 73,
   "id": "67c593cb-191d-462d-8103-97eeff5e58f7",
   "metadata": {},
   "outputs": [
    {
     "name": "stdout",
     "output_type": "stream",
     "text": [
      "158.75\n",
      "164.75\n",
      "6.0\n"
     ]
    }
   ],
   "source": [
    "q1=h.quantile(0.25)\n",
    "print(q1)\n",
    "q3=h.quantile(0.75)\n",
    "print(q3)\n",
    "iqr=q3-q1\n",
    "print(iqr)"
   ]
  },
  {
   "cell_type": "code",
   "execution_count": 75,
   "id": "8f8021de-8ff3-4c79-b355-1a3ef4687b1b",
   "metadata": {},
   "outputs": [
    {
     "name": "stdout",
     "output_type": "stream",
     "text": [
      "149.75\n",
      "173.75\n"
     ]
    }
   ],
   "source": [
    "lower=q1-1.5*iqr\n",
    "print(lower)\n",
    "upper=q3+1.5*iqr\n",
    "print(upper)"
   ]
  },
  {
   "cell_type": "code",
   "execution_count": 77,
   "id": "4fa3ff0f-db32-4147-bb5c-1827d8af7e22",
   "metadata": {},
   "outputs": [
    {
     "name": "stdout",
     "output_type": "stream",
     "text": [
      "2     149\n",
      "10    175\n",
      "dtype: int64\n"
     ]
    }
   ],
   "source": [
    "outliers=h[(h<lower)|(h>upper)]\n",
    "print(outliers)"
   ]
  },
  {
   "cell_type": "code",
   "execution_count": 83,
   "id": "2c211d28-7716-412a-8b31-72582e74ad83",
   "metadata": {},
   "outputs": [
    {
     "data": {
      "text/plain": [
       "162.08333333333334"
      ]
     },
     "execution_count": 83,
     "metadata": {},
     "output_type": "execute_result"
    }
   ],
   "source": [
    "h.mean()"
   ]
  },
  {
   "cell_type": "code",
   "execution_count": 85,
   "id": "649f704a-a558-4c5a-984b-6f62042b53e4",
   "metadata": {},
   "outputs": [
    {
     "data": {
      "text/plain": [
       "0    162\n",
       "dtype: int64"
      ]
     },
     "execution_count": 85,
     "metadata": {},
     "output_type": "execute_result"
    }
   ],
   "source": [
    "h.mode()"
   ]
  },
  {
   "cell_type": "code",
   "execution_count": 87,
   "id": "63b6a7e6-d2fc-463b-bd15-65b646bab4d3",
   "metadata": {},
   "outputs": [
    {
     "data": {
      "text/plain": [
       "162.0"
      ]
     },
     "execution_count": 87,
     "metadata": {},
     "output_type": "execute_result"
    }
   ],
   "source": [
    "h.median()"
   ]
  },
  {
   "cell_type": "code",
   "execution_count": 91,
   "id": "d15d1324-5d84-43b2-ae78-4e9d856cb7fd",
   "metadata": {},
   "outputs": [
    {
     "data": {
      "image/png": "[encoded data removed]",
      "text/plain": [
       "<Figure size 640x480 with 1 Axes>"
      ]
     },
     "metadata": {},
     "output_type": "display_data"
    }
   ],
   "source": [
    "sns.boxplot(y=h);"
   ]
  },
  {
   "cell_type": "code",
   "execution_count": 7,
   "id": "55ad7ac3-5596-4f90-bb00-2958c001c2fe",
   "metadata": {},
   "outputs": [
    {
     "data": {
      "text/plain": [
       "7.14089799972134"
      ]
     },
     "execution_count": 7,
     "metadata": {},
     "output_type": "execute_result"
    }
   ],
   "source": [
    "import statistics as st\n",
    "st.stdev(h)"
   ]
  },
  {
   "cell_type": "code",
   "execution_count": 95,
   "id": "47fbc5b5-3cda-4d58-8627-53c050b8b0d0",
   "metadata": {},
   "outputs": [
    {
     "data": {
      "text/plain": [
       "6.836889318656223"
      ]
     },
     "execution_count": 95,
     "metadata": {},
     "output_type": "execute_result"
    }
   ],
   "source": [
    "st.pstdev(h)"
   ]
  },
  {
   "cell_type": "code",
   "execution_count": 97,
   "id": "93ac8dc6-321b-40eb-a0d2-9e73353884e1",
   "metadata": {},
   "outputs": [
    {
     "data": {
      "text/plain": [
       "46.74305555555556"
      ]
     },
     "execution_count": 97,
     "metadata": {},
     "output_type": "execute_result"
    }
   ],
   "source": [
    "st.pvariance(h)"
   ]
  },
  {
   "cell_type": "code",
   "execution_count": 99,
   "id": "a085beca-1aab-416b-8678-98d2508c22f2",
   "metadata": {},
   "outputs": [
    {
     "data": {
      "text/plain": [
       "50.99242424242424"
      ]
     },
     "execution_count": 99,
     "metadata": {},
     "output_type": "execute_result"
    }
   ],
   "source": [
    "st.variance(h)"
   ]
  },
  {
   "cell_type": "code",
   "execution_count": 9,
   "id": "58d19832-e2a2-4300-a74f-9121f34062fd",
   "metadata": {},
   "outputs": [
    {
     "data": {
      "text/plain": [
       "0     81\n",
       "1     78\n",
       "2     77\n",
       "3     75\n",
       "4     80\n",
       "5     82\n",
       "6     84\n",
       "7     78\n",
       "8     74\n",
       "9     75\n",
       "10    49\n",
       "11    71\n",
       "12    76\n",
       "13    80\n",
       "dtype: int64"
      ]
     },
     "execution_count": 9,
     "metadata": {},
     "output_type": "execute_result"
    }
   ],
   "source": [
    "temp=pd.Series([81, 78, 77, 75, 80, 82, 84, 78, 74, 75, 49, 71, 76, 80])\n",
    "temp"
   ]
  },
  {
   "cell_type": "code",
   "execution_count": 11,
   "id": "b0fd968b-9550-4636-a9d3-a32390d5aae6",
   "metadata": {},
   "outputs": [],
   "source": [
    "import warnings\n",
    "warnings.filterwarnings('ignore')"
   ]
  },
  {
   "cell_type": "code",
   "execution_count": 121,
   "id": "ce49ea3c-e4a9-41f4-a7f5-ba1480389fd5",
   "metadata": {},
   "outputs": [
    {
     "data": {
      "image/png": "[encoded data removed]",
      "text/plain": [
       "<Figure size 640x480 with 1 Axes>"
      ]
     },
     "metadata": {},
     "output_type": "display_data"
    }
   ],
   "source": [
    "sns.distplot(temp);"
   ]
  },
  {
   "cell_type": "code",
   "execution_count": 123,
   "id": "141485d8-ef33-4e3b-8c78-0179efb5dc61",
   "metadata": {},
   "outputs": [
    {
     "data": {
      "text/plain": [
       "count    14.000000\n",
       "mean     75.714286\n",
       "std       8.434623\n",
       "min      49.000000\n",
       "25%      75.000000\n",
       "50%      77.500000\n",
       "75%      80.000000\n",
       "max      84.000000\n",
       "dtype: float64"
      ]
     },
     "execution_count": 123,
     "metadata": {},
     "output_type": "execute_result"
    }
   ],
   "source": [
    "temp.describe()"
   ]
  },
  {
   "cell_type": "code",
   "execution_count": 125,
   "id": "71cedb63-32f4-4049-aa91-f44a935490c6",
   "metadata": {},
   "outputs": [
    {
     "data": {
      "text/plain": [
       "0    75\n",
       "1    78\n",
       "2    80\n",
       "dtype: int64"
      ]
     },
     "execution_count": 125,
     "metadata": {},
     "output_type": "execute_result"
    }
   ],
   "source": [
    "temp.mode()"
   ]
  },
  {
   "cell_type": "code",
   "execution_count": 133,
   "id": "73462113-1ab3-46ff-812a-41bcc44204d5",
   "metadata": {},
   "outputs": [
    {
     "name": "stdout",
     "output_type": "stream",
     "text": [
      "75.0\n",
      "80.0\n",
      "5.0\n"
     ]
    }
   ],
   "source": [
    "q1=temp.quantile(0.25)\n",
    "print(q1)\n",
    "q3=temp.quantile(0.75)\n",
    "print(q3)\n",
    "iqr=q3-q1\n",
    "print(iqr)"
   ]
  },
  {
   "cell_type": "code",
   "execution_count": 135,
   "id": "5c0730f6-5ce6-4a6e-88cf-63d10d058603",
   "metadata": {},
   "outputs": [
    {
     "name": "stdout",
     "output_type": "stream",
     "text": [
      "67.5\n",
      "87.5\n"
     ]
    }
   ],
   "source": [
    "lower=q1-1.5*iqr\n",
    "print(lower)\n",
    "upper=q3+1.5*iqr\n",
    "print(upper)"
   ]
  },
  {
   "cell_type": "code",
   "execution_count": 139,
   "id": "71bad5c8-972b-46d9-b7bf-53d1b0c319ce",
   "metadata": {},
   "outputs": [
    {
     "data": {
      "image/png": "[encoded data removed]",
      "text/plain": [
       "<Figure size 640x480 with 1 Axes>"
      ]
     },
     "metadata": {},
     "output_type": "display_data"
    }
   ],
   "source": [
    "sns.boxplot(y=temp);"
   ]
  },
  {
   "cell_type": "code",
   "execution_count": 23,
   "id": "08eab2b5-5523-4bcb-a881-c08267c20f2e",
   "metadata": {},
   "outputs": [],
   "source": [
    "df= pd.read_csv(r'C:\\Users\\Arsalan\\Downloads\\Pokemon1.csv',header=0,index_col=0)"
   ]
  },
  {
   "cell_type": "code",
   "execution_count": 155,
   "id": "c778b987-14b3-4869-904e-65775f9eab31",
   "metadata": {},
   "outputs": [
    {
     "data": {
      "text/html": [
       "<div>\n",
       "<style scoped>\n",
       "    .dataframe tbody tr th:only-of-type {\n",
       "        vertical-align: middle;\n",
       "    }\n",
       "\n",
       "    .dataframe tbody tr th {\n",
       "        vertical-align: top;\n",
       "    }\n",
       "\n",
       "    .dataframe thead th {\n",
       "        text-align: right;\n",
       "    }\n",
       "</style>\n",
       "<table border=\"1\" class=\"dataframe\">\n",
       "  <thead>\n",
       "    <tr style=\"text-align: right;\">\n",
       "      <th></th>\n",
       "      <th>Name</th>\n",
       "      <th>Type 1</th>\n",
       "      <th>Type 2</th>\n",
       "      <th>Total</th>\n",
       "      <th>HP</th>\n",
       "      <th>Attack</th>\n",
       "      <th>Defense</th>\n",
       "      <th>Sp. Atk</th>\n",
       "      <th>Sp. Def</th>\n",
       "      <th>Speed</th>\n",
       "      <th>Stage</th>\n",
       "      <th>Legendary</th>\n",
       "    </tr>\n",
       "    <tr>\n",
       "      <th>#</th>\n",
       "      <th></th>\n",
       "      <th></th>\n",
       "      <th></th>\n",
       "      <th></th>\n",
       "      <th></th>\n",
       "      <th></th>\n",
       "      <th></th>\n",
       "      <th></th>\n",
       "      <th></th>\n",
       "      <th></th>\n",
       "      <th></th>\n",
       "      <th></th>\n",
       "    </tr>\n",
       "  </thead>\n",
       "  <tbody>\n",
       "    <tr>\n",
       "      <th>1</th>\n",
       "      <td>Bulbasaur</td>\n",
       "      <td>Grass</td>\n",
       "      <td>Poison</td>\n",
       "      <td>318</td>\n",
       "      <td>45</td>\n",
       "      <td>49</td>\n",
       "      <td>49</td>\n",
       "      <td>65</td>\n",
       "      <td>65</td>\n",
       "      <td>45</td>\n",
       "      <td>1</td>\n",
       "      <td>False</td>\n",
       "    </tr>\n",
       "    <tr>\n",
       "      <th>2</th>\n",
       "      <td>Ivysaur</td>\n",
       "      <td>Grass</td>\n",
       "      <td>Poison</td>\n",
       "      <td>405</td>\n",
       "      <td>60</td>\n",
       "      <td>62</td>\n",
       "      <td>63</td>\n",
       "      <td>80</td>\n",
       "      <td>80</td>\n",
       "      <td>60</td>\n",
       "      <td>2</td>\n",
       "      <td>False</td>\n",
       "    </tr>\n",
       "    <tr>\n",
       "      <th>3</th>\n",
       "      <td>Venusaur</td>\n",
       "      <td>Grass</td>\n",
       "      <td>Poison</td>\n",
       "      <td>525</td>\n",
       "      <td>80</td>\n",
       "      <td>82</td>\n",
       "      <td>83</td>\n",
       "      <td>100</td>\n",
       "      <td>100</td>\n",
       "      <td>80</td>\n",
       "      <td>3</td>\n",
       "      <td>False</td>\n",
       "    </tr>\n",
       "    <tr>\n",
       "      <th>4</th>\n",
       "      <td>Charmander</td>\n",
       "      <td>Fire</td>\n",
       "      <td>NaN</td>\n",
       "      <td>309</td>\n",
       "      <td>39</td>\n",
       "      <td>52</td>\n",
       "      <td>43</td>\n",
       "      <td>60</td>\n",
       "      <td>50</td>\n",
       "      <td>65</td>\n",
       "      <td>1</td>\n",
       "      <td>False</td>\n",
       "    </tr>\n",
       "    <tr>\n",
       "      <th>5</th>\n",
       "      <td>Charmeleon</td>\n",
       "      <td>Fire</td>\n",
       "      <td>NaN</td>\n",
       "      <td>405</td>\n",
       "      <td>58</td>\n",
       "      <td>64</td>\n",
       "      <td>58</td>\n",
       "      <td>80</td>\n",
       "      <td>65</td>\n",
       "      <td>80</td>\n",
       "      <td>2</td>\n",
       "      <td>False</td>\n",
       "    </tr>\n",
       "    <tr>\n",
       "      <th>...</th>\n",
       "      <td>...</td>\n",
       "      <td>...</td>\n",
       "      <td>...</td>\n",
       "      <td>...</td>\n",
       "      <td>...</td>\n",
       "      <td>...</td>\n",
       "      <td>...</td>\n",
       "      <td>...</td>\n",
       "      <td>...</td>\n",
       "      <td>...</td>\n",
       "      <td>...</td>\n",
       "      <td>...</td>\n",
       "    </tr>\n",
       "    <tr>\n",
       "      <th>147</th>\n",
       "      <td>Dratini</td>\n",
       "      <td>Dragon</td>\n",
       "      <td>NaN</td>\n",
       "      <td>300</td>\n",
       "      <td>41</td>\n",
       "      <td>64</td>\n",
       "      <td>45</td>\n",
       "      <td>50</td>\n",
       "      <td>50</td>\n",
       "      <td>50</td>\n",
       "      <td>1</td>\n",
       "      <td>False</td>\n",
       "    </tr>\n",
       "    <tr>\n",
       "      <th>148</th>\n",
       "      <td>Dragonair</td>\n",
       "      <td>Dragon</td>\n",
       "      <td>NaN</td>\n",
       "      <td>420</td>\n",
       "      <td>61</td>\n",
       "      <td>84</td>\n",
       "      <td>65</td>\n",
       "      <td>70</td>\n",
       "      <td>70</td>\n",
       "      <td>70</td>\n",
       "      <td>2</td>\n",
       "      <td>False</td>\n",
       "    </tr>\n",
       "    <tr>\n",
       "      <th>149</th>\n",
       "      <td>Dragonite</td>\n",
       "      <td>Dragon</td>\n",
       "      <td>Flying</td>\n",
       "      <td>600</td>\n",
       "      <td>91</td>\n",
       "      <td>134</td>\n",
       "      <td>95</td>\n",
       "      <td>100</td>\n",
       "      <td>100</td>\n",
       "      <td>80</td>\n",
       "      <td>3</td>\n",
       "      <td>False</td>\n",
       "    </tr>\n",
       "    <tr>\n",
       "      <th>150</th>\n",
       "      <td>Mewtwo</td>\n",
       "      <td>Psychic</td>\n",
       "      <td>NaN</td>\n",
       "      <td>680</td>\n",
       "      <td>106</td>\n",
       "      <td>110</td>\n",
       "      <td>90</td>\n",
       "      <td>154</td>\n",
       "      <td>90</td>\n",
       "      <td>130</td>\n",
       "      <td>1</td>\n",
       "      <td>True</td>\n",
       "    </tr>\n",
       "    <tr>\n",
       "      <th>151</th>\n",
       "      <td>Mew</td>\n",
       "      <td>Psychic</td>\n",
       "      <td>NaN</td>\n",
       "      <td>600</td>\n",
       "      <td>100</td>\n",
       "      <td>100</td>\n",
       "      <td>100</td>\n",
       "      <td>100</td>\n",
       "      <td>100</td>\n",
       "      <td>100</td>\n",
       "      <td>1</td>\n",
       "      <td>False</td>\n",
       "    </tr>\n",
       "  </tbody>\n",
       "</table>\n",
       "<p>151 rows × 12 columns</p>\n",
       "</div>"
      ],
      "text/plain": [
       "           Name   Type 1  Type 2  Total   HP  Attack  Defense  Sp. Atk  \\\n",
       "#                                                                        \n",
       "1     Bulbasaur    Grass  Poison    318   45      49       49       65   \n",
       "2       Ivysaur    Grass  Poison    405   60      62       63       80   \n",
       "3      Venusaur    Grass  Poison    525   80      82       83      100   \n",
       "4    Charmander     Fire     NaN    309   39      52       43       60   \n",
       "5    Charmeleon     Fire     NaN    405   58      64       58       80   \n",
       "..          ...      ...     ...    ...  ...     ...      ...      ...   \n",
       "147     Dratini   Dragon     NaN    300   41      64       45       50   \n",
       "148   Dragonair   Dragon     NaN    420   61      84       65       70   \n",
       "149   Dragonite   Dragon  Flying    600   91     134       95      100   \n",
       "150      Mewtwo  Psychic     NaN    680  106     110       90      154   \n",
       "151         Mew  Psychic     NaN    600  100     100      100      100   \n",
       "\n",
       "     Sp. Def  Speed  Stage  Legendary  \n",
       "#                                      \n",
       "1         65     45      1      False  \n",
       "2         80     60      2      False  \n",
       "3        100     80      3      False  \n",
       "4         50     65      1      False  \n",
       "5         65     80      2      False  \n",
       "..       ...    ...    ...        ...  \n",
       "147       50     50      1      False  \n",
       "148       70     70      2      False  \n",
       "149      100     80      3      False  \n",
       "150       90    130      1       True  \n",
       "151      100    100      1      False  \n",
       "\n",
       "[151 rows x 12 columns]"
      ]
     },
     "execution_count": 155,
     "metadata": {},
     "output_type": "execute_result"
    }
   ],
   "source": [
    "poke"
   ]
  },
  {
   "cell_type": "code",
   "execution_count": 161,
   "id": "912cf2fe-6aae-4aaa-981f-5c7afe24e09f",
   "metadata": {},
   "outputs": [
    {
     "data": {
      "image/png": "[encoded data removed]",
      "text/plain": [
       "<Figure size 640x480 with 1 Axes>"
      ]
     },
     "metadata": {},
     "output_type": "display_data"
    }
   ],
   "source": [
    "sns.distplot(poke.Attack);"
   ]
  },
  {
   "cell_type": "code",
   "execution_count": 167,
   "id": "f42c3d62-c602-469d-9ee7-7df63b422076",
   "metadata": {},
   "outputs": [
    {
     "data": {
      "text/plain": [
       "0.14469715499053246"
      ]
     },
     "execution_count": 167,
     "metadata": {},
     "output_type": "execute_result"
    }
   ],
   "source": [
    "from scipy.stats import skew\n",
    "\n",
    "s=skew(poke.Attack)\n",
    "s"
   ]
  },
  {
   "cell_type": "code",
   "execution_count": 169,
   "id": "65d9a01e-5278-4f92-9549-9e2236e989c5",
   "metadata": {},
   "outputs": [
    {
     "data": {
      "text/plain": [
       "<Axes: xlabel='Defense', ylabel='Density'>"
      ]
     },
     "execution_count": 169,
     "metadata": {},
     "output_type": "execute_result"
    },
    {
     "data": {
      "image/png": "[encoded data removed]",
      "text/plain": [
       "<Figure size 640x480 with 1 Axes>"
      ]
     },
     "metadata": {},
     "output_type": "display_data"
    }
   ],
   "source": [
    "sns.distplot(poke.Defense)"
   ]
  },
  {
   "cell_type": "code",
   "execution_count": 171,
   "id": "2342de9b-8b99-4fd9-a055-f4af1009f1a5",
   "metadata": {},
   "outputs": [
    {
     "data": {
      "text/plain": [
       "0.8303632725600234"
      ]
     },
     "execution_count": 171,
     "metadata": {},
     "output_type": "execute_result"
    }
   ],
   "source": [
    "sk=skew(poke.Defense)\n",
    "sk"
   ]
  },
  {
   "cell_type": "code",
   "execution_count": 177,
   "id": "be5109c4-04ca-4935-9060-763cf0bb6cae",
   "metadata": {},
   "outputs": [
    {
     "data": {
      "image/png": "[encoded data removed]",
      "text/plain": [
       "<Figure size 640x480 with 1 Axes>"
      ]
     },
     "metadata": {},
     "output_type": "display_data"
    }
   ],
   "source": [
    "sns.boxplot(y=poke.Defense);"
   ]
  },
  {
   "cell_type": "code",
   "execution_count": 181,
   "id": "f34bbd3f-e36a-4349-9927-1ab7ab9e2325",
   "metadata": {},
   "outputs": [
    {
     "data": {
      "text/plain": [
       "(149, 12)"
      ]
     },
     "execution_count": 181,
     "metadata": {},
     "output_type": "execute_result"
    }
   ],
   "source": [
    "#eliminating outliers to reduce skewness\n",
    "df=poke[poke['Defense']<=150]\n",
    "df.shape"
   ]
  },
  {
   "cell_type": "code",
   "execution_count": 183,
   "id": "539351e7-584f-4148-8f13-5a2bc30a9e9e",
   "metadata": {},
   "outputs": [
    {
     "data": {
      "text/plain": [
       "<Axes: ylabel='Defense'>"
      ]
     },
     "execution_count": 183,
     "metadata": {},
     "output_type": "execute_result"
    },
    {
     "data": {
      "image/png": "[encoded data removed]",
      "text/plain": [
       "<Figure size 640x480 with 1 Axes>"
      ]
     },
     "metadata": {},
     "output_type": "display_data"
    }
   ],
   "source": [
    "sns.boxplot(df.Defense)"
   ]
  },
  {
   "cell_type": "code",
   "execution_count": 185,
   "id": "88ccb57f-9ebb-4dc2-8349-2d7979c11ad9",
   "metadata": {},
   "outputs": [
    {
     "data": {
      "text/plain": [
       "0.2879498324533908"
      ]
     },
     "execution_count": 185,
     "metadata": {},
     "output_type": "execute_result"
    }
   ],
   "source": [
    "skew_def=skew(df.Defense)\n",
    "skew_def"
   ]
  },
  {
   "cell_type": "code",
   "execution_count": 187,
   "id": "7b089a2f-41f5-423d-921b-92c07f58b3f8",
   "metadata": {},
   "outputs": [
    {
     "data": {
      "text/plain": [
       "-1.4212251089464005"
      ]
     },
     "execution_count": 187,
     "metadata": {},
     "output_type": "execute_result"
    }
   ],
   "source": [
    "new_def=np.log(poke.Defense)\n",
    "skew_def=skew(new_def)\n",
    "skew_def"
   ]
  },
  {
   "cell_type": "code",
   "execution_count": 189,
   "id": "724c520f-42d4-4456-acd2-4ac42b08eb6d",
   "metadata": {},
   "outputs": [
    {
     "data": {
      "text/plain": [
       "count    151.000000\n",
       "mean      68.225166\n",
       "std       26.916704\n",
       "min        5.000000\n",
       "25%       50.000000\n",
       "50%       65.000000\n",
       "75%       84.000000\n",
       "max      180.000000\n",
       "Name: Defense, dtype: float64"
      ]
     },
     "execution_count": 189,
     "metadata": {},
     "output_type": "execute_result"
    }
   ],
   "source": [
    "poke.Defense.describe()"
   ]
  },
  {
   "cell_type": "code",
   "execution_count": 191,
   "id": "961e27aa-adeb-448f-a4da-19c2efe3db99",
   "metadata": {},
   "outputs": [
    {
     "data": {
      "text/plain": [
       "0    65\n",
       "Name: Defense, dtype: int64"
      ]
     },
     "execution_count": 191,
     "metadata": {},
     "output_type": "execute_result"
    }
   ],
   "source": [
    "poke.Defense.mode()"
   ]
  },
  {
   "cell_type": "code",
   "execution_count": 205,
   "id": "8048774d-d8bf-402e-9571-a43b103604b4",
   "metadata": {},
   "outputs": [
    {
     "data": {
      "text/plain": [
       "2.4245324192025657"
      ]
     },
     "execution_count": 205,
     "metadata": {},
     "output_type": "execute_result"
    }
   ],
   "source": [
    "from scipy.stats import kurtosis\n",
    "#when fisher=false,we get kurtosis value\n",
    "#when fisher=True,we get excess kurtosis value-->kurtosis-3\n",
    "\n",
    "kurt_coeff_att=kurtosis(poke.Speed,fisher=False)\n",
    "kurt_coeff_att"
   ]
  },
  {
   "cell_type": "code",
   "execution_count": 207,
   "id": "e6d99b79-e21b-492e-adb9-33f4642761bb",
   "metadata": {},
   "outputs": [
    {
     "data": {
      "text/plain": [
       "<Axes: xlabel='Speed', ylabel='Density'>"
      ]
     },
     "execution_count": 207,
     "metadata": {},
     "output_type": "execute_result"
    },
    {
     "data": {
      "image/png": "[encoded data removed]",
      "text/plain": [
       "<Figure size 640x480 with 1 Axes>"
      ]
     },
     "metadata": {},
     "output_type": "display_data"
    }
   ],
   "source": [
    "sns.distplot(poke.Speed)"
   ]
  },
  {
   "cell_type": "markdown",
   "id": "e1528a6d-d5f2-4234-b71b-fa3ee7976025",
   "metadata": {},
   "source": [
    "**Co variance**"
   ]
  },
  {
   "cell_type": "markdown",
   "id": "3896ad2f-5f4b-42ca-b850-d5df318a80b8",
   "metadata": {},
   "source": [
    "It measures the direction of the relationship between two variables.\n",
    "\n",
    "A positive covariance means that both variables tend to be high or low at the same time. its range is from 0 to positive infinity.\n",
    "\n",
    "A negative covariance means that when one variable is high,the other tends to be low."
   ]
  },
  {
   "cell_type": "markdown",
   "id": "a103b4cc-910d-43bb-931b-48b6c857c461",
   "metadata": {},
   "source": [
    "**Covariance vs Correlation**"
   ]
  },
  {
   "cell_type": "markdown",
   "id": "0a03cfac-126f-4e6a-8abc-53d673705f8c",
   "metadata": {},
   "source": [
    "correlation is a statistical measure that tell us about the direction as well as strength of relation coefficient is from -1 to +1 which help[s us to understand how strong or weak is relationship.\n",
    "\n",
    "If value is close to 0 to no correlation.\n",
    "\n",
    "if value is between -0.5 to 0.5 -> low correlation\n",
    "\n",
    "if the value is between -0.5 to -0.75 or 0.5 to 0.75 -> medium correlation\n",
    "\n",
    "if the value is between -0.75 to -1 or 0.75 to 1 -> high correlation"
   ]
  },
  {
   "cell_type": "code",
   "execution_count": 25,
   "id": "e1a5b889-da5a-4b16-80ca-8ea1603264de",
   "metadata": {},
   "outputs": [
    {
     "data": {
      "text/html": [
       "<div>\n",
       "<style scoped>\n",
       "    .dataframe tbody tr th:only-of-type {\n",
       "        vertical-align: middle;\n",
       "    }\n",
       "\n",
       "    .dataframe tbody tr th {\n",
       "        vertical-align: top;\n",
       "    }\n",
       "\n",
       "    .dataframe thead th {\n",
       "        text-align: right;\n",
       "    }\n",
       "</style>\n",
       "<table border=\"1\" class=\"dataframe\">\n",
       "  <thead>\n",
       "    <tr style=\"text-align: right;\">\n",
       "      <th></th>\n",
       "      <th>Name</th>\n",
       "      <th>Type 1</th>\n",
       "      <th>Type 2</th>\n",
       "      <th>Total</th>\n",
       "      <th>HP</th>\n",
       "      <th>Attack</th>\n",
       "      <th>Defense</th>\n",
       "      <th>Sp. Atk</th>\n",
       "      <th>Sp. Def</th>\n",
       "      <th>Speed</th>\n",
       "      <th>Stage</th>\n",
       "      <th>Legendary</th>\n",
       "    </tr>\n",
       "    <tr>\n",
       "      <th>#</th>\n",
       "      <th></th>\n",
       "      <th></th>\n",
       "      <th></th>\n",
       "      <th></th>\n",
       "      <th></th>\n",
       "      <th></th>\n",
       "      <th></th>\n",
       "      <th></th>\n",
       "      <th></th>\n",
       "      <th></th>\n",
       "      <th></th>\n",
       "      <th></th>\n",
       "    </tr>\n",
       "  </thead>\n",
       "  <tbody>\n",
       "    <tr>\n",
       "      <th>1</th>\n",
       "      <td>Bulbasaur</td>\n",
       "      <td>Grass</td>\n",
       "      <td>Poison</td>\n",
       "      <td>318</td>\n",
       "      <td>45</td>\n",
       "      <td>49</td>\n",
       "      <td>49</td>\n",
       "      <td>65</td>\n",
       "      <td>65</td>\n",
       "      <td>45</td>\n",
       "      <td>1</td>\n",
       "      <td>False</td>\n",
       "    </tr>\n",
       "    <tr>\n",
       "      <th>2</th>\n",
       "      <td>Ivysaur</td>\n",
       "      <td>Grass</td>\n",
       "      <td>Poison</td>\n",
       "      <td>405</td>\n",
       "      <td>60</td>\n",
       "      <td>62</td>\n",
       "      <td>63</td>\n",
       "      <td>80</td>\n",
       "      <td>80</td>\n",
       "      <td>60</td>\n",
       "      <td>2</td>\n",
       "      <td>False</td>\n",
       "    </tr>\n",
       "    <tr>\n",
       "      <th>3</th>\n",
       "      <td>Venusaur</td>\n",
       "      <td>Grass</td>\n",
       "      <td>Poison</td>\n",
       "      <td>525</td>\n",
       "      <td>80</td>\n",
       "      <td>82</td>\n",
       "      <td>83</td>\n",
       "      <td>100</td>\n",
       "      <td>100</td>\n",
       "      <td>80</td>\n",
       "      <td>3</td>\n",
       "      <td>False</td>\n",
       "    </tr>\n",
       "    <tr>\n",
       "      <th>4</th>\n",
       "      <td>Charmander</td>\n",
       "      <td>Fire</td>\n",
       "      <td>NaN</td>\n",
       "      <td>309</td>\n",
       "      <td>39</td>\n",
       "      <td>52</td>\n",
       "      <td>43</td>\n",
       "      <td>60</td>\n",
       "      <td>50</td>\n",
       "      <td>65</td>\n",
       "      <td>1</td>\n",
       "      <td>False</td>\n",
       "    </tr>\n",
       "    <tr>\n",
       "      <th>5</th>\n",
       "      <td>Charmeleon</td>\n",
       "      <td>Fire</td>\n",
       "      <td>NaN</td>\n",
       "      <td>405</td>\n",
       "      <td>58</td>\n",
       "      <td>64</td>\n",
       "      <td>58</td>\n",
       "      <td>80</td>\n",
       "      <td>65</td>\n",
       "      <td>80</td>\n",
       "      <td>2</td>\n",
       "      <td>False</td>\n",
       "    </tr>\n",
       "    <tr>\n",
       "      <th>...</th>\n",
       "      <td>...</td>\n",
       "      <td>...</td>\n",
       "      <td>...</td>\n",
       "      <td>...</td>\n",
       "      <td>...</td>\n",
       "      <td>...</td>\n",
       "      <td>...</td>\n",
       "      <td>...</td>\n",
       "      <td>...</td>\n",
       "      <td>...</td>\n",
       "      <td>...</td>\n",
       "      <td>...</td>\n",
       "    </tr>\n",
       "    <tr>\n",
       "      <th>147</th>\n",
       "      <td>Dratini</td>\n",
       "      <td>Dragon</td>\n",
       "      <td>NaN</td>\n",
       "      <td>300</td>\n",
       "      <td>41</td>\n",
       "      <td>64</td>\n",
       "      <td>45</td>\n",
       "      <td>50</td>\n",
       "      <td>50</td>\n",
       "      <td>50</td>\n",
       "      <td>1</td>\n",
       "      <td>False</td>\n",
       "    </tr>\n",
       "    <tr>\n",
       "      <th>148</th>\n",
       "      <td>Dragonair</td>\n",
       "      <td>Dragon</td>\n",
       "      <td>NaN</td>\n",
       "      <td>420</td>\n",
       "      <td>61</td>\n",
       "      <td>84</td>\n",
       "      <td>65</td>\n",
       "      <td>70</td>\n",
       "      <td>70</td>\n",
       "      <td>70</td>\n",
       "      <td>2</td>\n",
       "      <td>False</td>\n",
       "    </tr>\n",
       "    <tr>\n",
       "      <th>149</th>\n",
       "      <td>Dragonite</td>\n",
       "      <td>Dragon</td>\n",
       "      <td>Flying</td>\n",
       "      <td>600</td>\n",
       "      <td>91</td>\n",
       "      <td>134</td>\n",
       "      <td>95</td>\n",
       "      <td>100</td>\n",
       "      <td>100</td>\n",
       "      <td>80</td>\n",
       "      <td>3</td>\n",
       "      <td>False</td>\n",
       "    </tr>\n",
       "    <tr>\n",
       "      <th>150</th>\n",
       "      <td>Mewtwo</td>\n",
       "      <td>Psychic</td>\n",
       "      <td>NaN</td>\n",
       "      <td>680</td>\n",
       "      <td>106</td>\n",
       "      <td>110</td>\n",
       "      <td>90</td>\n",
       "      <td>154</td>\n",
       "      <td>90</td>\n",
       "      <td>130</td>\n",
       "      <td>1</td>\n",
       "      <td>True</td>\n",
       "    </tr>\n",
       "    <tr>\n",
       "      <th>151</th>\n",
       "      <td>Mew</td>\n",
       "      <td>Psychic</td>\n",
       "      <td>NaN</td>\n",
       "      <td>600</td>\n",
       "      <td>100</td>\n",
       "      <td>100</td>\n",
       "      <td>100</td>\n",
       "      <td>100</td>\n",
       "      <td>100</td>\n",
       "      <td>100</td>\n",
       "      <td>1</td>\n",
       "      <td>False</td>\n",
       "    </tr>\n",
       "  </tbody>\n",
       "</table>\n",
       "<p>151 rows × 12 columns</p>\n",
       "</div>"
      ],
      "text/plain": [
       "           Name   Type 1  Type 2  Total   HP  Attack  Defense  Sp. Atk  \\\n",
       "#                                                                        \n",
       "1     Bulbasaur    Grass  Poison    318   45      49       49       65   \n",
       "2       Ivysaur    Grass  Poison    405   60      62       63       80   \n",
       "3      Venusaur    Grass  Poison    525   80      82       83      100   \n",
       "4    Charmander     Fire     NaN    309   39      52       43       60   \n",
       "5    Charmeleon     Fire     NaN    405   58      64       58       80   \n",
       "..          ...      ...     ...    ...  ...     ...      ...      ...   \n",
       "147     Dratini   Dragon     NaN    300   41      64       45       50   \n",
       "148   Dragonair   Dragon     NaN    420   61      84       65       70   \n",
       "149   Dragonite   Dragon  Flying    600   91     134       95      100   \n",
       "150      Mewtwo  Psychic     NaN    680  106     110       90      154   \n",
       "151         Mew  Psychic     NaN    600  100     100      100      100   \n",
       "\n",
       "     Sp. Def  Speed  Stage  Legendary  \n",
       "#                                      \n",
       "1         65     45      1      False  \n",
       "2         80     60      2      False  \n",
       "3        100     80      3      False  \n",
       "4         50     65      1      False  \n",
       "5         65     80      2      False  \n",
       "..       ...    ...    ...        ...  \n",
       "147       50     50      1      False  \n",
       "148       70     70      2      False  \n",
       "149      100     80      3      False  \n",
       "150       90    130      1       True  \n",
       "151      100    100      1      False  \n",
       "\n",
       "[151 rows x 12 columns]"
      ]
     },
     "execution_count": 25,
     "metadata": {},
     "output_type": "execute_result"
    }
   ],
   "source": [
    "df"
   ]
  },
  {
   "cell_type": "code",
   "execution_count": 27,
   "id": "9b659868-87a1-4b98-9bb4-fbaf8f0a8f7e",
   "metadata": {},
   "outputs": [],
   "source": [
    "x=df[['HP','Attack','Defense','Sp. Atk','Sp. Def','Speed','Total']]"
   ]
  },
  {
   "cell_type": "code",
   "execution_count": 31,
   "id": "fb4a2ada-202c-42ae-8565-3407c6bd0afb",
   "metadata": {},
   "outputs": [
    {
     "data": {
      "text/html": [
       "<div>\n",
       "<style scoped>\n",
       "    .dataframe tbody tr th:only-of-type {\n",
       "        vertical-align: middle;\n",
       "    }\n",
       "\n",
       "    .dataframe tbody tr th {\n",
       "        vertical-align: top;\n",
       "    }\n",
       "\n",
       "    .dataframe thead th {\n",
       "        text-align: right;\n",
       "    }\n",
       "</style>\n",
       "<table border=\"1\" class=\"dataframe\">\n",
       "  <thead>\n",
       "    <tr style=\"text-align: right;\">\n",
       "      <th></th>\n",
       "      <th>HP</th>\n",
       "      <th>Attack</th>\n",
       "      <th>Defense</th>\n",
       "      <th>Sp. Atk</th>\n",
       "      <th>Sp. Def</th>\n",
       "      <th>Speed</th>\n",
       "      <th>Total</th>\n",
       "    </tr>\n",
       "  </thead>\n",
       "  <tbody>\n",
       "    <tr>\n",
       "      <th>HP</th>\n",
       "      <td>817.394790</td>\n",
       "      <td>233.262737</td>\n",
       "      <td>92.178631</td>\n",
       "      <td>193.056998</td>\n",
       "      <td>339.669095</td>\n",
       "      <td>-31.305872</td>\n",
       "      <td>1644.256380</td>\n",
       "    </tr>\n",
       "    <tr>\n",
       "      <th>Attack</th>\n",
       "      <td>233.262737</td>\n",
       "      <td>707.355850</td>\n",
       "      <td>352.188742</td>\n",
       "      <td>111.036380</td>\n",
       "      <td>237.522340</td>\n",
       "      <td>138.503311</td>\n",
       "      <td>1779.869360</td>\n",
       "    </tr>\n",
       "    <tr>\n",
       "      <th>Defense</th>\n",
       "      <td>92.178631</td>\n",
       "      <td>352.188742</td>\n",
       "      <td>724.508962</td>\n",
       "      <td>144.061810</td>\n",
       "      <td>91.128830</td>\n",
       "      <td>-38.338322</td>\n",
       "      <td>1365.728653</td>\n",
       "    </tr>\n",
       "    <tr>\n",
       "      <th>Sp. Atk</th>\n",
       "      <td>193.056998</td>\n",
       "      <td>111.036380</td>\n",
       "      <td>144.061810</td>\n",
       "      <td>814.200530</td>\n",
       "      <td>361.050552</td>\n",
       "      <td>314.069272</td>\n",
       "      <td>1937.475541</td>\n",
       "    </tr>\n",
       "    <tr>\n",
       "      <th>Sp. Def</th>\n",
       "      <td>339.669095</td>\n",
       "      <td>237.522340</td>\n",
       "      <td>91.128830</td>\n",
       "      <td>361.050552</td>\n",
       "      <td>585.539603</td>\n",
       "      <td>254.134658</td>\n",
       "      <td>1869.045077</td>\n",
       "    </tr>\n",
       "    <tr>\n",
       "      <th>Speed</th>\n",
       "      <td>-31.305872</td>\n",
       "      <td>138.503311</td>\n",
       "      <td>-38.338322</td>\n",
       "      <td>314.069272</td>\n",
       "      <td>254.134658</td>\n",
       "      <td>715.395585</td>\n",
       "      <td>1352.458631</td>\n",
       "    </tr>\n",
       "    <tr>\n",
       "      <th>Total</th>\n",
       "      <td>1644.256380</td>\n",
       "      <td>1779.869360</td>\n",
       "      <td>1365.728653</td>\n",
       "      <td>1937.475541</td>\n",
       "      <td>1869.045077</td>\n",
       "      <td>1352.458631</td>\n",
       "      <td>9948.833642</td>\n",
       "    </tr>\n",
       "  </tbody>\n",
       "</table>\n",
       "</div>"
      ],
      "text/plain": [
       "                  HP       Attack      Defense      Sp. Atk      Sp. Def  \\\n",
       "HP        817.394790   233.262737    92.178631   193.056998   339.669095   \n",
       "Attack    233.262737   707.355850   352.188742   111.036380   237.522340   \n",
       "Defense    92.178631   352.188742   724.508962   144.061810    91.128830   \n",
       "Sp. Atk   193.056998   111.036380   144.061810   814.200530   361.050552   \n",
       "Sp. Def   339.669095   237.522340    91.128830   361.050552   585.539603   \n",
       "Speed     -31.305872   138.503311   -38.338322   314.069272   254.134658   \n",
       "Total    1644.256380  1779.869360  1365.728653  1937.475541  1869.045077   \n",
       "\n",
       "               Speed        Total  \n",
       "HP        -31.305872  1644.256380  \n",
       "Attack    138.503311  1779.869360  \n",
       "Defense   -38.338322  1365.728653  \n",
       "Sp. Atk   314.069272  1937.475541  \n",
       "Sp. Def   254.134658  1869.045077  \n",
       "Speed     715.395585  1352.458631  \n",
       "Total    1352.458631  9948.833642  "
      ]
     },
     "execution_count": 31,
     "metadata": {},
     "output_type": "execute_result"
    }
   ],
   "source": [
    "cov_df=x.cov()\n",
    "cov_df"
   ]
  },
  {
   "cell_type": "code",
   "execution_count": 33,
   "id": "29e9e284-a423-4857-bce2-2227150144da",
   "metadata": {},
   "outputs": [
    {
     "name": "stdout",
     "output_type": "stream",
     "text": [
      "               HP    Attack   Defense   Sp. Atk   Sp. Def     Speed     Total\n",
      "HP       1.000000  0.306768  0.119782  0.236649  0.490978 -0.040939  0.576591\n",
      "Attack   0.306768  1.000000  0.491965  0.146312  0.369069  0.194701  0.670939\n",
      "Defense  0.119782  0.491965  1.000000  0.187569  0.139912 -0.053252  0.508694\n",
      "Sp. Atk  0.236649  0.146312  0.187569  1.000000  0.522907  0.411516  0.680745\n",
      "Sp. Def  0.490978  0.369069  0.139912  0.522907  1.000000  0.392656  0.774383\n",
      "Speed   -0.040939  0.194701 -0.053252  0.411516  0.392656  1.000000  0.506950\n",
      "Total    0.576591  0.670939  0.508694  0.680745  0.774383  0.506950  1.000000\n"
     ]
    }
   ],
   "source": [
    "corr_df=x.corr(method='pearson')\n",
    "print(corr_df)"
   ]
  },
  {
   "cell_type": "code",
   "execution_count": 65,
   "id": "ab313546-a9e8-4db4-86a5-7349ae3478dd",
   "metadata": {},
   "outputs": [
    {
     "name": "stdout",
     "output_type": "stream",
     "text": [
      "               HP    Attack   Defense   Sp. Atk   Sp. Def     Speed     Total\n",
      "HP       1.000000  0.306768  0.119782  0.236649  0.490978 -0.040939  0.576591\n",
      "Attack   0.306768  1.000000  0.491965  0.146312  0.369069  0.194701  0.670939\n",
      "Defense  0.119782  0.491965  1.000000  0.187569  0.139912 -0.053252  0.508694\n",
      "Sp. Atk  0.236649  0.146312  0.187569  1.000000  0.522907  0.411516  0.680745\n",
      "Sp. Def  0.490978  0.369069  0.139912  0.522907  1.000000  0.392656  0.774383\n",
      "Speed   -0.040939  0.194701 -0.053252  0.411516  0.392656  1.000000  0.506950\n",
      "Total    0.576591  0.670939  0.508694  0.680745  0.774383  0.506950  1.000000\n"
     ]
    },
    {
     "data": {
      "image/png": "[encoded data removed]",
      "text/plain": [
       "<Figure size 640x480 with 2 Axes>"
      ]
     },
     "metadata": {},
     "output_type": "display_data"
    }
   ],
   "source": [
    "#Heatmaps are useful to visualize the magnitude of relationship\n",
    "#between multiple variables using the correlation matrix.\n",
    "#Pairs which show high correlation, ‹-0.75 or >0.75, should be considered\n",
    "#and we can eliminate one variable out of the pair leading to feature selection.\n",
    "corr_df=x.corr(method=\"pearson\") #\"spearman\", \"kendaLL\"\n",
    "print(corr_df)\n",
    "sns.heatmap(corr_df,vmax=1.0,vmin=-1.0, annot=True);"
   ]
  },
  {
   "cell_type": "code",
   "execution_count": 15,
   "id": "4281fc22-6203-4330-b2d6-8876edf037cb",
   "metadata": {},
   "outputs": [
    {
     "data": {
      "text/html": [
       "<div>\n",
       "<style scoped>\n",
       "    .dataframe tbody tr th:only-of-type {\n",
       "        vertical-align: middle;\n",
       "    }\n",
       "\n",
       "    .dataframe tbody tr th {\n",
       "        vertical-align: top;\n",
       "    }\n",
       "\n",
       "    .dataframe thead th {\n",
       "        text-align: right;\n",
       "    }\n",
       "</style>\n",
       "<table border=\"1\" class=\"dataframe\">\n",
       "  <thead>\n",
       "    <tr style=\"text-align: right;\">\n",
       "      <th></th>\n",
       "      <th>Survived</th>\n",
       "      <th>Pclass</th>\n",
       "      <th>Name</th>\n",
       "      <th>Sex</th>\n",
       "      <th>Age</th>\n",
       "      <th>SibSp</th>\n",
       "      <th>Parch</th>\n",
       "      <th>Ticket</th>\n",
       "      <th>Fare</th>\n",
       "      <th>Cabin</th>\n",
       "      <th>Embarked</th>\n",
       "    </tr>\n",
       "    <tr>\n",
       "      <th>PassengerId</th>\n",
       "      <th></th>\n",
       "      <th></th>\n",
       "      <th></th>\n",
       "      <th></th>\n",
       "      <th></th>\n",
       "      <th></th>\n",
       "      <th></th>\n",
       "      <th></th>\n",
       "      <th></th>\n",
       "      <th></th>\n",
       "      <th></th>\n",
       "    </tr>\n",
       "  </thead>\n",
       "  <tbody>\n",
       "    <tr>\n",
       "      <th>1</th>\n",
       "      <td>0</td>\n",
       "      <td>3</td>\n",
       "      <td>Braund, Mr. Owen Harris</td>\n",
       "      <td>male</td>\n",
       "      <td>22.0</td>\n",
       "      <td>1</td>\n",
       "      <td>0</td>\n",
       "      <td>A/5 21171</td>\n",
       "      <td>7.2500</td>\n",
       "      <td>NaN</td>\n",
       "      <td>S</td>\n",
       "    </tr>\n",
       "    <tr>\n",
       "      <th>2</th>\n",
       "      <td>1</td>\n",
       "      <td>1</td>\n",
       "      <td>Cumings, Mrs. John Bradley (Florence Briggs Th...</td>\n",
       "      <td>female</td>\n",
       "      <td>38.0</td>\n",
       "      <td>1</td>\n",
       "      <td>0</td>\n",
       "      <td>PC 17599</td>\n",
       "      <td>71.2833</td>\n",
       "      <td>C85</td>\n",
       "      <td>C</td>\n",
       "    </tr>\n",
       "    <tr>\n",
       "      <th>3</th>\n",
       "      <td>1</td>\n",
       "      <td>3</td>\n",
       "      <td>Heikkinen, Miss. Laina</td>\n",
       "      <td>female</td>\n",
       "      <td>26.0</td>\n",
       "      <td>0</td>\n",
       "      <td>0</td>\n",
       "      <td>STON/O2. 3101282</td>\n",
       "      <td>7.9250</td>\n",
       "      <td>NaN</td>\n",
       "      <td>S</td>\n",
       "    </tr>\n",
       "    <tr>\n",
       "      <th>4</th>\n",
       "      <td>1</td>\n",
       "      <td>1</td>\n",
       "      <td>Futrelle, Mrs. Jacques Heath (Lily May Peel)</td>\n",
       "      <td>female</td>\n",
       "      <td>35.0</td>\n",
       "      <td>1</td>\n",
       "      <td>0</td>\n",
       "      <td>113803</td>\n",
       "      <td>53.1000</td>\n",
       "      <td>C123</td>\n",
       "      <td>S</td>\n",
       "    </tr>\n",
       "    <tr>\n",
       "      <th>5</th>\n",
       "      <td>0</td>\n",
       "      <td>3</td>\n",
       "      <td>Allen, Mr. William Henry</td>\n",
       "      <td>male</td>\n",
       "      <td>35.0</td>\n",
       "      <td>0</td>\n",
       "      <td>0</td>\n",
       "      <td>373450</td>\n",
       "      <td>8.0500</td>\n",
       "      <td>NaN</td>\n",
       "      <td>S</td>\n",
       "    </tr>\n",
       "    <tr>\n",
       "      <th>...</th>\n",
       "      <td>...</td>\n",
       "      <td>...</td>\n",
       "      <td>...</td>\n",
       "      <td>...</td>\n",
       "      <td>...</td>\n",
       "      <td>...</td>\n",
       "      <td>...</td>\n",
       "      <td>...</td>\n",
       "      <td>...</td>\n",
       "      <td>...</td>\n",
       "      <td>...</td>\n",
       "    </tr>\n",
       "    <tr>\n",
       "      <th>887</th>\n",
       "      <td>0</td>\n",
       "      <td>2</td>\n",
       "      <td>Montvila, Rev. Juozas</td>\n",
       "      <td>male</td>\n",
       "      <td>27.0</td>\n",
       "      <td>0</td>\n",
       "      <td>0</td>\n",
       "      <td>211536</td>\n",
       "      <td>13.0000</td>\n",
       "      <td>NaN</td>\n",
       "      <td>S</td>\n",
       "    </tr>\n",
       "    <tr>\n",
       "      <th>888</th>\n",
       "      <td>1</td>\n",
       "      <td>1</td>\n",
       "      <td>Graham, Miss. Margaret Edith</td>\n",
       "      <td>female</td>\n",
       "      <td>19.0</td>\n",
       "      <td>0</td>\n",
       "      <td>0</td>\n",
       "      <td>112053</td>\n",
       "      <td>30.0000</td>\n",
       "      <td>B42</td>\n",
       "      <td>S</td>\n",
       "    </tr>\n",
       "    <tr>\n",
       "      <th>889</th>\n",
       "      <td>0</td>\n",
       "      <td>3</td>\n",
       "      <td>Johnston, Miss. Catherine Helen \"Carrie\"</td>\n",
       "      <td>female</td>\n",
       "      <td>NaN</td>\n",
       "      <td>1</td>\n",
       "      <td>2</td>\n",
       "      <td>W./C. 6607</td>\n",
       "      <td>23.4500</td>\n",
       "      <td>NaN</td>\n",
       "      <td>S</td>\n",
       "    </tr>\n",
       "    <tr>\n",
       "      <th>890</th>\n",
       "      <td>1</td>\n",
       "      <td>1</td>\n",
       "      <td>Behr, Mr. Karl Howell</td>\n",
       "      <td>male</td>\n",
       "      <td>26.0</td>\n",
       "      <td>0</td>\n",
       "      <td>0</td>\n",
       "      <td>111369</td>\n",
       "      <td>30.0000</td>\n",
       "      <td>C148</td>\n",
       "      <td>C</td>\n",
       "    </tr>\n",
       "    <tr>\n",
       "      <th>891</th>\n",
       "      <td>0</td>\n",
       "      <td>3</td>\n",
       "      <td>Dooley, Mr. Patrick</td>\n",
       "      <td>male</td>\n",
       "      <td>32.0</td>\n",
       "      <td>0</td>\n",
       "      <td>0</td>\n",
       "      <td>370376</td>\n",
       "      <td>7.7500</td>\n",
       "      <td>NaN</td>\n",
       "      <td>Q</td>\n",
       "    </tr>\n",
       "  </tbody>\n",
       "</table>\n",
       "<p>891 rows × 11 columns</p>\n",
       "</div>"
      ],
      "text/plain": [
       "             Survived  Pclass  \\\n",
       "PassengerId                     \n",
       "1                   0       3   \n",
       "2                   1       1   \n",
       "3                   1       3   \n",
       "4                   1       1   \n",
       "5                   0       3   \n",
       "...               ...     ...   \n",
       "887                 0       2   \n",
       "888                 1       1   \n",
       "889                 0       3   \n",
       "890                 1       1   \n",
       "891                 0       3   \n",
       "\n",
       "                                                          Name     Sex   Age  \\\n",
       "PassengerId                                                                    \n",
       "1                                      Braund, Mr. Owen Harris    male  22.0   \n",
       "2            Cumings, Mrs. John Bradley (Florence Briggs Th...  female  38.0   \n",
       "3                                       Heikkinen, Miss. Laina  female  26.0   \n",
       "4                 Futrelle, Mrs. Jacques Heath (Lily May Peel)  female  35.0   \n",
       "5                                     Allen, Mr. William Henry    male  35.0   \n",
       "...                                                        ...     ...   ...   \n",
       "887                                      Montvila, Rev. Juozas    male  27.0   \n",
       "888                               Graham, Miss. Margaret Edith  female  19.0   \n",
       "889                   Johnston, Miss. Catherine Helen \"Carrie\"  female   NaN   \n",
       "890                                      Behr, Mr. Karl Howell    male  26.0   \n",
       "891                                        Dooley, Mr. Patrick    male  32.0   \n",
       "\n",
       "             SibSp  Parch            Ticket     Fare Cabin Embarked  \n",
       "PassengerId                                                          \n",
       "1                1      0         A/5 21171   7.2500   NaN        S  \n",
       "2                1      0          PC 17599  71.2833   C85        C  \n",
       "3                0      0  STON/O2. 3101282   7.9250   NaN        S  \n",
       "4                1      0            113803  53.1000  C123        S  \n",
       "5                0      0            373450   8.0500   NaN        S  \n",
       "...            ...    ...               ...      ...   ...      ...  \n",
       "887              0      0            211536  13.0000   NaN        S  \n",
       "888              0      0            112053  30.0000   B42        S  \n",
       "889              1      2        W./C. 6607  23.4500   NaN        S  \n",
       "890              0      0            111369  30.0000  C148        C  \n",
       "891              0      0            370376   7.7500   NaN        Q  \n",
       "\n",
       "[891 rows x 11 columns]"
      ]
     },
     "execution_count": 15,
     "metadata": {},
     "output_type": "execute_result"
    }
   ],
   "source": [
    "titanic=pd.read_excel(r'/Users/yusufkhan/Desktop/Datasets/Titanic_Survival_Train.xls',header = 1,index_col=0)\n",
    "titanic"
   ]
  },
  {
   "cell_type": "code",
   "execution_count": 17,
   "id": "811c997c-b94a-48f3-8736-aa8c5778639f",
   "metadata": {},
   "outputs": [
    {
     "name": "stdout",
     "output_type": "stream",
     "text": [
      "          Survived    Pclass       Age     SibSp     Parch      Fare\n",
      "Survived  1.000000 -0.338481 -0.077221 -0.035322  0.081629  0.257307\n",
      "Pclass   -0.338481  1.000000 -0.369226  0.083081  0.018443 -0.549500\n",
      "Age      -0.077221 -0.369226  1.000000 -0.308247 -0.189119  0.096067\n",
      "SibSp    -0.035322  0.083081 -0.308247  1.000000  0.414838  0.159651\n",
      "Parch     0.081629  0.018443 -0.189119  0.414838  1.000000  0.216225\n",
      "Fare      0.257307 -0.549500  0.096067  0.159651  0.216225  1.000000\n"
     ]
    },
    {
     "data": {
      "text/plain": [
       "<Axes: >"
      ]
     },
     "execution_count": 17,
     "metadata": {},
     "output_type": "execute_result"
    },
    {
     "data": {
      "image/png": "[encoded data removed]",
      "text/plain": [
       "<Figure size 640x480 with 2 Axes>"
      ]
     },
     "metadata": {},
     "output_type": "display_data"
    }
   ],
   "source": [
    "new_df=titanic[['Survived','Pclass','Age','SibSp','Parch','Fare']]\n",
    "corr_df=new_df.corr()\n",
    "print(corr_df)\n",
    "sns.heatmap(corr_df,vmax=1.0,vmin=-1.0,annot=True,cmap='twilight')"
   ]
  },
  {
   "cell_type": "code",
   "execution_count": 75,
   "id": "cfc19148-447f-4a10-8dc8-032e8e01853f",
   "metadata": {},
   "outputs": [
    {
     "data": {
      "text/plain": [
       "\u001b[1;31mSignature:\u001b[0m\n",
       "\u001b[0msns\u001b[0m\u001b[1;33m.\u001b[0m\u001b[0mheatmap\u001b[0m\u001b[1;33m(\u001b[0m\u001b[1;33m\n",
       "\u001b[0m    \u001b[0mdata\u001b[0m\u001b[1;33m,\u001b[0m\u001b[1;33m\n",
       "\u001b[0m    \u001b[1;33m*\u001b[0m\u001b[1;33m,\u001b[0m\u001b[1;33m\n",
       "\u001b[0m    \u001b[0mvmin\u001b[0m\u001b[1;33m=\u001b[0m\u001b[1;32mNone\u001b[0m\u001b[1;33m,\u001b[0m\u001b[1;33m\n",
       "\u001b[0m    \u001b[0mvmax\u001b[0m\u001b[1;33m=\u001b[0m\u001b[1;32mNone\u001b[0m\u001b[1;33m,\u001b[0m\u001b[1;33m\n",
       "\u001b[0m    \u001b[0mcmap\u001b[0m\u001b[1;33m=\u001b[0m\u001b[1;32mNone\u001b[0m\u001b[1;33m,\u001b[0m\u001b[1;33m\n",
       "\u001b[0m    \u001b[0mcenter\u001b[0m\u001b[1;33m=\u001b[0m\u001b[1;32mNone\u001b[0m\u001b[1;33m,\u001b[0m\u001b[1;33m\n",
       "\u001b[0m    \u001b[0mrobust\u001b[0m\u001b[1;33m=\u001b[0m\u001b[1;32mFalse\u001b[0m\u001b[1;33m,\u001b[0m\u001b[1;33m\n",
       "\u001b[0m    \u001b[0mannot\u001b[0m\u001b[1;33m=\u001b[0m\u001b[1;32mNone\u001b[0m\u001b[1;33m,\u001b[0m\u001b[1;33m\n",
       "\u001b[0m    \u001b[0mfmt\u001b[0m\u001b[1;33m=\u001b[0m\u001b[1;34m'.2g'\u001b[0m\u001b[1;33m,\u001b[0m\u001b[1;33m\n",
       "\u001b[0m    \u001b[0mannot_kws\u001b[0m\u001b[1;33m=\u001b[0m\u001b[1;32mNone\u001b[0m\u001b[1;33m,\u001b[0m\u001b[1;33m\n",
       "\u001b[0m    \u001b[0mlinewidths\u001b[0m\u001b[1;33m=\u001b[0m\u001b[1;36m0\u001b[0m\u001b[1;33m,\u001b[0m\u001b[1;33m\n",
       "\u001b[0m    \u001b[0mlinecolor\u001b[0m\u001b[1;33m=\u001b[0m\u001b[1;34m'white'\u001b[0m\u001b[1;33m,\u001b[0m\u001b[1;33m\n",
       "\u001b[0m    \u001b[0mcbar\u001b[0m\u001b[1;33m=\u001b[0m\u001b[1;32mTrue\u001b[0m\u001b[1;33m,\u001b[0m\u001b[1;33m\n",
       "\u001b[0m    \u001b[0mcbar_kws\u001b[0m\u001b[1;33m=\u001b[0m\u001b[1;32mNone\u001b[0m\u001b[1;33m,\u001b[0m\u001b[1;33m\n",
       "\u001b[0m    \u001b[0mcbar_ax\u001b[0m\u001b[1;33m=\u001b[0m\u001b[1;32mNone\u001b[0m\u001b[1;33m,\u001b[0m\u001b[1;33m\n",
       "\u001b[0m    \u001b[0msquare\u001b[0m\u001b[1;33m=\u001b[0m\u001b[1;32mFalse\u001b[0m\u001b[1;33m,\u001b[0m\u001b[1;33m\n",
       "\u001b[0m    \u001b[0mxticklabels\u001b[0m\u001b[1;33m=\u001b[0m\u001b[1;34m'auto'\u001b[0m\u001b[1;33m,\u001b[0m\u001b[1;33m\n",
       "\u001b[0m    \u001b[0myticklabels\u001b[0m\u001b[1;33m=\u001b[0m\u001b[1;34m'auto'\u001b[0m\u001b[1;33m,\u001b[0m\u001b[1;33m\n",
       "\u001b[0m    \u001b[0mmask\u001b[0m\u001b[1;33m=\u001b[0m\u001b[1;32mNone\u001b[0m\u001b[1;33m,\u001b[0m\u001b[1;33m\n",
       "\u001b[0m    \u001b[0max\u001b[0m\u001b[1;33m=\u001b[0m\u001b[1;32mNone\u001b[0m\u001b[1;33m,\u001b[0m\u001b[1;33m\n",
       "\u001b[0m    \u001b[1;33m**\u001b[0m\u001b[0mkwargs\u001b[0m\u001b[1;33m,\u001b[0m\u001b[1;33m\n",
       "\u001b[0m\u001b[1;33m)\u001b[0m\u001b[1;33m\u001b[0m\u001b[1;33m\u001b[0m\u001b[0m\n",
       "\u001b[1;31mDocstring:\u001b[0m\n",
       "Plot rectangular data as a color-encoded matrix.\n",
       "\n",
       "This is an Axes-level function and will draw the heatmap into the\n",
       "currently-active Axes if none is provided to the ``ax`` argument.  Part of\n",
       "this Axes space will be taken and used to plot a colormap, unless ``cbar``\n",
       "is False or a separate Axes is provided to ``cbar_ax``.\n",
       "\n",
       "Parameters\n",
       "----------\n",
       "data : rectangular dataset\n",
       "    2D dataset that can be coerced into an ndarray. If a Pandas DataFrame\n",
       "    is provided, the index/column information will be used to label the\n",
       "    columns and rows.\n",
       "vmin, vmax : floats, optional\n",
       "    Values to anchor the colormap, otherwise they are inferred from the\n",
       "    data and other keyword arguments.\n",
       "cmap : matplotlib colormap name or object, or list of colors, optional\n",
       "    The mapping from data values to color space. If not provided, the\n",
       "    default will depend on whether ``center`` is set.\n",
       "center : float, optional\n",
       "    The value at which to center the colormap when plotting divergent data.\n",
       "    Using this parameter will change the default ``cmap`` if none is\n",
       "    specified.\n",
       "robust : bool, optional\n",
       "    If True and ``vmin`` or ``vmax`` are absent, the colormap range is\n",
       "    computed with robust quantiles instead of the extreme values.\n",
       "annot : bool or rectangular dataset, optional\n",
       "    If True, write the data value in each cell. If an array-like with the\n",
       "    same shape as ``data``, then use this to annotate the heatmap instead\n",
       "    of the data. Note that DataFrames will match on position, not index.\n",
       "fmt : str, optional\n",
       "    String formatting code to use when adding annotations.\n",
       "annot_kws : dict of key, value mappings, optional\n",
       "    Keyword arguments for :meth:`matplotlib.axes.Axes.text` when ``annot``\n",
       "    is True.\n",
       "linewidths : float, optional\n",
       "    Width of the lines that will divide each cell.\n",
       "linecolor : color, optional\n",
       "    Color of the lines that will divide each cell.\n",
       "cbar : bool, optional\n",
       "    Whether to draw a colorbar.\n",
       "cbar_kws : dict of key, value mappings, optional\n",
       "    Keyword arguments for :meth:`matplotlib.figure.Figure.colorbar`.\n",
       "cbar_ax : matplotlib Axes, optional\n",
       "    Axes in which to draw the colorbar, otherwise take space from the\n",
       "    main Axes.\n",
       "square : bool, optional\n",
       "    If True, set the Axes aspect to \"equal\" so each cell will be\n",
       "    square-shaped.\n",
       "xticklabels, yticklabels : \"auto\", bool, list-like, or int, optional\n",
       "    If True, plot the column names of the dataframe. If False, don't plot\n",
       "    the column names. If list-like, plot these alternate labels as the\n",
       "    xticklabels. If an integer, use the column names but plot only every\n",
       "    n label. If \"auto\", try to densely plot non-overlapping labels.\n",
       "mask : bool array or DataFrame, optional\n",
       "    If passed, data will not be shown in cells where ``mask`` is True.\n",
       "    Cells with missing values are automatically masked.\n",
       "ax : matplotlib Axes, optional\n",
       "    Axes in which to draw the plot, otherwise use the currently-active\n",
       "    Axes.\n",
       "kwargs : other keyword arguments\n",
       "    All other keyword arguments are passed to\n",
       "    :meth:`matplotlib.axes.Axes.pcolormesh`.\n",
       "\n",
       "Returns\n",
       "-------\n",
       "ax : matplotlib Axes\n",
       "    Axes object with the heatmap.\n",
       "\n",
       "See Also\n",
       "--------\n",
       "clustermap : Plot a matrix using hierarchical clustering to arrange the\n",
       "             rows and columns.\n",
       "\n",
       "Examples\n",
       "--------\n",
       "\n",
       ".. include:: ../docstrings/heatmap.rst\n",
       "\u001b[1;31mFile:\u001b[0m      c:\\users\\arsalan\\anaconda3\\lib\\site-packages\\seaborn\\matrix.py\n",
       "\u001b[1;31mType:\u001b[0m      function"
      ]
     },
     "metadata": {},
     "output_type": "display_data"
    }
   ],
   "source": [
    "?sns.heatmap"
   ]
  },
  {
   "cell_type": "code",
   "execution_count": 21,
   "id": "700a69ee-ec5a-47de-a510-6ab9a8e313ea",
   "metadata": {},
   "outputs": [],
   "source": [
    " #A study reports the monthly count of new subscribers of bloggers; Sheldon, Ross and Joey for a year. Find out who has more consistency in the number of new subscribers?\n",
    "\n",
    " \n",
    "\n",
    "sheldon_sub = [3, 5.1, 2.9, 3.7, 4.2, 4.2, 4.3, 5.2, 3.7, 4.4, 5.2, 3.4]\n",
    "ross_sub = [4, 4.6, 3.1, 4.2, 5.4, 3.4, 5, 6.2, 4.2, 3.5, 4.1, 5.5]\n",
    "joey_sub = [4.3, 4, 4.5, 5.1, 6, 5, 4.8, 5.4, 5.1, 6.4, 4.2, 3.4]"
   ]
  },
  {
   "cell_type": "code",
   "execution_count": 23,
   "id": "120e3d70-4c16-4406-8c35-dfa5d23a34a0",
   "metadata": {},
   "outputs": [],
   "source": [
    "def CV(s):\n",
    "    mu=s.mean()\n",
    "    sd=s.std()\n",
    "    return (sd/mu)*100"
   ]
  },
  {
   "cell_type": "code",
   "execution_count": 25,
   "id": "fad7c300-f7b5-4b43-b524-6ed8647daeb2",
   "metadata": {},
   "outputs": [
    {
     "name": "stdout",
     "output_type": "stream",
     "text": [
      "CV for sheldon is 19.457628382542648\n",
      "CV for ross is 21.145192478821624\n",
      "CV for joey is 17.417938275352736\n"
     ]
    }
   ],
   "source": [
    "sheldon_sub = pd.Series([3, 5.1, 2.9, 3.7, 4.2, 4.2, 4.3, 5.2, 3.7, 4.4, 5.2, 3.4])\n",
    "ross_sub = pd.Series([4, 4.6, 3.1, 4.2, 5.4, 3.4, 5, 6.2, 4.2, 3.5, 4.1, 5.5])\n",
    "joey_sub = pd.Series([4.3, 4, 4.5, 5.1, 6, 5, 4.8, 5.4, 5.1, 6.4, 4.2, 3.4])\n",
    "print('CV for sheldon is',CV(sheldon_sub))\n",
    "print('CV for ross is',CV(ross_sub))\n",
    "print('CV for joey is',CV(joey_sub))"
   ]
  },
  {
   "cell_type": "markdown",
   "id": "3c680424-8841-43c3-b423-afc5c27ad70d",
   "metadata": {},
   "source": [
    "# probability"
   ]
  },
  {
   "cell_type": "code",
   "execution_count": 31,
   "id": "ce832743-5be2-4b41-be19-067a40040e18",
   "metadata": {},
   "outputs": [
    {
     "name": "stdout",
     "output_type": "stream",
     "text": [
      "0.07692307692307693\n",
      "7.6923\n"
     ]
    }
   ],
   "source": [
    "#what is the probability of selecting a jack out of a deck of cards\n",
    "jacks = 4\n",
    "cards = 52\n",
    "jack_prob = jacks/cards\n",
    "print(jack_prob)\n",
    "print(round(jack_prob*100,4))"
   ]
  },
  {
   "cell_type": "code",
   "execution_count": 33,
   "id": "09cf77d9-b1d1-405a-becc-3b87edebd772",
   "metadata": {},
   "outputs": [],
   "source": [
    "#what is the probability of selecting a spade out of a deck of cards\n",
    "def event_prob(event_outcomes,sample_spaces):\n",
    "    prob= (event_outcomes/sample_spaces)\n",
    "    print(\"probability is : \",prob)\n",
    "    return(round(prob*100,4))"
   ]
  },
  {
   "cell_type": "code",
   "execution_count": 35,
   "id": "5f1b104c-5bde-45f5-96f1-bca611ef0aa5",
   "metadata": {},
   "outputs": [
    {
     "name": "stdout",
     "output_type": "stream",
     "text": [
      "probability is :  0.25\n"
     ]
    },
    {
     "data": {
      "text/plain": [
       "25.0"
      ]
     },
     "execution_count": 35,
     "metadata": {},
     "output_type": "execute_result"
    }
   ],
   "source": [
    "spades = 13\n",
    "cards = 52\n",
    "event_prob(spades,cards)"
   ]
  },
  {
   "cell_type": "code",
   "execution_count": 37,
   "id": "14f1138c-e97a-4a63-b88a-ec49045ed354",
   "metadata": {},
   "outputs": [
    {
     "name": "stdout",
     "output_type": "stream",
     "text": [
      "probability is :  0.25\n",
      "probability is :  0.25\n"
     ]
    },
    {
     "data": {
      "text/plain": [
       "50.0"
      ]
     },
     "execution_count": 37,
     "metadata": {},
     "output_type": "execute_result"
    }
   ],
   "source": [
    "#what would be the probability of selecting a heart or a club card from deck of cards \n",
    "# in or probability gets added\n",
    "hearts = 13\n",
    "club = 13\n",
    "total_prob= event_prob(hearts,cards) + event_prob(club,cards)\n",
    "total_prob\n",
    " \n"
   ]
  },
  {
   "cell_type": "code",
   "execution_count": 47,
   "id": "c5fd712e-34f8-450e-8512-911aa2dec9d0",
   "metadata": {},
   "outputs": [
    {
     "name": "stdout",
     "output_type": "stream",
     "text": [
      "probability is :  0.07692307692307693\n",
      "probability is :  0.07692307692307693\n",
      "probability is :  0.07692307692307693\n"
     ]
    },
    {
     "data": {
      "text/plain": [
       "23.076900000000002"
      ]
     },
     "execution_count": 47,
     "metadata": {},
     "output_type": "execute_result"
    }
   ],
   "source": [
    "#What is the probability of drawing an ace or a king or a queen\n",
    "ace = 4\n",
    "heart_ace = 1\n",
    "king = 4 \n",
    "queen = 4\n",
    "total_prob = event_prob(ace,cards) + event_prob(king,cards) + event_prob(queen,cards) \n",
    "total_prob"
   ]
  },
  {
   "cell_type": "code",
   "execution_count": 49,
   "id": "1207f38d-1b71-424c-9df2-8ab5cc57252c",
   "metadata": {},
   "outputs": [
    {
     "name": "stdout",
     "output_type": "stream",
     "text": [
      "probability is :  0.25\n",
      "probability is :  0.07692307692307693\n",
      "probability is :  0.019230769230769232\n"
     ]
    },
    {
     "data": {
      "text/plain": [
       "30.7692"
      ]
     },
     "execution_count": 49,
     "metadata": {},
     "output_type": "execute_result"
    }
   ],
   "source": [
    " #calculate the probability of drawing an heart or an ace\n",
    "total_prob = event_prob(hearts,cards) + event_prob(ace,cards)- event_prob(heart_ace,cards)\n",
    "total_prob"
   ]
  },
  {
   "cell_type": "code",
   "execution_count": 55,
   "id": "fde44e22-a44e-43e4-a1b5-aa93b5137282",
   "metadata": {},
   "outputs": [
    {
     "data": {
      "image/png": "[encoded data removed]",
      "text/plain": [
       "<IPython.core.display.Image object>"
      ]
     },
     "execution_count": 55,
     "metadata": {},
     "output_type": "execute_result"
    }
   ],
   "source": [
    "from IPython import display\n",
    "display.Image(r\"/Users/yusufkhan/Downloads/17d92cc9246c514da27eb2b1b50b4e5d.png\")"
   ]
  },
  {
   "cell_type": "code",
   "execution_count": 57,
   "id": "fcf41909-328c-4bbb-a441-40ba85a6d220",
   "metadata": {},
   "outputs": [
    {
     "name": "stdout",
     "output_type": "stream",
     "text": [
      "probability is :  0.42857142857142855\n"
     ]
    },
    {
     "data": {
      "text/plain": [
       "42.8571"
      ]
     },
     "execution_count": 57,
     "metadata": {},
     "output_type": "execute_result"
    }
   ],
   "source": [
    "boys = 70\n",
    "b_p = 30\n",
    "event_prob(b_p,boys)"
   ]
  },
  {
   "cell_type": "code",
   "execution_count": 61,
   "id": "bdec1dc9-1693-4be4-8e7c-c38fc0215e27",
   "metadata": {},
   "outputs": [
    {
     "name": "stdout",
     "output_type": "stream",
     "text": [
      "probability is :  0.41935483870967744\n"
     ]
    },
    {
     "data": {
      "text/plain": [
       "41.9355"
      ]
     },
     "execution_count": 61,
     "metadata": {},
     "output_type": "execute_result"
    }
   ],
   "source": [
    "total_sam=155\n",
    "total_sizz = 65\n",
    "event_prob(total_sizz,total_sam)"
   ]
  },
  {
   "cell_type": "code",
   "execution_count": 69,
   "id": "41119bd6-997b-464e-98db-2651de8d2cec",
   "metadata": {},
   "outputs": [
    {
     "name": "stdout",
     "output_type": "stream",
     "text": [
      "('Alex', 'Bhavesh', 'Samantha')\n",
      "('Alex', 'Samantha', 'Bhavesh')\n",
      "('Bhavesh', 'Alex', 'Samantha')\n",
      "('Bhavesh', 'Samantha', 'Alex')\n",
      "('Samantha', 'Alex', 'Bhavesh')\n",
      "('Samantha', 'Bhavesh', 'Alex')\n"
     ]
    }
   ],
   "source": [
    "from itertools import permutations\n",
    "seq = permutations(['Alex','Bhavesh','Samantha'])\n",
    "for p in list(seq):\n",
    "    print(p)\n",
    "    "
   ]
  },
  {
   "cell_type": "code",
   "execution_count": 89,
   "id": "f4971e4c-2666-4eca-a130-cd2f9ac4c179",
   "metadata": {},
   "outputs": [
    {
     "name": "stdout",
     "output_type": "stream",
     "text": [
      "(1, 2, 3)\n",
      "(1, 3, 2)\n",
      "(2, 1, 3)\n",
      "(2, 3, 1)\n",
      "(3, 1, 2)\n",
      "(3, 2, 1)\n"
     ]
    }
   ],
   "source": [
    "seq = permutations([1,2,3])\n",
    "for p in list(seq):\n",
    "    print(p)"
   ]
  },
  {
   "cell_type": "code",
   "execution_count": 83,
   "id": "102ae7d1-245f-493a-b9b9-e4a496d3b6c7",
   "metadata": {},
   "outputs": [
    {
     "name": "stdout",
     "output_type": "stream",
     "text": [
      "('Alex', 'Bhavesh')\n",
      "('Alex', 'Samantha')\n",
      "('Alex', 'Josh')\n",
      "('Bhavesh', 'Samantha')\n",
      "('Bhavesh', 'Josh')\n",
      "('Samantha', 'Josh')\n"
     ]
    }
   ],
   "source": [
    "from itertools import combinations\n",
    "seq = combinations(['Alex','Bhavesh','Samantha','Josh'],2)\n",
    "for p in list(seq):\n",
    "    print(p)"
   ]
  },
  {
   "cell_type": "code",
   "execution_count": 85,
   "id": "9b0c059a-8289-4858-8584-cf055c0aaa84",
   "metadata": {},
   "outputs": [
    {
     "name": "stdout",
     "output_type": "stream",
     "text": [
      "('p', 'y', 't', 'h', 'o', 'n')\n",
      "('p', 'y', 't', 'h', 'n', 'o')\n",
      "('p', 'y', 't', 'o', 'h', 'n')\n",
      "('p', 'y', 't', 'o', 'n', 'h')\n",
      "('p', 'y', 't', 'n', 'h', 'o')\n",
      "('p', 'y', 't', 'n', 'o', 'h')\n",
      "('p', 'y', 'h', 't', 'o', 'n')\n",
      "('p', 'y', 'h', 't', 'n', 'o')\n",
      "('p', 'y', 'h', 'o', 't', 'n')\n",
      "('p', 'y', 'h', 'o', 'n', 't')\n",
      "('p', 'y', 'h', 'n', 't', 'o')\n",
      "('p', 'y', 'h', 'n', 'o', 't')\n",
      "('p', 'y', 'o', 't', 'h', 'n')\n",
      "('p', 'y', 'o', 't', 'n', 'h')\n",
      "('p', 'y', 'o', 'h', 't', 'n')\n",
      "('p', 'y', 'o', 'h', 'n', 't')\n",
      "('p', 'y', 'o', 'n', 't', 'h')\n",
      "('p', 'y', 'o', 'n', 'h', 't')\n",
      "('p', 'y', 'n', 't', 'h', 'o')\n",
      "('p', 'y', 'n', 't', 'o', 'h')\n",
      "('p', 'y', 'n', 'h', 't', 'o')\n",
      "('p', 'y', 'n', 'h', 'o', 't')\n",
      "('p', 'y', 'n', 'o', 't', 'h')\n",
      "('p', 'y', 'n', 'o', 'h', 't')\n",
      "('p', 't', 'y', 'h', 'o', 'n')\n",
      "('p', 't', 'y', 'h', 'n', 'o')\n",
      "('p', 't', 'y', 'o', 'h', 'n')\n",
      "('p', 't', 'y', 'o', 'n', 'h')\n",
      "('p', 't', 'y', 'n', 'h', 'o')\n",
      "('p', 't', 'y', 'n', 'o', 'h')\n",
      "('p', 't', 'h', 'y', 'o', 'n')\n",
      "('p', 't', 'h', 'y', 'n', 'o')\n",
      "('p', 't', 'h', 'o', 'y', 'n')\n",
      "('p', 't', 'h', 'o', 'n', 'y')\n",
      "('p', 't', 'h', 'n', 'y', 'o')\n",
      "('p', 't', 'h', 'n', 'o', 'y')\n",
      "('p', 't', 'o', 'y', 'h', 'n')\n",
      "('p', 't', 'o', 'y', 'n', 'h')\n",
      "('p', 't', 'o', 'h', 'y', 'n')\n",
      "('p', 't', 'o', 'h', 'n', 'y')\n",
      "('p', 't', 'o', 'n', 'y', 'h')\n",
      "('p', 't', 'o', 'n', 'h', 'y')\n",
      "('p', 't', 'n', 'y', 'h', 'o')\n",
      "('p', 't', 'n', 'y', 'o', 'h')\n",
      "('p', 't', 'n', 'h', 'y', 'o')\n",
      "('p', 't', 'n', 'h', 'o', 'y')\n",
      "('p', 't', 'n', 'o', 'y', 'h')\n",
      "('p', 't', 'n', 'o', 'h', 'y')\n",
      "('p', 'h', 'y', 't', 'o', 'n')\n",
      "('p', 'h', 'y', 't', 'n', 'o')\n",
      "('p', 'h', 'y', 'o', 't', 'n')\n",
      "('p', 'h', 'y', 'o', 'n', 't')\n",
      "('p', 'h', 'y', 'n', 't', 'o')\n",
      "('p', 'h', 'y', 'n', 'o', 't')\n",
      "('p', 'h', 't', 'y', 'o', 'n')\n",
      "('p', 'h', 't', 'y', 'n', 'o')\n",
      "('p', 'h', 't', 'o', 'y', 'n')\n",
      "('p', 'h', 't', 'o', 'n', 'y')\n",
      "('p', 'h', 't', 'n', 'y', 'o')\n",
      "('p', 'h', 't', 'n', 'o', 'y')\n",
      "('p', 'h', 'o', 'y', 't', 'n')\n",
      "('p', 'h', 'o', 'y', 'n', 't')\n",
      "('p', 'h', 'o', 't', 'y', 'n')\n",
      "('p', 'h', 'o', 't', 'n', 'y')\n",
      "('p', 'h', 'o', 'n', 'y', 't')\n",
      "('p', 'h', 'o', 'n', 't', 'y')\n",
      "('p', 'h', 'n', 'y', 't', 'o')\n",
      "('p', 'h', 'n', 'y', 'o', 't')\n",
      "('p', 'h', 'n', 't', 'y', 'o')\n",
      "('p', 'h', 'n', 't', 'o', 'y')\n",
      "('p', 'h', 'n', 'o', 'y', 't')\n",
      "('p', 'h', 'n', 'o', 't', 'y')\n",
      "('p', 'o', 'y', 't', 'h', 'n')\n",
      "('p', 'o', 'y', 't', 'n', 'h')\n",
      "('p', 'o', 'y', 'h', 't', 'n')\n",
      "('p', 'o', 'y', 'h', 'n', 't')\n",
      "('p', 'o', 'y', 'n', 't', 'h')\n",
      "('p', 'o', 'y', 'n', 'h', 't')\n",
      "('p', 'o', 't', 'y', 'h', 'n')\n",
      "('p', 'o', 't', 'y', 'n', 'h')\n",
      "('p', 'o', 't', 'h', 'y', 'n')\n",
      "('p', 'o', 't', 'h', 'n', 'y')\n",
      "('p', 'o', 't', 'n', 'y', 'h')\n",
      "('p', 'o', 't', 'n', 'h', 'y')\n",
      "('p', 'o', 'h', 'y', 't', 'n')\n",
      "('p', 'o', 'h', 'y', 'n', 't')\n",
      "('p', 'o', 'h', 't', 'y', 'n')\n",
      "('p', 'o', 'h', 't', 'n', 'y')\n",
      "('p', 'o', 'h', 'n', 'y', 't')\n",
      "('p', 'o', 'h', 'n', 't', 'y')\n",
      "('p', 'o', 'n', 'y', 't', 'h')\n",
      "('p', 'o', 'n', 'y', 'h', 't')\n",
      "('p', 'o', 'n', 't', 'y', 'h')\n",
      "('p', 'o', 'n', 't', 'h', 'y')\n",
      "('p', 'o', 'n', 'h', 'y', 't')\n",
      "('p', 'o', 'n', 'h', 't', 'y')\n",
      "('p', 'n', 'y', 't', 'h', 'o')\n",
      "('p', 'n', 'y', 't', 'o', 'h')\n",
      "('p', 'n', 'y', 'h', 't', 'o')\n",
      "('p', 'n', 'y', 'h', 'o', 't')\n",
      "('p', 'n', 'y', 'o', 't', 'h')\n",
      "('p', 'n', 'y', 'o', 'h', 't')\n",
      "('p', 'n', 't', 'y', 'h', 'o')\n",
      "('p', 'n', 't', 'y', 'o', 'h')\n",
      "('p', 'n', 't', 'h', 'y', 'o')\n",
      "('p', 'n', 't', 'h', 'o', 'y')\n",
      "('p', 'n', 't', 'o', 'y', 'h')\n",
      "('p', 'n', 't', 'o', 'h', 'y')\n",
      "('p', 'n', 'h', 'y', 't', 'o')\n",
      "('p', 'n', 'h', 'y', 'o', 't')\n",
      "('p', 'n', 'h', 't', 'y', 'o')\n",
      "('p', 'n', 'h', 't', 'o', 'y')\n",
      "('p', 'n', 'h', 'o', 'y', 't')\n",
      "('p', 'n', 'h', 'o', 't', 'y')\n",
      "('p', 'n', 'o', 'y', 't', 'h')\n",
      "('p', 'n', 'o', 'y', 'h', 't')\n",
      "('p', 'n', 'o', 't', 'y', 'h')\n",
      "('p', 'n', 'o', 't', 'h', 'y')\n",
      "('p', 'n', 'o', 'h', 'y', 't')\n",
      "('p', 'n', 'o', 'h', 't', 'y')\n",
      "('y', 'p', 't', 'h', 'o', 'n')\n",
      "('y', 'p', 't', 'h', 'n', 'o')\n",
      "('y', 'p', 't', 'o', 'h', 'n')\n",
      "('y', 'p', 't', 'o', 'n', 'h')\n",
      "('y', 'p', 't', 'n', 'h', 'o')\n",
      "('y', 'p', 't', 'n', 'o', 'h')\n",
      "('y', 'p', 'h', 't', 'o', 'n')\n",
      "('y', 'p', 'h', 't', 'n', 'o')\n",
      "('y', 'p', 'h', 'o', 't', 'n')\n",
      "('y', 'p', 'h', 'o', 'n', 't')\n",
      "('y', 'p', 'h', 'n', 't', 'o')\n",
      "('y', 'p', 'h', 'n', 'o', 't')\n",
      "('y', 'p', 'o', 't', 'h', 'n')\n",
      "('y', 'p', 'o', 't', 'n', 'h')\n",
      "('y', 'p', 'o', 'h', 't', 'n')\n",
      "('y', 'p', 'o', 'h', 'n', 't')\n",
      "('y', 'p', 'o', 'n', 't', 'h')\n",
      "('y', 'p', 'o', 'n', 'h', 't')\n",
      "('y', 'p', 'n', 't', 'h', 'o')\n",
      "('y', 'p', 'n', 't', 'o', 'h')\n",
      "('y', 'p', 'n', 'h', 't', 'o')\n",
      "('y', 'p', 'n', 'h', 'o', 't')\n",
      "('y', 'p', 'n', 'o', 't', 'h')\n",
      "('y', 'p', 'n', 'o', 'h', 't')\n",
      "('y', 't', 'p', 'h', 'o', 'n')\n",
      "('y', 't', 'p', 'h', 'n', 'o')\n",
      "('y', 't', 'p', 'o', 'h', 'n')\n",
      "('y', 't', 'p', 'o', 'n', 'h')\n",
      "('y', 't', 'p', 'n', 'h', 'o')\n",
      "('y', 't', 'p', 'n', 'o', 'h')\n",
      "('y', 't', 'h', 'p', 'o', 'n')\n",
      "('y', 't', 'h', 'p', 'n', 'o')\n",
      "('y', 't', 'h', 'o', 'p', 'n')\n",
      "('y', 't', 'h', 'o', 'n', 'p')\n",
      "('y', 't', 'h', 'n', 'p', 'o')\n",
      "('y', 't', 'h', 'n', 'o', 'p')\n",
      "('y', 't', 'o', 'p', 'h', 'n')\n",
      "('y', 't', 'o', 'p', 'n', 'h')\n",
      "('y', 't', 'o', 'h', 'p', 'n')\n",
      "('y', 't', 'o', 'h', 'n', 'p')\n",
      "('y', 't', 'o', 'n', 'p', 'h')\n",
      "('y', 't', 'o', 'n', 'h', 'p')\n",
      "('y', 't', 'n', 'p', 'h', 'o')\n",
      "('y', 't', 'n', 'p', 'o', 'h')\n",
      "('y', 't', 'n', 'h', 'p', 'o')\n",
      "('y', 't', 'n', 'h', 'o', 'p')\n",
      "('y', 't', 'n', 'o', 'p', 'h')\n",
      "('y', 't', 'n', 'o', 'h', 'p')\n",
      "('y', 'h', 'p', 't', 'o', 'n')\n",
      "('y', 'h', 'p', 't', 'n', 'o')\n",
      "('y', 'h', 'p', 'o', 't', 'n')\n",
      "('y', 'h', 'p', 'o', 'n', 't')\n",
      "('y', 'h', 'p', 'n', 't', 'o')\n",
      "('y', 'h', 'p', 'n', 'o', 't')\n",
      "('y', 'h', 't', 'p', 'o', 'n')\n",
      "('y', 'h', 't', 'p', 'n', 'o')\n",
      "('y', 'h', 't', 'o', 'p', 'n')\n",
      "('y', 'h', 't', 'o', 'n', 'p')\n",
      "('y', 'h', 't', 'n', 'p', 'o')\n",
      "('y', 'h', 't', 'n', 'o', 'p')\n",
      "('y', 'h', 'o', 'p', 't', 'n')\n",
      "('y', 'h', 'o', 'p', 'n', 't')\n",
      "('y', 'h', 'o', 't', 'p', 'n')\n",
      "('y', 'h', 'o', 't', 'n', 'p')\n",
      "('y', 'h', 'o', 'n', 'p', 't')\n",
      "('y', 'h', 'o', 'n', 't', 'p')\n",
      "('y', 'h', 'n', 'p', 't', 'o')\n",
      "('y', 'h', 'n', 'p', 'o', 't')\n",
      "('y', 'h', 'n', 't', 'p', 'o')\n",
      "('y', 'h', 'n', 't', 'o', 'p')\n",
      "('y', 'h', 'n', 'o', 'p', 't')\n",
      "('y', 'h', 'n', 'o', 't', 'p')\n",
      "('y', 'o', 'p', 't', 'h', 'n')\n",
      "('y', 'o', 'p', 't', 'n', 'h')\n",
      "('y', 'o', 'p', 'h', 't', 'n')\n",
      "('y', 'o', 'p', 'h', 'n', 't')\n",
      "('y', 'o', 'p', 'n', 't', 'h')\n",
      "('y', 'o', 'p', 'n', 'h', 't')\n",
      "('y', 'o', 't', 'p', 'h', 'n')\n",
      "('y', 'o', 't', 'p', 'n', 'h')\n",
      "('y', 'o', 't', 'h', 'p', 'n')\n",
      "('y', 'o', 't', 'h', 'n', 'p')\n",
      "('y', 'o', 't', 'n', 'p', 'h')\n",
      "('y', 'o', 't', 'n', 'h', 'p')\n",
      "('y', 'o', 'h', 'p', 't', 'n')\n",
      "('y', 'o', 'h', 'p', 'n', 't')\n",
      "('y', 'o', 'h', 't', 'p', 'n')\n",
      "('y', 'o', 'h', 't', 'n', 'p')\n",
      "('y', 'o', 'h', 'n', 'p', 't')\n",
      "('y', 'o', 'h', 'n', 't', 'p')\n",
      "('y', 'o', 'n', 'p', 't', 'h')\n",
      "('y', 'o', 'n', 'p', 'h', 't')\n",
      "('y', 'o', 'n', 't', 'p', 'h')\n",
      "('y', 'o', 'n', 't', 'h', 'p')\n",
      "('y', 'o', 'n', 'h', 'p', 't')\n",
      "('y', 'o', 'n', 'h', 't', 'p')\n",
      "('y', 'n', 'p', 't', 'h', 'o')\n",
      "('y', 'n', 'p', 't', 'o', 'h')\n",
      "('y', 'n', 'p', 'h', 't', 'o')\n",
      "('y', 'n', 'p', 'h', 'o', 't')\n",
      "('y', 'n', 'p', 'o', 't', 'h')\n",
      "('y', 'n', 'p', 'o', 'h', 't')\n",
      "('y', 'n', 't', 'p', 'h', 'o')\n",
      "('y', 'n', 't', 'p', 'o', 'h')\n",
      "('y', 'n', 't', 'h', 'p', 'o')\n",
      "('y', 'n', 't', 'h', 'o', 'p')\n",
      "('y', 'n', 't', 'o', 'p', 'h')\n",
      "('y', 'n', 't', 'o', 'h', 'p')\n",
      "('y', 'n', 'h', 'p', 't', 'o')\n",
      "('y', 'n', 'h', 'p', 'o', 't')\n",
      "('y', 'n', 'h', 't', 'p', 'o')\n",
      "('y', 'n', 'h', 't', 'o', 'p')\n",
      "('y', 'n', 'h', 'o', 'p', 't')\n",
      "('y', 'n', 'h', 'o', 't', 'p')\n",
      "('y', 'n', 'o', 'p', 't', 'h')\n",
      "('y', 'n', 'o', 'p', 'h', 't')\n",
      "('y', 'n', 'o', 't', 'p', 'h')\n",
      "('y', 'n', 'o', 't', 'h', 'p')\n",
      "('y', 'n', 'o', 'h', 'p', 't')\n",
      "('y', 'n', 'o', 'h', 't', 'p')\n",
      "('t', 'p', 'y', 'h', 'o', 'n')\n",
      "('t', 'p', 'y', 'h', 'n', 'o')\n",
      "('t', 'p', 'y', 'o', 'h', 'n')\n",
      "('t', 'p', 'y', 'o', 'n', 'h')\n",
      "('t', 'p', 'y', 'n', 'h', 'o')\n",
      "('t', 'p', 'y', 'n', 'o', 'h')\n",
      "('t', 'p', 'h', 'y', 'o', 'n')\n",
      "('t', 'p', 'h', 'y', 'n', 'o')\n",
      "('t', 'p', 'h', 'o', 'y', 'n')\n",
      "('t', 'p', 'h', 'o', 'n', 'y')\n",
      "('t', 'p', 'h', 'n', 'y', 'o')\n",
      "('t', 'p', 'h', 'n', 'o', 'y')\n",
      "('t', 'p', 'o', 'y', 'h', 'n')\n",
      "('t', 'p', 'o', 'y', 'n', 'h')\n",
      "('t', 'p', 'o', 'h', 'y', 'n')\n",
      "('t', 'p', 'o', 'h', 'n', 'y')\n",
      "('t', 'p', 'o', 'n', 'y', 'h')\n",
      "('t', 'p', 'o', 'n', 'h', 'y')\n",
      "('t', 'p', 'n', 'y', 'h', 'o')\n",
      "('t', 'p', 'n', 'y', 'o', 'h')\n",
      "('t', 'p', 'n', 'h', 'y', 'o')\n",
      "('t', 'p', 'n', 'h', 'o', 'y')\n",
      "('t', 'p', 'n', 'o', 'y', 'h')\n",
      "('t', 'p', 'n', 'o', 'h', 'y')\n",
      "('t', 'y', 'p', 'h', 'o', 'n')\n",
      "('t', 'y', 'p', 'h', 'n', 'o')\n",
      "('t', 'y', 'p', 'o', 'h', 'n')\n",
      "('t', 'y', 'p', 'o', 'n', 'h')\n",
      "('t', 'y', 'p', 'n', 'h', 'o')\n",
      "('t', 'y', 'p', 'n', 'o', 'h')\n",
      "('t', 'y', 'h', 'p', 'o', 'n')\n",
      "('t', 'y', 'h', 'p', 'n', 'o')\n",
      "('t', 'y', 'h', 'o', 'p', 'n')\n",
      "('t', 'y', 'h', 'o', 'n', 'p')\n",
      "('t', 'y', 'h', 'n', 'p', 'o')\n",
      "('t', 'y', 'h', 'n', 'o', 'p')\n",
      "('t', 'y', 'o', 'p', 'h', 'n')\n",
      "('t', 'y', 'o', 'p', 'n', 'h')\n",
      "('t', 'y', 'o', 'h', 'p', 'n')\n",
      "('t', 'y', 'o', 'h', 'n', 'p')\n",
      "('t', 'y', 'o', 'n', 'p', 'h')\n",
      "('t', 'y', 'o', 'n', 'h', 'p')\n",
      "('t', 'y', 'n', 'p', 'h', 'o')\n",
      "('t', 'y', 'n', 'p', 'o', 'h')\n",
      "('t', 'y', 'n', 'h', 'p', 'o')\n",
      "('t', 'y', 'n', 'h', 'o', 'p')\n",
      "('t', 'y', 'n', 'o', 'p', 'h')\n",
      "('t', 'y', 'n', 'o', 'h', 'p')\n",
      "('t', 'h', 'p', 'y', 'o', 'n')\n",
      "('t', 'h', 'p', 'y', 'n', 'o')\n",
      "('t', 'h', 'p', 'o', 'y', 'n')\n",
      "('t', 'h', 'p', 'o', 'n', 'y')\n",
      "('t', 'h', 'p', 'n', 'y', 'o')\n",
      "('t', 'h', 'p', 'n', 'o', 'y')\n",
      "('t', 'h', 'y', 'p', 'o', 'n')\n",
      "('t', 'h', 'y', 'p', 'n', 'o')\n",
      "('t', 'h', 'y', 'o', 'p', 'n')\n",
      "('t', 'h', 'y', 'o', 'n', 'p')\n",
      "('t', 'h', 'y', 'n', 'p', 'o')\n",
      "('t', 'h', 'y', 'n', 'o', 'p')\n",
      "('t', 'h', 'o', 'p', 'y', 'n')\n",
      "('t', 'h', 'o', 'p', 'n', 'y')\n",
      "('t', 'h', 'o', 'y', 'p', 'n')\n",
      "('t', 'h', 'o', 'y', 'n', 'p')\n",
      "('t', 'h', 'o', 'n', 'p', 'y')\n",
      "('t', 'h', 'o', 'n', 'y', 'p')\n",
      "('t', 'h', 'n', 'p', 'y', 'o')\n",
      "('t', 'h', 'n', 'p', 'o', 'y')\n",
      "('t', 'h', 'n', 'y', 'p', 'o')\n",
      "('t', 'h', 'n', 'y', 'o', 'p')\n",
      "('t', 'h', 'n', 'o', 'p', 'y')\n",
      "('t', 'h', 'n', 'o', 'y', 'p')\n",
      "('t', 'o', 'p', 'y', 'h', 'n')\n",
      "('t', 'o', 'p', 'y', 'n', 'h')\n",
      "('t', 'o', 'p', 'h', 'y', 'n')\n",
      "('t', 'o', 'p', 'h', 'n', 'y')\n",
      "('t', 'o', 'p', 'n', 'y', 'h')\n",
      "('t', 'o', 'p', 'n', 'h', 'y')\n",
      "('t', 'o', 'y', 'p', 'h', 'n')\n",
      "('t', 'o', 'y', 'p', 'n', 'h')\n",
      "('t', 'o', 'y', 'h', 'p', 'n')\n",
      "('t', 'o', 'y', 'h', 'n', 'p')\n",
      "('t', 'o', 'y', 'n', 'p', 'h')\n",
      "('t', 'o', 'y', 'n', 'h', 'p')\n",
      "('t', 'o', 'h', 'p', 'y', 'n')\n",
      "('t', 'o', 'h', 'p', 'n', 'y')\n",
      "('t', 'o', 'h', 'y', 'p', 'n')\n",
      "('t', 'o', 'h', 'y', 'n', 'p')\n",
      "('t', 'o', 'h', 'n', 'p', 'y')\n",
      "('t', 'o', 'h', 'n', 'y', 'p')\n",
      "('t', 'o', 'n', 'p', 'y', 'h')\n",
      "('t', 'o', 'n', 'p', 'h', 'y')\n",
      "('t', 'o', 'n', 'y', 'p', 'h')\n",
      "('t', 'o', 'n', 'y', 'h', 'p')\n",
      "('t', 'o', 'n', 'h', 'p', 'y')\n",
      "('t', 'o', 'n', 'h', 'y', 'p')\n",
      "('t', 'n', 'p', 'y', 'h', 'o')\n",
      "('t', 'n', 'p', 'y', 'o', 'h')\n",
      "('t', 'n', 'p', 'h', 'y', 'o')\n",
      "('t', 'n', 'p', 'h', 'o', 'y')\n",
      "('t', 'n', 'p', 'o', 'y', 'h')\n",
      "('t', 'n', 'p', 'o', 'h', 'y')\n",
      "('t', 'n', 'y', 'p', 'h', 'o')\n",
      "('t', 'n', 'y', 'p', 'o', 'h')\n",
      "('t', 'n', 'y', 'h', 'p', 'o')\n",
      "('t', 'n', 'y', 'h', 'o', 'p')\n",
      "('t', 'n', 'y', 'o', 'p', 'h')\n",
      "('t', 'n', 'y', 'o', 'h', 'p')\n",
      "('t', 'n', 'h', 'p', 'y', 'o')\n",
      "('t', 'n', 'h', 'p', 'o', 'y')\n",
      "('t', 'n', 'h', 'y', 'p', 'o')\n",
      "('t', 'n', 'h', 'y', 'o', 'p')\n",
      "('t', 'n', 'h', 'o', 'p', 'y')\n",
      "('t', 'n', 'h', 'o', 'y', 'p')\n",
      "('t', 'n', 'o', 'p', 'y', 'h')\n",
      "('t', 'n', 'o', 'p', 'h', 'y')\n",
      "('t', 'n', 'o', 'y', 'p', 'h')\n",
      "('t', 'n', 'o', 'y', 'h', 'p')\n",
      "('t', 'n', 'o', 'h', 'p', 'y')\n",
      "('t', 'n', 'o', 'h', 'y', 'p')\n",
      "('h', 'p', 'y', 't', 'o', 'n')\n",
      "('h', 'p', 'y', 't', 'n', 'o')\n",
      "('h', 'p', 'y', 'o', 't', 'n')\n",
      "('h', 'p', 'y', 'o', 'n', 't')\n",
      "('h', 'p', 'y', 'n', 't', 'o')\n",
      "('h', 'p', 'y', 'n', 'o', 't')\n",
      "('h', 'p', 't', 'y', 'o', 'n')\n",
      "('h', 'p', 't', 'y', 'n', 'o')\n",
      "('h', 'p', 't', 'o', 'y', 'n')\n",
      "('h', 'p', 't', 'o', 'n', 'y')\n",
      "('h', 'p', 't', 'n', 'y', 'o')\n",
      "('h', 'p', 't', 'n', 'o', 'y')\n",
      "('h', 'p', 'o', 'y', 't', 'n')\n",
      "('h', 'p', 'o', 'y', 'n', 't')\n",
      "('h', 'p', 'o', 't', 'y', 'n')\n",
      "('h', 'p', 'o', 't', 'n', 'y')\n",
      "('h', 'p', 'o', 'n', 'y', 't')\n",
      "('h', 'p', 'o', 'n', 't', 'y')\n",
      "('h', 'p', 'n', 'y', 't', 'o')\n",
      "('h', 'p', 'n', 'y', 'o', 't')\n",
      "('h', 'p', 'n', 't', 'y', 'o')\n",
      "('h', 'p', 'n', 't', 'o', 'y')\n",
      "('h', 'p', 'n', 'o', 'y', 't')\n",
      "('h', 'p', 'n', 'o', 't', 'y')\n",
      "('h', 'y', 'p', 't', 'o', 'n')\n",
      "('h', 'y', 'p', 't', 'n', 'o')\n",
      "('h', 'y', 'p', 'o', 't', 'n')\n",
      "('h', 'y', 'p', 'o', 'n', 't')\n",
      "('h', 'y', 'p', 'n', 't', 'o')\n",
      "('h', 'y', 'p', 'n', 'o', 't')\n",
      "('h', 'y', 't', 'p', 'o', 'n')\n",
      "('h', 'y', 't', 'p', 'n', 'o')\n",
      "('h', 'y', 't', 'o', 'p', 'n')\n",
      "('h', 'y', 't', 'o', 'n', 'p')\n",
      "('h', 'y', 't', 'n', 'p', 'o')\n",
      "('h', 'y', 't', 'n', 'o', 'p')\n",
      "('h', 'y', 'o', 'p', 't', 'n')\n",
      "('h', 'y', 'o', 'p', 'n', 't')\n",
      "('h', 'y', 'o', 't', 'p', 'n')\n",
      "('h', 'y', 'o', 't', 'n', 'p')\n",
      "('h', 'y', 'o', 'n', 'p', 't')\n",
      "('h', 'y', 'o', 'n', 't', 'p')\n",
      "('h', 'y', 'n', 'p', 't', 'o')\n",
      "('h', 'y', 'n', 'p', 'o', 't')\n",
      "('h', 'y', 'n', 't', 'p', 'o')\n",
      "('h', 'y', 'n', 't', 'o', 'p')\n",
      "('h', 'y', 'n', 'o', 'p', 't')\n",
      "('h', 'y', 'n', 'o', 't', 'p')\n",
      "('h', 't', 'p', 'y', 'o', 'n')\n",
      "('h', 't', 'p', 'y', 'n', 'o')\n",
      "('h', 't', 'p', 'o', 'y', 'n')\n",
      "('h', 't', 'p', 'o', 'n', 'y')\n",
      "('h', 't', 'p', 'n', 'y', 'o')\n",
      "('h', 't', 'p', 'n', 'o', 'y')\n",
      "('h', 't', 'y', 'p', 'o', 'n')\n",
      "('h', 't', 'y', 'p', 'n', 'o')\n",
      "('h', 't', 'y', 'o', 'p', 'n')\n",
      "('h', 't', 'y', 'o', 'n', 'p')\n",
      "('h', 't', 'y', 'n', 'p', 'o')\n",
      "('h', 't', 'y', 'n', 'o', 'p')\n",
      "('h', 't', 'o', 'p', 'y', 'n')\n",
      "('h', 't', 'o', 'p', 'n', 'y')\n",
      "('h', 't', 'o', 'y', 'p', 'n')\n",
      "('h', 't', 'o', 'y', 'n', 'p')\n",
      "('h', 't', 'o', 'n', 'p', 'y')\n",
      "('h', 't', 'o', 'n', 'y', 'p')\n",
      "('h', 't', 'n', 'p', 'y', 'o')\n",
      "('h', 't', 'n', 'p', 'o', 'y')\n",
      "('h', 't', 'n', 'y', 'p', 'o')\n",
      "('h', 't', 'n', 'y', 'o', 'p')\n",
      "('h', 't', 'n', 'o', 'p', 'y')\n",
      "('h', 't', 'n', 'o', 'y', 'p')\n",
      "('h', 'o', 'p', 'y', 't', 'n')\n",
      "('h', 'o', 'p', 'y', 'n', 't')\n",
      "('h', 'o', 'p', 't', 'y', 'n')\n",
      "('h', 'o', 'p', 't', 'n', 'y')\n",
      "('h', 'o', 'p', 'n', 'y', 't')\n",
      "('h', 'o', 'p', 'n', 't', 'y')\n",
      "('h', 'o', 'y', 'p', 't', 'n')\n",
      "('h', 'o', 'y', 'p', 'n', 't')\n",
      "('h', 'o', 'y', 't', 'p', 'n')\n",
      "('h', 'o', 'y', 't', 'n', 'p')\n",
      "('h', 'o', 'y', 'n', 'p', 't')\n",
      "('h', 'o', 'y', 'n', 't', 'p')\n",
      "('h', 'o', 't', 'p', 'y', 'n')\n",
      "('h', 'o', 't', 'p', 'n', 'y')\n",
      "('h', 'o', 't', 'y', 'p', 'n')\n",
      "('h', 'o', 't', 'y', 'n', 'p')\n",
      "('h', 'o', 't', 'n', 'p', 'y')\n",
      "('h', 'o', 't', 'n', 'y', 'p')\n",
      "('h', 'o', 'n', 'p', 'y', 't')\n",
      "('h', 'o', 'n', 'p', 't', 'y')\n",
      "('h', 'o', 'n', 'y', 'p', 't')\n",
      "('h', 'o', 'n', 'y', 't', 'p')\n",
      "('h', 'o', 'n', 't', 'p', 'y')\n",
      "('h', 'o', 'n', 't', 'y', 'p')\n",
      "('h', 'n', 'p', 'y', 't', 'o')\n",
      "('h', 'n', 'p', 'y', 'o', 't')\n",
      "('h', 'n', 'p', 't', 'y', 'o')\n",
      "('h', 'n', 'p', 't', 'o', 'y')\n",
      "('h', 'n', 'p', 'o', 'y', 't')\n",
      "('h', 'n', 'p', 'o', 't', 'y')\n",
      "('h', 'n', 'y', 'p', 't', 'o')\n",
      "('h', 'n', 'y', 'p', 'o', 't')\n",
      "('h', 'n', 'y', 't', 'p', 'o')\n",
      "('h', 'n', 'y', 't', 'o', 'p')\n",
      "('h', 'n', 'y', 'o', 'p', 't')\n",
      "('h', 'n', 'y', 'o', 't', 'p')\n",
      "('h', 'n', 't', 'p', 'y', 'o')\n",
      "('h', 'n', 't', 'p', 'o', 'y')\n",
      "('h', 'n', 't', 'y', 'p', 'o')\n",
      "('h', 'n', 't', 'y', 'o', 'p')\n",
      "('h', 'n', 't', 'o', 'p', 'y')\n",
      "('h', 'n', 't', 'o', 'y', 'p')\n",
      "('h', 'n', 'o', 'p', 'y', 't')\n",
      "('h', 'n', 'o', 'p', 't', 'y')\n",
      "('h', 'n', 'o', 'y', 'p', 't')\n",
      "('h', 'n', 'o', 'y', 't', 'p')\n",
      "('h', 'n', 'o', 't', 'p', 'y')\n",
      "('h', 'n', 'o', 't', 'y', 'p')\n",
      "('o', 'p', 'y', 't', 'h', 'n')\n",
      "('o', 'p', 'y', 't', 'n', 'h')\n",
      "('o', 'p', 'y', 'h', 't', 'n')\n",
      "('o', 'p', 'y', 'h', 'n', 't')\n",
      "('o', 'p', 'y', 'n', 't', 'h')\n",
      "('o', 'p', 'y', 'n', 'h', 't')\n",
      "('o', 'p', 't', 'y', 'h', 'n')\n",
      "('o', 'p', 't', 'y', 'n', 'h')\n",
      "('o', 'p', 't', 'h', 'y', 'n')\n",
      "('o', 'p', 't', 'h', 'n', 'y')\n",
      "('o', 'p', 't', 'n', 'y', 'h')\n",
      "('o', 'p', 't', 'n', 'h', 'y')\n",
      "('o', 'p', 'h', 'y', 't', 'n')\n",
      "('o', 'p', 'h', 'y', 'n', 't')\n",
      "('o', 'p', 'h', 't', 'y', 'n')\n",
      "('o', 'p', 'h', 't', 'n', 'y')\n",
      "('o', 'p', 'h', 'n', 'y', 't')\n",
      "('o', 'p', 'h', 'n', 't', 'y')\n",
      "('o', 'p', 'n', 'y', 't', 'h')\n",
      "('o', 'p', 'n', 'y', 'h', 't')\n",
      "('o', 'p', 'n', 't', 'y', 'h')\n",
      "('o', 'p', 'n', 't', 'h', 'y')\n",
      "('o', 'p', 'n', 'h', 'y', 't')\n",
      "('o', 'p', 'n', 'h', 't', 'y')\n",
      "('o', 'y', 'p', 't', 'h', 'n')\n",
      "('o', 'y', 'p', 't', 'n', 'h')\n",
      "('o', 'y', 'p', 'h', 't', 'n')\n",
      "('o', 'y', 'p', 'h', 'n', 't')\n",
      "('o', 'y', 'p', 'n', 't', 'h')\n",
      "('o', 'y', 'p', 'n', 'h', 't')\n",
      "('o', 'y', 't', 'p', 'h', 'n')\n",
      "('o', 'y', 't', 'p', 'n', 'h')\n",
      "('o', 'y', 't', 'h', 'p', 'n')\n",
      "('o', 'y', 't', 'h', 'n', 'p')\n",
      "('o', 'y', 't', 'n', 'p', 'h')\n",
      "('o', 'y', 't', 'n', 'h', 'p')\n",
      "('o', 'y', 'h', 'p', 't', 'n')\n",
      "('o', 'y', 'h', 'p', 'n', 't')\n",
      "('o', 'y', 'h', 't', 'p', 'n')\n",
      "('o', 'y', 'h', 't', 'n', 'p')\n",
      "('o', 'y', 'h', 'n', 'p', 't')\n",
      "('o', 'y', 'h', 'n', 't', 'p')\n",
      "('o', 'y', 'n', 'p', 't', 'h')\n",
      "('o', 'y', 'n', 'p', 'h', 't')\n",
      "('o', 'y', 'n', 't', 'p', 'h')\n",
      "('o', 'y', 'n', 't', 'h', 'p')\n",
      "('o', 'y', 'n', 'h', 'p', 't')\n",
      "('o', 'y', 'n', 'h', 't', 'p')\n",
      "('o', 't', 'p', 'y', 'h', 'n')\n",
      "('o', 't', 'p', 'y', 'n', 'h')\n",
      "('o', 't', 'p', 'h', 'y', 'n')\n",
      "('o', 't', 'p', 'h', 'n', 'y')\n",
      "('o', 't', 'p', 'n', 'y', 'h')\n",
      "('o', 't', 'p', 'n', 'h', 'y')\n",
      "('o', 't', 'y', 'p', 'h', 'n')\n",
      "('o', 't', 'y', 'p', 'n', 'h')\n",
      "('o', 't', 'y', 'h', 'p', 'n')\n",
      "('o', 't', 'y', 'h', 'n', 'p')\n",
      "('o', 't', 'y', 'n', 'p', 'h')\n",
      "('o', 't', 'y', 'n', 'h', 'p')\n",
      "('o', 't', 'h', 'p', 'y', 'n')\n",
      "('o', 't', 'h', 'p', 'n', 'y')\n",
      "('o', 't', 'h', 'y', 'p', 'n')\n",
      "('o', 't', 'h', 'y', 'n', 'p')\n",
      "('o', 't', 'h', 'n', 'p', 'y')\n",
      "('o', 't', 'h', 'n', 'y', 'p')\n",
      "('o', 't', 'n', 'p', 'y', 'h')\n",
      "('o', 't', 'n', 'p', 'h', 'y')\n",
      "('o', 't', 'n', 'y', 'p', 'h')\n",
      "('o', 't', 'n', 'y', 'h', 'p')\n",
      "('o', 't', 'n', 'h', 'p', 'y')\n",
      "('o', 't', 'n', 'h', 'y', 'p')\n",
      "('o', 'h', 'p', 'y', 't', 'n')\n",
      "('o', 'h', 'p', 'y', 'n', 't')\n",
      "('o', 'h', 'p', 't', 'y', 'n')\n",
      "('o', 'h', 'p', 't', 'n', 'y')\n",
      "('o', 'h', 'p', 'n', 'y', 't')\n",
      "('o', 'h', 'p', 'n', 't', 'y')\n",
      "('o', 'h', 'y', 'p', 't', 'n')\n",
      "('o', 'h', 'y', 'p', 'n', 't')\n",
      "('o', 'h', 'y', 't', 'p', 'n')\n",
      "('o', 'h', 'y', 't', 'n', 'p')\n",
      "('o', 'h', 'y', 'n', 'p', 't')\n",
      "('o', 'h', 'y', 'n', 't', 'p')\n",
      "('o', 'h', 't', 'p', 'y', 'n')\n",
      "('o', 'h', 't', 'p', 'n', 'y')\n",
      "('o', 'h', 't', 'y', 'p', 'n')\n",
      "('o', 'h', 't', 'y', 'n', 'p')\n",
      "('o', 'h', 't', 'n', 'p', 'y')\n",
      "('o', 'h', 't', 'n', 'y', 'p')\n",
      "('o', 'h', 'n', 'p', 'y', 't')\n",
      "('o', 'h', 'n', 'p', 't', 'y')\n",
      "('o', 'h', 'n', 'y', 'p', 't')\n",
      "('o', 'h', 'n', 'y', 't', 'p')\n",
      "('o', 'h', 'n', 't', 'p', 'y')\n",
      "('o', 'h', 'n', 't', 'y', 'p')\n",
      "('o', 'n', 'p', 'y', 't', 'h')\n",
      "('o', 'n', 'p', 'y', 'h', 't')\n",
      "('o', 'n', 'p', 't', 'y', 'h')\n",
      "('o', 'n', 'p', 't', 'h', 'y')\n",
      "('o', 'n', 'p', 'h', 'y', 't')\n",
      "('o', 'n', 'p', 'h', 't', 'y')\n",
      "('o', 'n', 'y', 'p', 't', 'h')\n",
      "('o', 'n', 'y', 'p', 'h', 't')\n",
      "('o', 'n', 'y', 't', 'p', 'h')\n",
      "('o', 'n', 'y', 't', 'h', 'p')\n",
      "('o', 'n', 'y', 'h', 'p', 't')\n",
      "('o', 'n', 'y', 'h', 't', 'p')\n",
      "('o', 'n', 't', 'p', 'y', 'h')\n",
      "('o', 'n', 't', 'p', 'h', 'y')\n",
      "('o', 'n', 't', 'y', 'p', 'h')\n",
      "('o', 'n', 't', 'y', 'h', 'p')\n",
      "('o', 'n', 't', 'h', 'p', 'y')\n",
      "('o', 'n', 't', 'h', 'y', 'p')\n",
      "('o', 'n', 'h', 'p', 'y', 't')\n",
      "('o', 'n', 'h', 'p', 't', 'y')\n",
      "('o', 'n', 'h', 'y', 'p', 't')\n",
      "('o', 'n', 'h', 'y', 't', 'p')\n",
      "('o', 'n', 'h', 't', 'p', 'y')\n",
      "('o', 'n', 'h', 't', 'y', 'p')\n",
      "('n', 'p', 'y', 't', 'h', 'o')\n",
      "('n', 'p', 'y', 't', 'o', 'h')\n",
      "('n', 'p', 'y', 'h', 't', 'o')\n",
      "('n', 'p', 'y', 'h', 'o', 't')\n",
      "('n', 'p', 'y', 'o', 't', 'h')\n",
      "('n', 'p', 'y', 'o', 'h', 't')\n",
      "('n', 'p', 't', 'y', 'h', 'o')\n",
      "('n', 'p', 't', 'y', 'o', 'h')\n",
      "('n', 'p', 't', 'h', 'y', 'o')\n",
      "('n', 'p', 't', 'h', 'o', 'y')\n",
      "('n', 'p', 't', 'o', 'y', 'h')\n",
      "('n', 'p', 't', 'o', 'h', 'y')\n",
      "('n', 'p', 'h', 'y', 't', 'o')\n",
      "('n', 'p', 'h', 'y', 'o', 't')\n",
      "('n', 'p', 'h', 't', 'y', 'o')\n",
      "('n', 'p', 'h', 't', 'o', 'y')\n",
      "('n', 'p', 'h', 'o', 'y', 't')\n",
      "('n', 'p', 'h', 'o', 't', 'y')\n",
      "('n', 'p', 'o', 'y', 't', 'h')\n",
      "('n', 'p', 'o', 'y', 'h', 't')\n",
      "('n', 'p', 'o', 't', 'y', 'h')\n",
      "('n', 'p', 'o', 't', 'h', 'y')\n",
      "('n', 'p', 'o', 'h', 'y', 't')\n",
      "('n', 'p', 'o', 'h', 't', 'y')\n",
      "('n', 'y', 'p', 't', 'h', 'o')\n",
      "('n', 'y', 'p', 't', 'o', 'h')\n",
      "('n', 'y', 'p', 'h', 't', 'o')\n",
      "('n', 'y', 'p', 'h', 'o', 't')\n",
      "('n', 'y', 'p', 'o', 't', 'h')\n",
      "('n', 'y', 'p', 'o', 'h', 't')\n",
      "('n', 'y', 't', 'p', 'h', 'o')\n",
      "('n', 'y', 't', 'p', 'o', 'h')\n",
      "('n', 'y', 't', 'h', 'p', 'o')\n",
      "('n', 'y', 't', 'h', 'o', 'p')\n",
      "('n', 'y', 't', 'o', 'p', 'h')\n",
      "('n', 'y', 't', 'o', 'h', 'p')\n",
      "('n', 'y', 'h', 'p', 't', 'o')\n",
      "('n', 'y', 'h', 'p', 'o', 't')\n",
      "('n', 'y', 'h', 't', 'p', 'o')\n",
      "('n', 'y', 'h', 't', 'o', 'p')\n",
      "('n', 'y', 'h', 'o', 'p', 't')\n",
      "('n', 'y', 'h', 'o', 't', 'p')\n",
      "('n', 'y', 'o', 'p', 't', 'h')\n",
      "('n', 'y', 'o', 'p', 'h', 't')\n",
      "('n', 'y', 'o', 't', 'p', 'h')\n",
      "('n', 'y', 'o', 't', 'h', 'p')\n",
      "('n', 'y', 'o', 'h', 'p', 't')\n",
      "('n', 'y', 'o', 'h', 't', 'p')\n",
      "('n', 't', 'p', 'y', 'h', 'o')\n",
      "('n', 't', 'p', 'y', 'o', 'h')\n",
      "('n', 't', 'p', 'h', 'y', 'o')\n",
      "('n', 't', 'p', 'h', 'o', 'y')\n",
      "('n', 't', 'p', 'o', 'y', 'h')\n",
      "('n', 't', 'p', 'o', 'h', 'y')\n",
      "('n', 't', 'y', 'p', 'h', 'o')\n",
      "('n', 't', 'y', 'p', 'o', 'h')\n",
      "('n', 't', 'y', 'h', 'p', 'o')\n",
      "('n', 't', 'y', 'h', 'o', 'p')\n",
      "('n', 't', 'y', 'o', 'p', 'h')\n",
      "('n', 't', 'y', 'o', 'h', 'p')\n",
      "('n', 't', 'h', 'p', 'y', 'o')\n",
      "('n', 't', 'h', 'p', 'o', 'y')\n",
      "('n', 't', 'h', 'y', 'p', 'o')\n",
      "('n', 't', 'h', 'y', 'o', 'p')\n",
      "('n', 't', 'h', 'o', 'p', 'y')\n",
      "('n', 't', 'h', 'o', 'y', 'p')\n",
      "('n', 't', 'o', 'p', 'y', 'h')\n",
      "('n', 't', 'o', 'p', 'h', 'y')\n",
      "('n', 't', 'o', 'y', 'p', 'h')\n",
      "('n', 't', 'o', 'y', 'h', 'p')\n",
      "('n', 't', 'o', 'h', 'p', 'y')\n",
      "('n', 't', 'o', 'h', 'y', 'p')\n",
      "('n', 'h', 'p', 'y', 't', 'o')\n",
      "('n', 'h', 'p', 'y', 'o', 't')\n",
      "('n', 'h', 'p', 't', 'y', 'o')\n",
      "('n', 'h', 'p', 't', 'o', 'y')\n",
      "('n', 'h', 'p', 'o', 'y', 't')\n",
      "('n', 'h', 'p', 'o', 't', 'y')\n",
      "('n', 'h', 'y', 'p', 't', 'o')\n",
      "('n', 'h', 'y', 'p', 'o', 't')\n",
      "('n', 'h', 'y', 't', 'p', 'o')\n",
      "('n', 'h', 'y', 't', 'o', 'p')\n",
      "('n', 'h', 'y', 'o', 'p', 't')\n",
      "('n', 'h', 'y', 'o', 't', 'p')\n",
      "('n', 'h', 't', 'p', 'y', 'o')\n",
      "('n', 'h', 't', 'p', 'o', 'y')\n",
      "('n', 'h', 't', 'y', 'p', 'o')\n",
      "('n', 'h', 't', 'y', 'o', 'p')\n",
      "('n', 'h', 't', 'o', 'p', 'y')\n",
      "('n', 'h', 't', 'o', 'y', 'p')\n",
      "('n', 'h', 'o', 'p', 'y', 't')\n",
      "('n', 'h', 'o', 'p', 't', 'y')\n",
      "('n', 'h', 'o', 'y', 'p', 't')\n",
      "('n', 'h', 'o', 'y', 't', 'p')\n",
      "('n', 'h', 'o', 't', 'p', 'y')\n",
      "('n', 'h', 'o', 't', 'y', 'p')\n",
      "('n', 'o', 'p', 'y', 't', 'h')\n",
      "('n', 'o', 'p', 'y', 'h', 't')\n",
      "('n', 'o', 'p', 't', 'y', 'h')\n",
      "('n', 'o', 'p', 't', 'h', 'y')\n",
      "('n', 'o', 'p', 'h', 'y', 't')\n",
      "('n', 'o', 'p', 'h', 't', 'y')\n",
      "('n', 'o', 'y', 'p', 't', 'h')\n",
      "('n', 'o', 'y', 'p', 'h', 't')\n",
      "('n', 'o', 'y', 't', 'p', 'h')\n",
      "('n', 'o', 'y', 't', 'h', 'p')\n",
      "('n', 'o', 'y', 'h', 'p', 't')\n",
      "('n', 'o', 'y', 'h', 't', 'p')\n",
      "('n', 'o', 't', 'p', 'y', 'h')\n",
      "('n', 'o', 't', 'p', 'h', 'y')\n",
      "('n', 'o', 't', 'y', 'p', 'h')\n",
      "('n', 'o', 't', 'y', 'h', 'p')\n",
      "('n', 'o', 't', 'h', 'p', 'y')\n",
      "('n', 'o', 't', 'h', 'y', 'p')\n",
      "('n', 'o', 'h', 'p', 'y', 't')\n",
      "('n', 'o', 'h', 'p', 't', 'y')\n",
      "('n', 'o', 'h', 'y', 'p', 't')\n",
      "('n', 'o', 'h', 'y', 't', 'p')\n",
      "('n', 'o', 'h', 't', 'p', 'y')\n",
      "('n', 'o', 'h', 't', 'y', 'p')\n"
     ]
    }
   ],
   "source": [
    "\n",
    "seq = permutations(['p','y','t','h','o','n'])\n",
    "for p in list(seq):\n",
    "    print(p)"
   ]
  },
  {
   "cell_type": "code",
   "execution_count": 97,
   "id": "379cff86-d6fc-41e4-9453-ad071ce74ebe",
   "metadata": {},
   "outputs": [
    {
     "name": "stdout",
     "output_type": "stream",
     "text": [
      "('p', 'y', 't', 'h', 'o')\n",
      "('p', 'y', 't', 'h', 'n')\n",
      "('p', 'y', 't', 'o', 'n')\n",
      "('p', 'y', 'h', 'o', 'n')\n",
      "('p', 't', 'h', 'o', 'n')\n",
      "('y', 't', 'h', 'o', 'n')\n"
     ]
    }
   ],
   "source": [
    "seq = combinations(['p','y','t','h','o','n'],5)\n",
    "for p in list(seq):\n",
    "    print(p)"
   ]
  },
  {
   "cell_type": "code",
   "execution_count": 111,
   "id": "ed78e704-3687-47a7-9a5b-8873391d75bd",
   "metadata": {},
   "outputs": [
    {
     "data": {
      "text/plain": [
       "[('a', 'a'),\n",
       " ('a', 'b'),\n",
       " ('a', 'c'),\n",
       " ('a', 'd'),\n",
       " ('b', 'a'),\n",
       " ('b', 'b'),\n",
       " ('b', 'c'),\n",
       " ('b', 'd'),\n",
       " ('c', 'a'),\n",
       " ('c', 'b'),\n",
       " ('c', 'c'),\n",
       " ('c', 'd'),\n",
       " ('d', 'a'),\n",
       " ('d', 'b'),\n",
       " ('d', 'c'),\n",
       " ('d', 'd')]"
      ]
     },
     "execution_count": 111,
     "metadata": {},
     "output_type": "execute_result"
    }
   ],
   "source": [
    "from itertools import product\n",
    "x = ['a','b','c','d']\n",
    "[p for p in product(x,repeat=2) ]"
   ]
  },
  {
   "cell_type": "markdown",
   "id": "55a85587-b3f2-4f0d-9677-aaf16b3a5c87",
   "metadata": {},
   "source": [
    "# bernoulli distribution and binomial distribution"
   ]
  },
  {
   "cell_type": "code",
   "execution_count": 113,
   "id": "9f32c6fe-fb3c-4fb3-a08b-048a917b645b",
   "metadata": {},
   "outputs": [],
   "source": [
    "from scipy import stats\n",
    "import numpy as np\n",
    "import math"
   ]
  },
  {
   "cell_type": "code",
   "execution_count": null,
   "id": "cfdd363d-c316-4142-8f83-d94807c455d5",
   "metadata": {},
   "outputs": [],
   "source": [
    "# consider titanic survival where surviving is the sucess and its probability is 0.7. generate its pmf"
   ]
  },
  {
   "cell_type": "code",
   "execution_count": 116,
   "id": "0c79dd94-d24b-4f24-bde0-6c46c0248c74",
   "metadata": {},
   "outputs": [
    {
     "data": {
      "text/plain": [
       "array([0.3, 0.7])"
      ]
     },
     "execution_count": 116,
     "metadata": {},
     "output_type": "execute_result"
    }
   ],
   "source": [
    "x =[0,1]\n",
    "p = 0.7\n",
    "stats.bernoulli.pmf(x,p)"
   ]
  },
  {
   "cell_type": "code",
   "execution_count": 122,
   "id": "63955d72-b048-4658-8815-db5dd236b121",
   "metadata": {},
   "outputs": [
    {
     "data": {
      "text/plain": [
       "array([0.3, 1. ])"
      ]
     },
     "execution_count": 122,
     "metadata": {},
     "output_type": "execute_result"
    }
   ],
   "source": [
    "x =[0,1]\n",
    "p = 0.7\n",
    "stats.bernoulli.cdf(x,p)"
   ]
  },
  {
   "cell_type": "code",
   "execution_count": 126,
   "id": "fe115047-9831-4130-84a3-4be92204dba5",
   "metadata": {},
   "outputs": [
    {
     "data": {
      "text/plain": [
       "array([1, 0, 1, 1, 1, 1, 1, 1, 1, 1, 1, 1, 1, 0, 0, 1, 0, 1, 1, 1, 1, 0,\n",
       "       1, 1, 0, 1, 1, 1, 1, 1, 1, 1, 1, 1, 0, 1, 1, 1, 0, 1, 1, 1, 1, 1,\n",
       "       1, 1, 0, 1, 0, 1])"
      ]
     },
     "execution_count": 126,
     "metadata": {},
     "output_type": "execute_result"
    }
   ],
   "source": [
    "# generate a random space having 100 values in a bernoulli dist with p=0.7\n",
    "p = 0.75\n",
    "rs =  stats.bernoulli.rvs(p,size=50)\n",
    "rs"
   ]
  },
  {
   "cell_type": "code",
   "execution_count": null,
   "id": "36461a19-cab0-491d-9abe-da783665439f",
   "metadata": {},
   "outputs": [],
   "source": [
    "#Huge Fruit Basket (HFB) is a grocery shop that sells fruits. \n",
    "#It is observed that 20% of their customers complain about the fruits purchased by them for many reasons \n",
    "#(bad quality, foul smell and less quantity). \n",
    "#On Friday, 30 customers purchased fruits from HFB."
   ]
  },
  {
   "cell_type": "code",
   "execution_count": 130,
   "id": "52888286-5657-4abd-9a75-fddf7746e387",
   "metadata": {},
   "outputs": [
    {
     "data": {
      "text/plain": [
       "0.03547089295332892"
      ]
     },
     "execution_count": 130,
     "metadata": {},
     "output_type": "execute_result"
    }
   ],
   "source": [
    "# Calculate the probability that exactly 10 customers will complain about the purchased products.\n",
    "# p(X=10)\n",
    "prob = stats.binom.pmf(10,30,0.2) # 30 is total, 20% is complain\n",
    "prob"
   ]
  },
  {
   "cell_type": "code",
   "execution_count": 132,
   "id": "f387e3ef-e32a-4a96-b427-444f523f136e",
   "metadata": {},
   "outputs": [
    {
     "data": {
      "text/plain": [
       "0.9743837446646734"
      ]
     },
     "execution_count": 132,
     "metadata": {},
     "output_type": "execute_result"
    }
   ],
   "source": [
    "# p(X=10)\n",
    "prob = stats.binom.cdf(10,30,0.2) # 30 is total 20% is complain\n",
    "prob"
   ]
  },
  {
   "cell_type": "code",
   "execution_count": 134,
   "id": "2d0afe4c-13bf-4fb1-b04c-ed2737c6c0fd",
   "metadata": {},
   "outputs": [
    {
     "data": {
      "text/plain": [
       "0.8713492460859559"
      ]
     },
     "execution_count": 134,
     "metadata": {},
     "output_type": "execute_result"
    }
   ],
   "source": [
    "# Calculate the probability that maximum of 8 customers will complain about the fruits purchased by them.\n",
    "# here since our value is not exact but upto 8 , we use cdf\n",
    "prob = stats.binom.cdf(8,30,0.2) # 30 is total 20% is complain\n",
    "prob"
   ]
  },
  {
   "cell_type": "code",
   "execution_count": 136,
   "id": "2bc5ba01-f48e-46eb-92a0-dab9e032e589",
   "metadata": {},
   "outputs": [
    {
     "data": {
      "text/plain": [
       "0.025616255335326632"
      ]
     },
     "execution_count": 136,
     "metadata": {},
     "output_type": "execute_result"
    }
   ],
   "source": [
    "# Calculate the probability that more than 10 customers will complain about the fruits purchased by them.\n",
    "# p(X>10)\n",
    "prob = 1 - stats.binom.cdf(10,30,0.2) # 30 is total 20% is complain\n",
    "prob"
   ]
  },
  {
   "cell_type": "code",
   "execution_count": 138,
   "id": "1a21f0e8-3e11-4bf3-bb90-88cdc7b77ef2",
   "metadata": {},
   "outputs": [
    {
     "name": "stdout",
     "output_type": "stream",
     "text": [
      "Mean is:  6.0\n",
      "Std is:  2.1908902300206647\n"
     ]
    }
   ],
   "source": [
    "# Find the average number of customers who are likely to complain about the fruits. Also find the variance of the number of complaints.\n",
    "import math\n",
    "average , variance = stats.binom.stats(30,0.2)\n",
    "print(\"Mean is: \",average)\n",
    "print(\"Std is: \",math.sqrt(variance))"
   ]
  },
  {
   "cell_type": "code",
   "execution_count": 142,
   "id": "df61cf88-20a1-4a3f-8af4-976a05671875",
   "metadata": {},
   "outputs": [
    {
     "data": {
      "text/plain": [
       "0.9906285740147096"
      ]
     },
     "execution_count": 142,
     "metadata": {},
     "output_type": "execute_result"
    }
   ],
   "source": [
    "# From the experience, it is seen that 3% of the tyres produced by the machine are defective. \n",
    "# Out of the 15 tyres produced, find the probability that at most 2 are defective.\n",
    "# P(X<=2)\n",
    "stats.binom.cdf(2,15,0.03)"
   ]
  },
  {
   "cell_type": "markdown",
   "id": "62abb0a0-6549-4788-829b-50d4b2bb140e",
   "metadata": {},
   "source": [
    "# poisson dist"
   ]
  },
  {
   "cell_type": "code",
   "execution_count": null,
   "id": "e4fd8065-3f04-4ec1-aed4-a837c15e444c",
   "metadata": {},
   "outputs": [],
   "source": [
    "#The number of customer returns in a retail chain per day follows a poisson distribution at a rate of 25 returns per day.\n",
    " #Calculate the probability that the number of returns exceeds 30 in a day.\n",
    " \n",
    "#The number of road accidents on the day follow Poisson distribution with mean equals to 3. \n",
    "#What is the probability that on a day exactly 1 accident will happen?\n",
    " \n",
    "#The number of trucks crossing a bridge during the day follow a Poisson distribution with mean 22.\n",
    "#What is the probability that on a randomly selected day 14 trucks would have crossed the bridge?\n"
   ]
  },
  {
   "cell_type": "code",
   "execution_count": null,
   "id": "926e4156-3627-4aae-9e91-b485e290e0bc",
   "metadata": {},
   "outputs": [],
   "source": []
  },
  {
   "cell_type": "code",
   "execution_count": null,
   "id": "f0dc1c75-1e83-4d9e-9b19-202214fee7a7",
   "metadata": {},
   "outputs": [],
   "source": []
  },
  {
   "cell_type": "code",
   "execution_count": null,
   "id": "fc57ce20-cf98-4a08-a0b9-88efbfbe7f7a",
   "metadata": {},
   "outputs": [],
   "source": []
  },
  {
   "cell_type": "markdown",
   "id": "176f3a76-e704-487d-98bb-7473a3ca7622",
   "metadata": {},
   "source": [
    "# Normal dist"
   ]
  },
  {
   "cell_type": "code",
   "execution_count": 148,
   "id": "06a37de6-cc44-4d61-8a21-9a6b61ef3983",
   "metadata": {},
   "outputs": [
    {
     "data": {
      "text/plain": [
       "0.15865525393145724"
      ]
     },
     "execution_count": 148,
     "metadata": {},
     "output_type": "execute_result"
    }
   ],
   "source": [
    "#Assume a normal distribution where the mean clotting time of blood is 7.35 seconds, \n",
    "#with a standard deviation of 0.35 seconds.\n",
    "#What is the probability that blood clotting time will be less than 7 seconds\n",
    " \n",
    "from scipy import stats\n",
    "mean = 7.35\n",
    "std = 0.35\n",
    "# to find P(X<7)\n",
    "stats.norm.cdf(7,mean,std)"
   ]
  },
  {
   "cell_type": "code",
   "execution_count": 160,
   "id": "145056b6-edaf-4d50-a644-c6ed2f87b8c3",
   "metadata": {},
   "outputs": [
    {
     "data": {
      "text/plain": [
       "array([6.75790523, 7.41436296, 7.65648685, 6.87288865, 7.51381903,\n",
       "       7.56011366, 7.54578636, 7.017329  , 7.45644944, 8.05594415,\n",
       "       7.01323561, 6.51571955, 6.998145  , 7.33500536, 7.20687109,\n",
       "       7.20660569, 6.84998289, 7.20756832, 7.82790893, 7.24842785,\n",
       "       7.26461997, 6.97590489, 7.33603355, 7.70172955, 8.04143243,\n",
       "       7.48052224, 7.20306344, 7.05205826, 7.25557839, 7.2463368 ])"
      ]
     },
     "execution_count": 160,
     "metadata": {},
     "output_type": "execute_result"
    }
   ],
   "source": [
    "nd = stats.norm.rvs(7.35,0.35,30)\n",
    "nd"
   ]
  },
  {
   "cell_type": "code",
   "execution_count": 162,
   "id": "6f399ec0-00af-4cea-bbbb-a1f159229f73",
   "metadata": {},
   "outputs": [
    {
     "data": {
      "text/plain": [
       "<Axes: ylabel='Density'>"
      ]
     },
     "execution_count": 162,
     "metadata": {},
     "output_type": "execute_result"
    },
    {
     "data": {
      "image/png": "[encoded data removed]",
      "text/plain": [
       "<Figure size 640x480 with 1 Axes>"
      ]
     },
     "metadata": {},
     "output_type": "display_data"
    }
   ],
   "source": [
    "import seaborn as sns\n",
    "sns.distplot(nd)"
   ]
  },
  {
   "cell_type": "code",
   "execution_count": 164,
   "id": "2d3ec0b0-74c8-431e-a46c-42f40828b86a",
   "metadata": {},
   "outputs": [
    {
     "data": {
      "text/plain": [
       "0.9154342776486644"
      ]
     },
     "execution_count": 164,
     "metadata": {},
     "output_type": "execute_result"
    }
   ],
   "source": [
    "#Assume a normal distribution where the average size of the bass in a lake is 11.4 inches, \n",
    "##with a standard deviation of 3.2 inches. \n",
    "#Find the probability of catching a bass longer than 17 inches.\n",
    "mean = 11.4\n",
    "std = 3.2\n",
    "# to find P(X>7)\n",
    "1-stats.norm.cdf(7,mean,std)\n"
   ]
  },
  {
   "cell_type": "code",
   "execution_count": 170,
   "id": "e4eb815f-5106-4107-9d35-83f8ea0c0e30",
   "metadata": {},
   "outputs": [
    {
     "data": {
      "text/plain": [
       "0.013428347753762226"
      ]
     },
     "execution_count": 170,
     "metadata": {},
     "output_type": "execute_result"
    }
   ],
   "source": [
    "#The IQ of students follows normal distribution with mean 95 and variance 10.\n",
    "#What is the probability that the any student selected at random will have IQ more than 102?\n",
    "mean = 95 \n",
    "vari = 10 \n",
    "std = np.sqrt(vari)\n",
    "1-stats.norm.cdf(102,mean,std)"
   ]
  },
  {
   "cell_type": "code",
   "execution_count": 174,
   "id": "93a5f94c-1270-496f-b010-187c441674d9",
   "metadata": {},
   "outputs": [
    {
     "data": {
      "text/plain": [
       "array([ 97.21414844, 101.74013133,  90.20737111,  81.08345956,\n",
       "       117.02999352,  99.18599521, 105.1270403 ,  96.36567593,\n",
       "        97.87986328,  98.70851363, 113.76178564, 119.92128805,\n",
       "        94.50555846,  94.69124242,  99.90424112,  98.95964344,\n",
       "        99.62707742,  81.56219125, 104.8092456 ,  82.10040828,\n",
       "        83.80946188, 100.7214625 ,  97.61847151, 105.9738655 ,\n",
       "        92.19303476, 116.92369648,  97.61585324,  98.68298671,\n",
       "        89.35260702,  85.52956906,  97.2712956 ,  92.9730742 ,\n",
       "        95.69170447, 118.57249143,  95.36642153,  88.07936966,\n",
       "        85.03698868, 105.25803169,  83.49659606,  98.25888616,\n",
       "       110.90363419, 108.94051882, 108.65081307,  87.51561972,\n",
       "        97.99848634,  91.63581775, 103.91515173, 100.15049248,\n",
       "        83.9328996 ,  75.12325184])"
      ]
     },
     "execution_count": 174,
     "metadata": {},
     "output_type": "execute_result"
    }
   ],
   "source": [
    "nd = stats.norm.rvs(mean,vari,50)\n",
    "nd"
   ]
  },
  {
   "cell_type": "code",
   "execution_count": null,
   "id": "57044784-b4ab-4385-905b-f6dc6e1e18ba",
   "metadata": {},
   "outputs": [],
   "source": [
    "#A survey of daily travel time had these results (in minutes):\n",
    "#26, 33, 65, 28, 34, 55, 25, 44, 50, 36, 26, 37, 43, 62, 35, 38, 45, 32, 28, 34\n",
    "#Identify if there are outliers based on the empirical rule of Normal Distribution."
   ]
  },
  {
   "cell_type": "code",
   "execution_count": 208,
   "id": "12f95002-c9da-40a4-ab49-6def3ea43208",
   "metadata": {},
   "outputs": [],
   "source": [
    "data = pd.Series([26, 33, 65, 28, 34, 55, 25, 44, 50, 36, 26, 37, 43, 62, 35, 38, 45, 32, 28, 34])"
   ]
  },
  {
   "cell_type": "code",
   "execution_count": 210,
   "id": "1fa35c90-1551-4749-a274-fae69257cc0f",
   "metadata": {},
   "outputs": [],
   "source": [
    "data_mean = data.mean()\n",
    "data_std = data.std()"
   ]
  },
  {
   "cell_type": "code",
   "execution_count": 212,
   "id": "6f75c682-a69e-4dba-bb5a-adfe359f3075",
   "metadata": {},
   "outputs": [
    {
     "name": "stdout",
     "output_type": "stream",
     "text": [
      "38.8\n",
      "11.696153213770756\n"
     ]
    }
   ],
   "source": [
    "print(data_mean )\n",
    "print(data_std) "
   ]
  },
  {
   "cell_type": "code",
   "execution_count": 214,
   "id": "14a3868a-3edb-4f24-86b4-5cedcc7f34fb",
   "metadata": {},
   "outputs": [
    {
     "name": "stdout",
     "output_type": "stream",
     "text": [
      "68% of data will lie from 50.496153213770754 to - 27.10384678622924\n"
     ]
    }
   ],
   "source": [
    "std_1 = data_mean + data_std\n",
    "std_minus1 = data_mean - data_std\n",
    "print(\"68% of data will lie from\",std_1,\"to -\",std_minus1)"
   ]
  },
  {
   "cell_type": "code",
   "execution_count": 216,
   "id": "4cd546b2-5d2c-4627-92f2-1167ca9cfa59",
   "metadata": {},
   "outputs": [
    {
     "name": "stdout",
     "output_type": "stream",
     "text": [
      "[33, 28, 34, 44, 50, 36, 37, 43, 35, 38, 45, 32, 28, 34]\n"
     ]
    }
   ],
   "source": [
    "SD_1 = []\n",
    "for i in data:\n",
    "    if ((i>=std_minus1)&(i<=std_1)):\n",
    "        SD_1.append(i)\n",
    "print(SD_1)"
   ]
  },
  {
   "cell_type": "code",
   "execution_count": 218,
   "id": "a2ae79a3-1b85-4480-9a49-2fb8bcb7c7da",
   "metadata": {},
   "outputs": [
    {
     "name": "stdout",
     "output_type": "stream",
     "text": [
      "95% of data will lie from 62.19230642754151 to - 15.407693572458484\n"
     ]
    }
   ],
   "source": [
    "std_2 = data_mean + (2*data_std)\n",
    "std_minus2 = data_mean - (2*data_std)\n",
    "print(\"95% of data will lie from\",std_2,\"to -\",std_minus2)"
   ]
  },
  {
   "cell_type": "code",
   "execution_count": 220,
   "id": "44ef2f8e-c496-413a-97c5-f62ab76bfc9c",
   "metadata": {},
   "outputs": [
    {
     "name": "stdout",
     "output_type": "stream",
     "text": [
      "[26, 33, 28, 34, 55, 25, 44, 50, 36, 26, 37, 43, 62, 35, 38, 45, 32, 28, 34]\n"
     ]
    }
   ],
   "source": [
    "SD_2 = []\n",
    "for i in data:\n",
    "    if ((i>=std_minus2)&(i<=std_2)):\n",
    "        SD_2.append(i)\n",
    "print(SD_2)"
   ]
  },
  {
   "cell_type": "code",
   "execution_count": 226,
   "id": "0bab48c9-9022-4a58-9f83-c80e7175e620",
   "metadata": {},
   "outputs": [
    {
     "name": "stdout",
     "output_type": "stream",
     "text": [
      "95% of data will lie from 73.88845964131227 to - 3.711540358687728\n"
     ]
    }
   ],
   "source": [
    "std_3 = data_mean + 3*data_std\n",
    "std_minus3 = data_mean - 3*data_std\n",
    "print(\"99.7% of data will lie from\",std_3,\"to -\",std_minus3)"
   ]
  },
  {
   "cell_type": "code",
   "execution_count": 228,
   "id": "41e651a9-536a-43d9-a008-f3d9f8e21a45",
   "metadata": {},
   "outputs": [
    {
     "name": "stdout",
     "output_type": "stream",
     "text": [
      "[26, 33, 65, 28, 34, 55, 25, 44, 50, 36, 26, 37, 43, 62, 35, 38, 45, 32, 28, 34]\n"
     ]
    }
   ],
   "source": [
    "SD_3 = []\n",
    "for i in data:\n",
    "    if ((i>=std_minus3)&(i<=std_3)):\n",
    "        SD_3.append(i)\n",
    "print(SD_3)# anything outside this range s outlier"
   ]
  },
  {
   "cell_type": "code",
   "execution_count": 230,
   "id": "e26465c4-b01a-4d6b-a77b-0a47531740e9",
   "metadata": {},
   "outputs": [],
   "source": [
    "new_df = pd.DataFrame(data)"
   ]
  },
  {
   "cell_type": "code",
   "execution_count": 236,
   "id": "fe2243d9-7429-457a-9f05-16008156bbe2",
   "metadata": {},
   "outputs": [
    {
     "data": {
      "text/plain": [
       "<Axes: >"
      ]
     },
     "execution_count": 236,
     "metadata": {},
     "output_type": "execute_result"
    },
    {
     "data": {
      "image/png": "[encoded data removed]",
      "text/plain": [
       "<Figure size 640x480 with 1 Axes>"
      ]
     },
     "metadata": {},
     "output_type": "display_data"
    }
   ],
   "source": [
    "new_df.boxplot()  # this is another method for finding outliers"
   ]
  },
  {
   "cell_type": "code",
   "execution_count": 238,
   "id": "7c2e2910-e840-4095-b04a-ea3e5bcb225d",
   "metadata": {},
   "outputs": [
    {
     "data": {
      "text/plain": [
       "<Axes: ylabel='Density'>"
      ]
     },
     "execution_count": 238,
     "metadata": {},
     "output_type": "execute_result"
    },
    {
     "data": {
      "image/png": "[encoded data removed]",
      "text/plain": [
       "<Figure size 640x480 with 1 Axes>"
      ]
     },
     "metadata": {},
     "output_type": "display_data"
    }
   ],
   "source": [
    "sns.distplot(data) # as we see our graph is right skewed so boxplot method is more better here\n",
    "# to remove this skewness can be removed by removie our outlier which is 65"
   ]
  },
  {
   "cell_type": "code",
   "execution_count": 240,
   "id": "c4034e05-cd9a-4616-adba-1a77bec69dc3",
   "metadata": {},
   "outputs": [],
   "source": [
    "data2 = pd.Series([26, 33, 28, 34, 55, 25, 44, 50, 36, 26, 37, 43, 62, 35, 38, 45, 32, 28, 34])"
   ]
  },
  {
   "cell_type": "code",
   "execution_count": 242,
   "id": "5dfa5006-5159-40a2-9e32-e83ef68c3e17",
   "metadata": {},
   "outputs": [
    {
     "data": {
      "text/plain": [
       "<Axes: ylabel='Density'>"
      ]
     },
     "execution_count": 242,
     "metadata": {},
     "output_type": "execute_result"
    },
    {
     "data": {
      "image/png": "[encoded data removed]",
      "text/plain": [
       "<Figure size 640x480 with 1 Axes>"
      ]
     },
     "metadata": {},
     "output_type": "display_data"
    }
   ],
   "source": [
    "sns.distplot(data2) # as we see after removing our outlier it is less skewed"
   ]
  },
  {
   "cell_type": "code",
   "execution_count": 244,
   "id": "f693d99e-7a04-4a63-b719-2ee82caa262e",
   "metadata": {},
   "outputs": [],
   "source": [
    "data=pd.Series([81, 78, 77, 75, 80, 82, 84, 78, 74, 75, 49, 71, 76, 80])"
   ]
  },
  {
   "cell_type": "code",
   "execution_count": 264,
   "id": "f5b7a167-0002-4ad3-91f4-04783f9ab6b5",
   "metadata": {},
   "outputs": [
    {
     "name": "stdout",
     "output_type": "stream",
     "text": [
      "68% of data will lie from 84.14890823950029 to  67.27966318907113\n",
      "[81, 78, 77, 75, 80, 82, 84, 78, 74, 75, 71, 76, 80]\n",
      "95% of data will lie from 92.58353076471487 to  58.84504066385655\n",
      "[81, 78, 77, 75, 80, 82, 84, 78, 74, 75, 71, 76, 80]\n",
      "99.7% of data will lie from 101.01815328992944 to 50.41041813864198\n",
      "[81, 78, 77, 75, 80, 82, 84, 78, 74, 75, 71, 76, 80]\n",
      "outliers are :- [49]\n"
     ]
    }
   ],
   "source": [
    "data_mean = data.mean()\n",
    "data_std = data.std()\n",
    "\n",
    "std_1 = data_mean + data_std\n",
    "std_minus1 = data_mean - data_std\n",
    "print(\"68% of data will lie from\",std_1,\"to \",std_minus1)\n",
    "\n",
    "SD_1 = []\n",
    "for i in data:\n",
    "    if ((i>=std_minus1)&(i<=std_1)):\n",
    "        SD_1.append(i)\n",
    "print(SD_1)\n",
    "\n",
    "std_2 = data_mean + (2*data_std)\n",
    "std_minus2 = data_mean - (2*data_std)\n",
    "print(\"95% of data will lie from\",std_2,\"to \",std_minus2)\n",
    "\n",
    "SD_2 = []\n",
    "for i in data:\n",
    "    if ((i>=std_minus2)&(i<=std_2)):\n",
    "        SD_2.append(i)\n",
    "print(SD_2)\n",
    "\n",
    "std_3 = data_mean + 3*data_std\n",
    "std_minus3 = data_mean - 3*data_std\n",
    "print(\"99.7% of data will lie from\",std_3,\"to\",std_minus3)\n",
    "\n",
    "SD_3 = []\n",
    "for i in data:\n",
    "    if ((i>=std_minus3)&(i<=std_3)):\n",
    "        SD_3.append(i)\n",
    "print(SD_3)\n",
    "\n",
    "outliers=[]\n",
    "SD_3 = []\n",
    "for i in data:\n",
    "    if ((i<std_minus3)|(i>std_3)):\n",
    "        outliers.append(i)\n",
    "print(\"outliers are :-\",outliers)"
   ]
  },
  {
   "cell_type": "code",
   "execution_count": 254,
   "id": "2ea43194-729a-4a2a-ae65-f68b0afeb656",
   "metadata": {},
   "outputs": [
    {
     "data": {
      "text/plain": [
       "<Axes: ylabel='Density'>"
      ]
     },
     "execution_count": 254,
     "metadata": {},
     "output_type": "execute_result"
    },
    {
     "data": {
      "image/png": "[encoded data removed]",
      "text/plain": [
       "<Figure size 640x480 with 1 Axes>"
      ]
     },
     "metadata": {},
     "output_type": "display_data"
    }
   ],
   "source": [
    "sns.distplot(data)\n",
    "# again as we se due to outlier"
   ]
  },
  {
   "cell_type": "code",
   "execution_count": 256,
   "id": "0ba345d3-ce70-4a75-b7b5-abd6a01e164a",
   "metadata": {},
   "outputs": [],
   "source": [
    "# A company makes parts for a machine. The lengths of the parts must be within certain limits or they will be rejected.\n",
    "# A large number of parts were measured and the mean and standard deviation were calculated as 3.1 m and 0.005 m respectively.\n",
    "# Assuming this data is normally distributed and 99.7% of the parts were accepted, what are the limits?"
   ]
  },
  {
   "cell_type": "code",
   "execution_count": 268,
   "id": "188f265d-7a42-4a9b-a412-a29edcc7fca6",
   "metadata": {},
   "outputs": [
    {
     "name": "stdout",
     "output_type": "stream",
     "text": [
      "limits lies in range :-  3.085 to 3.115\n"
     ]
    }
   ],
   "source": [
    "data_mean = 3.1\n",
    "data_std = 0.005\n",
    "\n",
    "std_3 = data_mean + 3*data_std\n",
    "std_minus3 = data_mean - 3*data_std\n",
    "print(\"limits lies in range :- \",std_minus3,\"to\",std_3)\n"
   ]
  },
  {
   "cell_type": "code",
   "execution_count": 270,
   "id": "20998841-f621-4730-97e5-709acef1c6de",
   "metadata": {},
   "outputs": [],
   "source": [
    "tt=np.array([26, 33, 65, 28, 34, 55, 25, 44, 50, 36, 26, 37, 43, 62, 35, 38, 45, 32, 28, 34])"
   ]
  },
  {
   "cell_type": "code",
   "execution_count": 286,
   "id": "012a0d05-920d-4b71-b62f-85896121eb53",
   "metadata": {},
   "outputs": [],
   "source": [
    "def normalization(data):\n",
    "    xmin=min(data)\n",
    "    xmax=max(data)\n",
    "    nor_data= []\n",
    "    for i in data:\n",
    "        new_i=(i-xmin)/(xmax-xmin)\n",
    "        nor_data.append(new_i)\n",
    "    return(nor_data)\n"
   ]
  },
  {
   "cell_type": "code",
   "execution_count": 288,
   "id": "a3a1ee17-0911-4c0a-8a85-fd1b243004c5",
   "metadata": {},
   "outputs": [
    {
     "data": {
      "text/plain": [
       "[0.025,\n",
       " 0.2,\n",
       " 1.0,\n",
       " 0.075,\n",
       " 0.225,\n",
       " 0.75,\n",
       " 0.0,\n",
       " 0.475,\n",
       " 0.625,\n",
       " 0.275,\n",
       " 0.025,\n",
       " 0.3,\n",
       " 0.45,\n",
       " 0.925,\n",
       " 0.25,\n",
       " 0.325,\n",
       " 0.5,\n",
       " 0.175,\n",
       " 0.075,\n",
       " 0.225]"
      ]
     },
     "execution_count": 288,
     "metadata": {},
     "output_type": "execute_result"
    }
   ],
   "source": [
    "normalization(tt)"
   ]
  },
  {
   "cell_type": "code",
   "execution_count": 322,
   "id": "606b433e-1fb3-4b03-b01d-a998a36bb099",
   "metadata": {},
   "outputs": [],
   "source": [
    "from sklearn.preprocessing import MinMaxScaler\n",
    "scaler1 = MinMaxScaler()"
   ]
  },
  {
   "cell_type": "code",
   "execution_count": 324,
   "id": "4c4ee14c-9b52-4d02-b70e-ab1f5a2e15ab",
   "metadata": {},
   "outputs": [
    {
     "data": {
      "text/plain": [
       "array([[0.025],\n",
       "       [0.2  ],\n",
       "       [1.   ],\n",
       "       [0.075],\n",
       "       [0.225],\n",
       "       [0.75 ],\n",
       "       [0.   ],\n",
       "       [0.475],\n",
       "       [0.625],\n",
       "       [0.275],\n",
       "       [0.025],\n",
       "       [0.3  ],\n",
       "       [0.45 ],\n",
       "       [0.925],\n",
       "       [0.25 ],\n",
       "       [0.325],\n",
       "       [0.5  ],\n",
       "       [0.175],\n",
       "       [0.075],\n",
       "       [0.225]])"
      ]
     },
     "execution_count": 324,
     "metadata": {},
     "output_type": "execute_result"
    }
   ],
   "source": [
    "# here fit_transform does what we def user function for normalization\n",
    "norm_data = scaler1.fit_transform(tt.reshape(-1,1)) # fit finds min and max and transform normalize it\n",
    "norm_data"
   ]
  },
  {
   "cell_type": "code",
   "execution_count": 344,
   "id": "b728e9de-6b10-45e5-bfad-8a23b0bd9814",
   "metadata": {},
   "outputs": [],
   "source": [
    "# standardization\n",
    "def z_score(data):\n",
    "    data_mean=np.mean(data)\n",
    "    data_std =np.std(data)\n",
    "    stad_data=[]\n",
    "    for i in data:\n",
    "        new_i=(i-data_mean)/data_std\n",
    "        stad_data.append(new_i)\n",
    "    print(\"mean is \",data_mean)\n",
    "    print(\"std is \",data_std)\n",
    "    return stad_data\n",
    "    \n"
   ]
  },
  {
   "cell_type": "code",
   "execution_count": 346,
   "id": "436a9e8d-4346-4c16-9992-1672b0b51dc8",
   "metadata": {},
   "outputs": [
    {
     "name": "stdout",
     "output_type": "stream",
     "text": [
      "mean is  38.8\n",
      "std is  11.399999999999999\n"
     ]
    },
    {
     "data": {
      "text/plain": [
       "[-1.1228070175438596,\n",
       " -0.5087719298245612,\n",
       " 2.298245614035088,\n",
       " -0.9473684210526314,\n",
       " -0.4210526315789472,\n",
       " 1.4210526315789478,\n",
       " -1.2105263157894737,\n",
       " 0.4561403508771933,\n",
       " 0.9824561403508776,\n",
       " -0.2456140350877191,\n",
       " -1.1228070175438596,\n",
       " -0.15789473684210503,\n",
       " 0.36842105263157926,\n",
       " 2.035087719298246,\n",
       " -0.33333333333333315,\n",
       " -0.07017543859649099,\n",
       " 0.5438596491228074,\n",
       " -0.5964912280701753,\n",
       " -0.9473684210526314,\n",
       " -0.4210526315789472]"
      ]
     },
     "execution_count": 346,
     "metadata": {},
     "output_type": "execute_result"
    }
   ],
   "source": [
    "z_score(tt)"
   ]
  },
  {
   "cell_type": "code",
   "execution_count": 314,
   "id": "90a8c517-e07c-4a2d-afc7-b6bb9a706a67",
   "metadata": {},
   "outputs": [],
   "source": [
    "from sklearn.preprocessing import StandardScaler\n",
    "scaler = StandardScaler()\n",
    "std_data = scaler.fit_transform(tt.reshape(-1,1))\n",
    "# here fit_transform does what we def user function for standardization\n",
    "# fit finds mean and std and transform standardize it"
   ]
  },
  {
   "cell_type": "code",
   "execution_count": 316,
   "id": "9e5e5829-7876-4ffc-8100-30e01dbeeeb0",
   "metadata": {},
   "outputs": [
    {
     "data": {
      "text/plain": [
       "array([[-1.12280702],\n",
       "       [-0.50877193],\n",
       "       [ 2.29824561],\n",
       "       [-0.94736842],\n",
       "       [-0.42105263],\n",
       "       [ 1.42105263],\n",
       "       [-1.21052632],\n",
       "       [ 0.45614035],\n",
       "       [ 0.98245614],\n",
       "       [-0.24561404],\n",
       "       [-1.12280702],\n",
       "       [-0.15789474],\n",
       "       [ 0.36842105],\n",
       "       [ 2.03508772],\n",
       "       [-0.33333333],\n",
       "       [-0.07017544],\n",
       "       [ 0.54385965],\n",
       "       [-0.59649123],\n",
       "       [-0.94736842],\n",
       "       [-0.42105263]])"
      ]
     },
     "execution_count": 316,
     "metadata": {},
     "output_type": "execute_result"
    }
   ],
   "source": [
    "std_data"
   ]
  },
  {
   "cell_type": "code",
   "execution_count": 318,
   "id": "dc4f38f1-7d65-42e1-83cf-70144ab09962",
   "metadata": {},
   "outputs": [
    {
     "name": "stdout",
     "output_type": "stream",
     "text": [
      "mean is  38.8\n",
      "std is  11.399999999999999\n",
      "0.0\n",
      "1.0\n"
     ]
    }
   ],
   "source": [
    "a=z_score(tt)\n",
    "print(round(np.mean(a),1))\n",
    "print(round(np.std(a),1))"
   ]
  },
  {
   "cell_type": "code",
   "execution_count": 332,
   "id": "b5118a25-145f-4550-9c7e-6b4e8e4fb331",
   "metadata": {},
   "outputs": [],
   "source": [
    "#Calculate the mean and standard deviation and z-scores of these observations.\n",
    " \n",
    "data = np.array([16.0, 16.0, 30.0, 37.0, 25.0, 22.0, 19.0, 35.0, 27.0, 32.0,\n",
    "34.0, 28.0, 24.0, 35.0, 24.0, 21.0, 32.0, 29.0, 24.0, 35.0,\n",
    "28.0, 29.0, 18.0, 31.0, 28.0, 33.0, 32.0, 24.0, 25.0, 22.0,\n",
    "21.0, 27.0, 41.0, 23.0, 23.0, 16.0, 24.0, 38.0, 26.0, 28.0])\n"
   ]
  },
  {
   "cell_type": "code",
   "execution_count": 334,
   "id": "3691d9d4-83c0-4125-80c4-896c08e93d8d",
   "metadata": {},
   "outputs": [],
   "source": [
    "std_data = scaler.fit_transform(data.reshape(-1,1))\n",
    "norm_data = scaler1.fit_transform(data.reshape(-1,1))\n"
   ]
  },
  {
   "cell_type": "code",
   "execution_count": 336,
   "id": "e581b3df-f2b7-411e-8ed1-813e37a7ca81",
   "metadata": {},
   "outputs": [
    {
     "data": {
      "text/plain": [
       "array([[-1.79142741],\n",
       "       [-1.79142741],\n",
       "       [ 0.47825438],\n",
       "       [ 1.61309527],\n",
       "       [-0.33234626],\n",
       "       [-0.81870664],\n",
       "       [-1.30506703],\n",
       "       [ 1.28885502],\n",
       "       [-0.00810601],\n",
       "       [ 0.80249463],\n",
       "       [ 1.12673489],\n",
       "       [ 0.15401412],\n",
       "       [-0.49446639],\n",
       "       [ 1.28885502],\n",
       "       [-0.49446639],\n",
       "       [-0.98082677],\n",
       "       [ 0.80249463],\n",
       "       [ 0.31613425],\n",
       "       [-0.49446639],\n",
       "       [ 1.28885502],\n",
       "       [ 0.15401412],\n",
       "       [ 0.31613425],\n",
       "       [-1.46718716],\n",
       "       [ 0.6403745 ],\n",
       "       [ 0.15401412],\n",
       "       [ 0.96461476],\n",
       "       [ 0.80249463],\n",
       "       [-0.49446639],\n",
       "       [-0.33234626],\n",
       "       [-0.81870664],\n",
       "       [-0.98082677],\n",
       "       [-0.00810601],\n",
       "       [ 2.26157578],\n",
       "       [-0.65658652],\n",
       "       [-0.65658652],\n",
       "       [-1.79142741],\n",
       "       [-0.49446639],\n",
       "       [ 1.7752154 ],\n",
       "       [-0.17022613],\n",
       "       [ 0.15401412]])"
      ]
     },
     "execution_count": 336,
     "metadata": {},
     "output_type": "execute_result"
    }
   ],
   "source": [
    "std_data"
   ]
  },
  {
   "cell_type": "code",
   "execution_count": 338,
   "id": "21316417-e041-43eb-b9e1-367cbdfd978f",
   "metadata": {},
   "outputs": [
    {
     "data": {
      "text/plain": [
       "array([[0.  ],\n",
       "       [0.  ],\n",
       "       [0.56],\n",
       "       [0.84],\n",
       "       [0.36],\n",
       "       [0.24],\n",
       "       [0.12],\n",
       "       [0.76],\n",
       "       [0.44],\n",
       "       [0.64],\n",
       "       [0.72],\n",
       "       [0.48],\n",
       "       [0.32],\n",
       "       [0.76],\n",
       "       [0.32],\n",
       "       [0.2 ],\n",
       "       [0.64],\n",
       "       [0.52],\n",
       "       [0.32],\n",
       "       [0.76],\n",
       "       [0.48],\n",
       "       [0.52],\n",
       "       [0.08],\n",
       "       [0.6 ],\n",
       "       [0.48],\n",
       "       [0.68],\n",
       "       [0.64],\n",
       "       [0.32],\n",
       "       [0.36],\n",
       "       [0.24],\n",
       "       [0.2 ],\n",
       "       [0.44],\n",
       "       [1.  ],\n",
       "       [0.28],\n",
       "       [0.28],\n",
       "       [0.  ],\n",
       "       [0.32],\n",
       "       [0.88],\n",
       "       [0.4 ],\n",
       "       [0.48]])"
      ]
     },
     "execution_count": 338,
     "metadata": {},
     "output_type": "execute_result"
    }
   ],
   "source": [
    "norm_data"
   ]
  },
  {
   "cell_type": "code",
   "execution_count": 340,
   "id": "1ad5525f-4dc5-4fbb-bb51-9a538b0aeded",
   "metadata": {},
   "outputs": [
    {
     "name": "stdout",
     "output_type": "stream",
     "text": [
      "mean is  27.05\n",
      "std is  6.1682655584856265\n",
      "-0.0\n",
      "1.0\n"
     ]
    }
   ],
   "source": [
    "a=z_score(data)\n",
    "print(round(np.mean(a),1))\n",
    "print(round(np.std(a),1))"
   ]
  },
  {
   "cell_type": "code",
   "execution_count": null,
   "id": "9df8cbad-37f0-4111-851f-ca0d7bb6b0b3",
   "metadata": {},
   "outputs": [],
   "source": [
    "# for info sampling click on this link:- https://www.mathsisfun.com/data/sampling.html"
   ]
  },
  {
   "cell_type": "code",
   "execution_count": null,
   "id": "7d42b4d2-15ec-4636-b8f4-ad7efe9482c2",
   "metadata": {},
   "outputs": [],
   "source": [
    "#Consider the following data does it follow a normal distribution? \n",
    "#75, 97, 70, 25, 80, 40, 82, 72, 82, 46, 72, 64, 24, 66, 78, 34, 37, 64, 75, 94, \n",
    "#76, 96, 88, 37, 29, 51, 67, 45, 69, 59, 81, 66, 30, 52, 66, 85, 80, 74, 69, 83, 66, 84, \n",
    "#76, 73, 77, 85, 72, 71, 71, 75, 59, 84, 65, 64, 86, 58, 85, 61, 79, 61, 68, 61, 60, 78, 76, 80, 57, 75\n",
    " \n",
    "#The null and alternate hypothesis of Shapiro-Wilk test are as follows:\n",
    "# H0: The data is normally distributed\n",
    "# AGAINST\n",
    "# H1: The data is not normally distributed"
   ]
  },
  {
   "cell_type": "code",
   "execution_count": 350,
   "id": "226dd055-1d57-4889-a4ce-ae313b27515f",
   "metadata": {},
   "outputs": [],
   "source": [
    "data = pd.Series([75, 97, 70, 25, 80, 40, 82, 72, 82, 46, 72, 64, 24, 66, 78, 34, 37,\n",
    "                  64, 75, 94, 76, 96, 88, 37, 29, 51, 67, 45, 69, 59, 81, 66, \n",
    "                  30, 52, 66, 85, 80, 74, 69, 83, 66, 84, \n",
    "                  76, 73, 77, 85, 72, 71, 71, 75, 59, 84, 65, 64, 86, 58, 85, 61, 79, 61, 68, 61, 60, 78, 76, 80, 57, 75])"
   ]
  },
  {
   "cell_type": "code",
   "execution_count": 354,
   "id": "0b75fa2d-d464-4d2c-8993-5d74194b76a4",
   "metadata": {},
   "outputs": [],
   "source": [
    "from scipy.stats import shapiro"
   ]
  },
  {
   "cell_type": "code",
   "execution_count": 356,
   "id": "e5b0f96a-3bb6-4841-8b30-fa1dbf19e456",
   "metadata": {},
   "outputs": [
    {
     "name": "stdout",
     "output_type": "stream",
     "text": [
      "the test statistic is  0.9307889522362557 and  its p value is 0.0009826561429508913\n"
     ]
    }
   ],
   "source": [
    "stat, p_val = shapiro(data)\n",
    "print(\"the test statistic is \",stat,\"and  its p value is\", p_val)\n",
    "# since p value is less than 0.05(level of sig), hence we reject H0"
   ]
  },
  {
   "cell_type": "code",
   "execution_count": 358,
   "id": "6e800538-1ae6-402f-abb6-5bcde118be19",
   "metadata": {},
   "outputs": [
    {
     "data": {
      "text/plain": [
       "<Axes: ylabel='Density'>"
      ]
     },
     "execution_count": 358,
     "metadata": {},
     "output_type": "execute_result"
    },
    {
     "data": {
      "image/png": "[encoded data removed]",
      "text/plain": [
       "<Figure size 640x480 with 1 Axes>"
      ]
     },
     "metadata": {},
     "output_type": "display_data"
    }
   ],
   "source": [
    "import seaborn as sns\n",
    "sns.distplot(data)"
   ]
  },
  {
   "cell_type": "code",
   "execution_count": 362,
   "id": "be47067c-d5bb-4253-872d-9016fc4ce625",
   "metadata": {},
   "outputs": [
    {
     "name": "stdout",
     "output_type": "stream",
     "text": [
      "the test statistic is  0.9803878278434923 and  its p value is 0.7039493853337594\n"
     ]
    }
   ],
   "source": [
    "data =[16.0, 16.0, 30.0, 37.0, 25.0, 22.0, 19.0, 35.0, 27.0, 32.0,\n",
    "34.0, 28.0, 24.0, 35.0, 24.0, 21.0, 32.0, 29.0, 24.0, 35.0,\n",
    "28.0, 29.0, 18.0, 31.0, 28.0, 33.0, 32.0, 24.0, 25.0, 22.0,\n",
    "21.0, 27.0, 41.0, 23.0, 23.0, 16.0, 24.0, 38.0, 26.0, 28.0]\n",
    "stat, p_val = shapiro(data)\n",
    "print(\"the test statistic is \",stat,\"and  its p value is\", p_val)\n",
    "# since p value is greater than 0.05(level of sig), hence we fail to reject H0\n",
    "# we may conclude that the data is normally distributed"
   ]
  },
  {
   "cell_type": "code",
   "execution_count": 364,
   "id": "d946fefb-6141-4b6f-b44d-4632a498e167",
   "metadata": {},
   "outputs": [
    {
     "data": {
      "text/plain": [
       "<Axes: ylabel='Density'>"
      ]
     },
     "execution_count": 364,
     "metadata": {},
     "output_type": "execute_result"
    },
    {
     "data": {
      "image/png": "[encoded data removed]",
      "text/plain": [
       "<Figure size 640x480 with 1 Axes>"
      ]
     },
     "metadata": {},
     "output_type": "display_data"
    }
   ],
   "source": [
    "sns.distplot(data)"
   ]
  },
  {
   "cell_type": "code",
   "execution_count": 374,
   "id": "02939748-0978-4b75-b395-4f8ee21f01be",
   "metadata": {},
   "outputs": [],
   "source": [
    "from scipy.stats import pearsonr\n",
    "data1 = [0.873, 2.817, 0.121, -0.945, -0.055, -1.436, 0.360, -1.478, -1.637, -1.869]\n",
    "data2 = [0.353, 3.517, 0.125, -7.545, -0.555, -1.536, 3.350, -1.578, -3.537, -1.579]"
   ]
  },
  {
   "cell_type": "code",
   "execution_count": 378,
   "id": "234069f3-f3a3-4889-a865-ebad0fce133c",
   "metadata": {},
   "outputs": [
    {
     "name": "stdout",
     "output_type": "stream",
     "text": [
      "stat= 0.6879696368388865 p-value= 0.027872969514496172\n"
     ]
    }
   ],
   "source": [
    "stat, p = pearsonr (data1, data2)\n",
    "print(\"stat=\", stat, \"p-value=\", p)\n",
    "#stat= 0.6879696368388863 p-value= 0.02787296951449617\n",
    "#since the p-value=0.05, we reject the null hypothesis and conclude that there is a dependency #between the two samples. \n",
    "#The stat value mentions that there is a moderate positive relationship #between them."
   ]
  },
  {
   "cell_type": "code",
   "execution_count": 382,
   "id": "68b8d4ec-3247-41e0-acf6-440880ecec8d",
   "metadata": {},
   "outputs": [
    {
     "data": {
      "text/html": [
       "<div>\n",
       "<style scoped>\n",
       "    .dataframe tbody tr th:only-of-type {\n",
       "        vertical-align: middle;\n",
       "    }\n",
       "\n",
       "    .dataframe tbody tr th {\n",
       "        vertical-align: top;\n",
       "    }\n",
       "\n",
       "    .dataframe thead th {\n",
       "        text-align: right;\n",
       "    }\n",
       "</style>\n",
       "<table border=\"1\" class=\"dataframe\">\n",
       "  <thead>\n",
       "    <tr style=\"text-align: right;\">\n",
       "      <th></th>\n",
       "      <th>0</th>\n",
       "      <th>1</th>\n",
       "    </tr>\n",
       "  </thead>\n",
       "  <tbody>\n",
       "    <tr>\n",
       "      <th>0</th>\n",
       "      <td>1.00000</td>\n",
       "      <td>0.68797</td>\n",
       "    </tr>\n",
       "    <tr>\n",
       "      <th>1</th>\n",
       "      <td>0.68797</td>\n",
       "      <td>1.00000</td>\n",
       "    </tr>\n",
       "  </tbody>\n",
       "</table>\n",
       "</div>"
      ],
      "text/plain": [
       "         0        1\n",
       "0  1.00000  0.68797\n",
       "1  0.68797  1.00000"
      ]
     },
     "execution_count": 382,
     "metadata": {},
     "output_type": "execute_result"
    }
   ],
   "source": [
    "df1=pd.Series(data1)\n",
    "df2=pd.Series(data2)\n",
    "new_df=pd.concat([df1,df2], axis=1)\n",
    "new_df.corr(method=\"pearson\")\n"
   ]
  },
  {
   "cell_type": "code",
   "execution_count": null,
   "id": "df6e2639-79e1-4568-977f-5a3037ef8dff",
   "metadata": {},
   "outputs": [],
   "source": []
  }
 ],
 "metadata": {
  "kernelspec": {
   "display_name": "Python 3 (ipykernel)",
   "language": "python",
   "name": "python3"
  },
  "language_info": {
   "codemirror_mode": {
    "name": "ipython",
    "version": 3
   },
   "file_extension": ".py",
   "mimetype": "text/x-python",
   "name": "python",
   "nbconvert_exporter": "python",
   "pygments_lexer": "ipython3",
   "version": "3.12.4"
  }
 },
 "nbformat": 4,
 "nbformat_minor": 5
}
