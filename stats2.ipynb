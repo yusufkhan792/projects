{
 "cells": [
  {
   "cell_type": "code",
   "execution_count": null,
   "id": "9f22c9c2-eb51-427a-a57f-2ca7aaa382ff",
   "metadata": {},
   "outputs": [],
   "source": [
    "#A telecom industry is keen to know the call duration of its customers to introduce new prepaid plans. \n",
    "#The data for call duration in minutes is given as follows: \n",
    "#Call duration (in minutes): 23, 03, 13, 04, 45, 35, 48, 98, 65, 45, 75, 24, 15, 25, 34, 17, 16, 17, 19\n",
    "#Obtain the descriptive statistics of the data.\n"
   ]
  },
  {
   "cell_type": "code",
   "execution_count": 1,
   "id": "f7540a83-4f94-4657-a6be-67e18c703dfe",
   "metadata": {},
   "outputs": [],
   "source": [
    "import numpy as np\n",
    "import matplotlib.pyplot as plt\n",
    "import seaborn as sns\n",
    "import pandas as pd"
   ]
  },
  {
   "cell_type": "code",
   "execution_count": 7,
   "id": "aae5c68a-d2fb-4312-930e-bcfec8f93f05",
   "metadata": {},
   "outputs": [],
   "source": [
    "cd=pd.Series([23, 3, 13, 4, 45, 35, 48, 98, 65, 45, 75, 24, 15, 25, 34, 17, 16, 17, 19])\n"
   ]
  },
  {
   "cell_type": "code",
   "execution_count": 11,
   "id": "6b890b14-377f-4e7e-9591-eea4fab9b3bc",
   "metadata": {},
   "outputs": [
    {
     "data": {
      "text/plain": [
       "0     23\n",
       "1      3\n",
       "2     13\n",
       "3      4\n",
       "4     45\n",
       "5     35\n",
       "6     48\n",
       "7     98\n",
       "8     65\n",
       "9     45\n",
       "10    75\n",
       "11    24\n",
       "12    15\n",
       "13    25\n",
       "14    34\n",
       "15    17\n",
       "16    16\n",
       "17    17\n",
       "18    19\n",
       "dtype: int64"
      ]
     },
     "execution_count": 11,
     "metadata": {},
     "output_type": "execute_result"
    }
   ],
   "source": [
    "cd"
   ]
  },
  {
   "cell_type": "code",
   "execution_count": 21,
   "id": "2369ba59-073a-4e80-b454-a04f3d249127",
   "metadata": {},
   "outputs": [
    {
     "name": "stdout",
     "output_type": "stream",
     "text": [
      "mean is 32.68421052631579\n",
      "median is 24.0\n",
      "mode is 0    17\n",
      "1    45\n",
      "dtype: int64\n"
     ]
    }
   ],
   "source": [
    "print(f'mean is {cd.mean()}')# unrelaibel as mean is affected due to outliers & it is away from median\n",
    "print(f'median is {cd.median()}') #reliable as not affected by outlier\n",
    "print(f'mode is {cd.mode()}')#bimodal data"
   ]
  },
  {
   "cell_type": "code",
   "execution_count": 31,
   "id": "7159ce3f-cdfb-43d6-8f5b-eac8e99af28a",
   "metadata": {},
   "outputs": [],
   "source": [
    "maxi = cd.max()\n",
    "mini = cd.min()"
   ]
  },
  {
   "cell_type": "code",
   "execution_count": 33,
   "id": "72a56d3e-d040-44f1-8c83-bb6ac316d097",
   "metadata": {},
   "outputs": [
    {
     "name": "stdout",
     "output_type": "stream",
     "text": [
      "95\n"
     ]
    }
   ],
   "source": [
    "cd_range = maxi-mini\n",
    "print(cd_range)"
   ]
  },
  {
   "cell_type": "code",
   "execution_count": 43,
   "id": "c527688f-893b-4856-a8ce-19b92d3f8231",
   "metadata": {},
   "outputs": [
    {
     "name": "stdout",
     "output_type": "stream",
     "text": [
      "32.19999999999999\n",
      "16.5\n",
      "45.0\n"
     ]
    }
   ],
   "source": [
    "print(cd.quantile(0.6)) # returns the percentile value for the given argument value\n",
    "q1=cd.quantile(0.25)\n",
    "print(q1)\n",
    "q3=cd.quantile(0.75)\n",
    "print(q3)"
   ]
  },
  {
   "cell_type": "code",
   "execution_count": 47,
   "id": "8cad4b49-fcd2-41f9-8925-2a0627e7161d",
   "metadata": {},
   "outputs": [
    {
     "name": "stdout",
     "output_type": "stream",
     "text": [
      "iqr is 28.5\n"
     ]
    }
   ],
   "source": [
    "print(f'iqr is {q3-q1}')"
   ]
  },
  {
   "cell_type": "code",
   "execution_count": 49,
   "id": "cac68042-95f7-437c-b81c-ea214afd2437",
   "metadata": {},
   "outputs": [
    {
     "data": {
      "text/plain": [
       "24.984556633557432"
      ]
     },
     "execution_count": 49,
     "metadata": {},
     "output_type": "execute_result"
    }
   ],
   "source": [
    "cd.std()"
   ]
  },
  {
   "cell_type": "code",
   "execution_count": 51,
   "id": "5cff9ac6-24c8-4f5f-a029-f16d2b6ecfd8",
   "metadata": {},
   "outputs": [
    {
     "data": {
      "text/plain": [
       "624.2280701754387"
      ]
     },
     "execution_count": 51,
     "metadata": {},
     "output_type": "execute_result"
    }
   ],
   "source": [
    "cd.var()"
   ]
  },
  {
   "cell_type": "code",
   "execution_count": 53,
   "id": "d698d472-6646-46ce-a9c3-39484a2511b5",
   "metadata": {},
   "outputs": [
    {
     "data": {
      "text/plain": [
       "count    19.000000\n",
       "mean     32.684211\n",
       "std      24.984557\n",
       "min       3.000000\n",
       "25%      16.500000\n",
       "50%      24.000000\n",
       "75%      45.000000\n",
       "max      98.000000\n",
       "dtype: float64"
      ]
     },
     "execution_count": 53,
     "metadata": {},
     "output_type": "execute_result"
    }
   ],
   "source": [
    "cd.describe()"
   ]
  },
  {
   "cell_type": "code",
   "execution_count": 55,
   "id": "5dc0e754-7790-42e8-a2ad-416aacc72bff",
   "metadata": {},
   "outputs": [
    {
     "data": {
      "text/plain": [
       "28.5"
      ]
     },
     "execution_count": 55,
     "metadata": {},
     "output_type": "execute_result"
    }
   ],
   "source": [
    "iqr = q3-q1\n",
    "iqr"
   ]
  },
  {
   "cell_type": "code",
   "execution_count": 59,
   "id": "8a06eb5b-c3df-404c-a9d4-c7c21e2ec974",
   "metadata": {},
   "outputs": [
    {
     "data": {
      "text/plain": [
       "-26.25"
      ]
     },
     "execution_count": 59,
     "metadata": {},
     "output_type": "execute_result"
    }
   ],
   "source": [
    "lower=q1-1.5*iqr\n",
    "lower"
   ]
  },
  {
   "cell_type": "code",
   "execution_count": 65,
   "id": "b62a9770-6dca-4d3e-bc03-8261a28bb26b",
   "metadata": {},
   "outputs": [
    {
     "data": {
      "text/plain": [
       "87.75"
      ]
     },
     "execution_count": 65,
     "metadata": {},
     "output_type": "execute_result"
    }
   ],
   "source": [
    "higher=q3+1.5*iqr\n",
    "higher"
   ]
  },
  {
   "cell_type": "code",
   "execution_count": 77,
   "id": "4ed4a883-2453-4aeb-9dc9-4a1ad56418ca",
   "metadata": {},
   "outputs": [
    {
     "data": {
      "text/plain": [
       "<Axes: ylabel='None'>"
      ]
     },
     "execution_count": 77,
     "metadata": {},
     "output_type": "execute_result"
    },
    {
     "data": {
      "image/png": "[encoded data removed]",
      "text/plain": [
       "<Figure size 640x480 with 1 Axes>"
      ]
     },
     "metadata": {},
     "output_type": "display_data"
    }
   ],
   "source": [
    "sns.boxplot(y=cd)"
   ]
  },
  {
   "cell_type": "code",
   "execution_count": 73,
   "id": "5956f41e-98bd-4d9c-aef8-ce26dfb9eb9d",
   "metadata": {},
   "outputs": [
    {
     "data": {
      "text/plain": [
       "7    98\n",
       "dtype: int64"
      ]
     },
     "execution_count": 73,
     "metadata": {},
     "output_type": "execute_result"
    }
   ],
   "source": [
    "outliers=cd[(cd<lower) | (cd>higher)]\n",
    "outliers # here 7 is its index number in the list cd 98 is the only outlier"
   ]
  },
  {
   "cell_type": "code",
   "execution_count": 79,
   "id": "98aab005-c1ac-4a9f-9fe5-fc24efecc7bd",
   "metadata": {},
   "outputs": [
    {
     "data": {
      "text/plain": [
       "0     162\n",
       "1     158\n",
       "2     149\n",
       "3     167\n",
       "4     162\n",
       "5     154\n",
       "6     172\n",
       "7     160\n",
       "8     164\n",
       "9     159\n",
       "10    175\n",
       "11    163\n",
       "dtype: int64"
      ]
     },
     "execution_count": 79,
     "metadata": {},
     "output_type": "execute_result"
    }
   ],
   "source": [
    "height = pd.Series([162, 158, 149, 167, 162, 154, 172, 160, 164, 159, 175, 163])\n",
    "height"
   ]
  },
  {
   "cell_type": "code",
   "execution_count": 81,
   "id": "1bbe25c7-c4ce-4446-81a0-0eadb211d772",
   "metadata": {},
   "outputs": [
    {
     "data": {
      "text/plain": [
       "count     12.000000\n",
       "mean     162.083333\n",
       "std        7.140898\n",
       "min      149.000000\n",
       "25%      158.750000\n",
       "50%      162.000000\n",
       "75%      164.750000\n",
       "max      175.000000\n",
       "dtype: float64"
      ]
     },
     "execution_count": 81,
     "metadata": {},
     "output_type": "execute_result"
    }
   ],
   "source": [
    "height.describe()"
   ]
  },
  {
   "cell_type": "code",
   "execution_count": 107,
   "id": "d3619666-59fa-44b3-a8a5-f8bba7d9083c",
   "metadata": {},
   "outputs": [],
   "source": [
    "range = height.max() -  height.min()"
   ]
  },
  {
   "cell_type": "code",
   "execution_count": 109,
   "id": "2d7984d0-fb89-424a-a61f-33b569eaca92",
   "metadata": {},
   "outputs": [
    {
     "data": {
      "text/plain": [
       "26"
      ]
     },
     "execution_count": 109,
     "metadata": {},
     "output_type": "execute_result"
    }
   ],
   "source": [
    "range"
   ]
  },
  {
   "cell_type": "code",
   "execution_count": 113,
   "id": "49c9aee5-9505-46f5-a7c9-39d06ac04e93",
   "metadata": {},
   "outputs": [
    {
     "name": "stdout",
     "output_type": "stream",
     "text": [
      "158.75\n",
      "164.75\n"
     ]
    }
   ],
   "source": [
    "q1=height.quantile(0.25)\n",
    "print(q1)\n",
    "q3=height.quantile(0.75)\n",
    "print(q3)"
   ]
  },
  {
   "cell_type": "code",
   "execution_count": 89,
   "id": "42bcdd73-3130-4f11-a556-10781b7484a8",
   "metadata": {},
   "outputs": [],
   "source": [
    "iqr=q3-q1"
   ]
  },
  {
   "cell_type": "code",
   "execution_count": 91,
   "id": "3f74ded2-6e6e-450b-a90b-92add457bd2c",
   "metadata": {},
   "outputs": [
    {
     "data": {
      "text/plain": [
       "6.0"
      ]
     },
     "execution_count": 91,
     "metadata": {},
     "output_type": "execute_result"
    }
   ],
   "source": [
    "iqr"
   ]
  },
  {
   "cell_type": "code",
   "execution_count": 105,
   "id": "ea5d9376-4a1f-4f57-9a92-7aaf458dc28d",
   "metadata": {},
   "outputs": [],
   "source": [
    "upper=q3+1.5*iqr\n",
    "lower=q1-1.5*iqr"
   ]
  },
  {
   "cell_type": "code",
   "execution_count": 95,
   "id": "90da3f66-a4ad-47f4-b081-d0ed6016c6bf",
   "metadata": {},
   "outputs": [],
   "source": [
    "outliers=height[(height<lower) | (height>upper)]"
   ]
  },
  {
   "cell_type": "code",
   "execution_count": 99,
   "id": "c83188bf-71ce-4532-acbb-76e3631db328",
   "metadata": {},
   "outputs": [
    {
     "data": {
      "text/plain": [
       "2     149\n",
       "10    175\n",
       "dtype: int64"
      ]
     },
     "execution_count": 99,
     "metadata": {},
     "output_type": "execute_result"
    }
   ],
   "source": [
    "outliers"
   ]
  },
  {
   "cell_type": "code",
   "execution_count": 111,
   "id": "ab3546de-895b-4287-a16a-b49a86fca4ac",
   "metadata": {},
   "outputs": [
    {
     "data": {
      "text/plain": [
       "<Axes: ylabel='None'>"
      ]
     },
     "execution_count": 111,
     "metadata": {},
     "output_type": "execute_result"
    },
    {
     "data": {
      "image/png": "[encoded data removed]",
      "text/plain": [
       "<Figure size 640x480 with 1 Axes>"
      ]
     },
     "metadata": {},
     "output_type": "display_data"
    }
   ],
   "source": [
    "sns.boxplot(y=height)"
   ]
  },
  {
   "cell_type": "code",
   "execution_count": 119,
   "id": "3e29d818-b220-4b52-bb03-efeb4c793cae",
   "metadata": {},
   "outputs": [],
   "source": [
    "import statistics as st"
   ]
  },
  {
   "cell_type": "code",
   "execution_count": 121,
   "id": "f2b2c027-09a7-48e8-a488-8990cdb25f23",
   "metadata": {},
   "outputs": [
    {
     "data": {
      "text/plain": [
       "7.14089799972134"
      ]
     },
     "execution_count": 121,
     "metadata": {},
     "output_type": "execute_result"
    }
   ],
   "source": [
    "st.stdev(height)"
   ]
  },
  {
   "cell_type": "code",
   "execution_count": 123,
   "id": "7e85361a-879a-4328-bd1e-6b1c56d59904",
   "metadata": {},
   "outputs": [
    {
     "data": {
      "text/plain": [
       "6.836889318656223"
      ]
     },
     "execution_count": 123,
     "metadata": {},
     "output_type": "execute_result"
    }
   ],
   "source": [
    "st.pstdev(height) # this also get std dev"
   ]
  },
  {
   "cell_type": "code",
   "execution_count": 127,
   "id": "08d7f737-3da1-4315-bb2b-4709803e5419",
   "metadata": {},
   "outputs": [
    {
     "data": {
      "text/plain": [
       "0     81\n",
       "1     78\n",
       "2     77\n",
       "3     75\n",
       "4     80\n",
       "5     82\n",
       "6     84\n",
       "7     78\n",
       "8     74\n",
       "9     75\n",
       "10    49\n",
       "11    71\n",
       "12    76\n",
       "13    80\n",
       "dtype: int64"
      ]
     },
     "execution_count": 127,
     "metadata": {},
     "output_type": "execute_result"
    }
   ],
   "source": [
    "#The temperatures (in °F) recorded at Exton at noon on each day for two weeks were as follows:\n",
    "temp = pd.Series([81, 78, 77, 75, 80, 82, 84, 78, 74, 75, 49, 71, 76, 80])\n",
    "temp\n"
   ]
  },
  {
   "cell_type": "code",
   "execution_count": 135,
   "id": "a4020f12-7a5b-44c2-9476-9cbd6933de37",
   "metadata": {},
   "outputs": [
    {
     "name": "stderr",
     "output_type": "stream",
     "text": [
      "/var/folders/3d/6161zfvj2wv_8m4q9rfjsw940000gn/T/ipykernel_20287/2028076515.py:1: UserWarning: \n",
      "\n",
      "`distplot` is a deprecated function and will be removed in seaborn v0.14.0.\n",
      "\n",
      "Please adapt your code to use either `displot` (a figure-level function with\n",
      "similar flexibility) or `histplot` (an axes-level function for histograms).\n",
      "\n",
      "For a guide to updating your code to use the new functions, please see\n",
      "https://gist.github.com/mwaskom/de44147ed2974457ad6372750bbe5751\n",
      "\n",
      "  sns.distplot(temp)\n"
     ]
    },
    {
     "data": {
      "text/plain": [
       "<Axes: ylabel='Density'>"
      ]
     },
     "execution_count": 135,
     "metadata": {},
     "output_type": "execute_result"
    },
    {
     "data": {
      "image/png": "[encoded data removed]",
      "text/plain": [
       "<Figure size 640x480 with 1 Axes>"
      ]
     },
     "metadata": {},
     "output_type": "display_data"
    }
   ],
   "source": [
    "sns.distplot(temp)"
   ]
  },
  {
   "cell_type": "code",
   "execution_count": 131,
   "id": "8a77d805-f511-4c49-a70c-194b3b208ecf",
   "metadata": {},
   "outputs": [
    {
     "data": {
      "text/plain": [
       "count    14.000000\n",
       "mean     75.714286\n",
       "std       8.434623\n",
       "min      49.000000\n",
       "25%      75.000000\n",
       "50%      77.500000\n",
       "75%      80.000000\n",
       "max      84.000000\n",
       "dtype: float64"
      ]
     },
     "execution_count": 131,
     "metadata": {},
     "output_type": "execute_result"
    }
   ],
   "source": [
    "temp.describe()"
   ]
  },
  {
   "cell_type": "code",
   "execution_count": 137,
   "id": "95e55697-843a-4cea-8af5-aafd49538909",
   "metadata": {},
   "outputs": [
    {
     "data": {
      "text/plain": [
       "<Axes: >"
      ]
     },
     "execution_count": 137,
     "metadata": {},
     "output_type": "execute_result"
    },
    {
     "data": {
      "image/png": "[encoded data removed]",
      "text/plain": [
       "<Figure size 640x480 with 1 Axes>"
      ]
     },
     "metadata": {},
     "output_type": "display_data"
    }
   ],
   "source": [
    "sns.boxplot(temp)"
   ]
  },
  {
   "cell_type": "code",
   "execution_count": 153,
   "id": "534456fe-c181-40fb-9c2f-1346df583dec",
   "metadata": {},
   "outputs": [
    {
     "data": {
      "text/html": [
       "<div>\n",
       "<style scoped>\n",
       "    .dataframe tbody tr th:only-of-type {\n",
       "        vertical-align: middle;\n",
       "    }\n",
       "\n",
       "    .dataframe tbody tr th {\n",
       "        vertical-align: top;\n",
       "    }\n",
       "\n",
       "    .dataframe thead th {\n",
       "        text-align: right;\n",
       "    }\n",
       "</style>\n",
       "<table border=\"1\" class=\"dataframe\">\n",
       "  <thead>\n",
       "    <tr style=\"text-align: right;\">\n",
       "      <th></th>\n",
       "      <th>Name</th>\n",
       "      <th>Type 1</th>\n",
       "      <th>Type 2</th>\n",
       "      <th>Total</th>\n",
       "      <th>HP</th>\n",
       "      <th>Attack</th>\n",
       "      <th>Defense</th>\n",
       "      <th>Sp. Atk</th>\n",
       "      <th>Sp. Def</th>\n",
       "      <th>Speed</th>\n",
       "      <th>Stage</th>\n",
       "      <th>Legendary</th>\n",
       "    </tr>\n",
       "    <tr>\n",
       "      <th>#</th>\n",
       "      <th></th>\n",
       "      <th></th>\n",
       "      <th></th>\n",
       "      <th></th>\n",
       "      <th></th>\n",
       "      <th></th>\n",
       "      <th></th>\n",
       "      <th></th>\n",
       "      <th></th>\n",
       "      <th></th>\n",
       "      <th></th>\n",
       "      <th></th>\n",
       "    </tr>\n",
       "  </thead>\n",
       "  <tbody>\n",
       "    <tr>\n",
       "      <th>1</th>\n",
       "      <td>Bulbasaur</td>\n",
       "      <td>Grass</td>\n",
       "      <td>Poison</td>\n",
       "      <td>318</td>\n",
       "      <td>45</td>\n",
       "      <td>49</td>\n",
       "      <td>49</td>\n",
       "      <td>65</td>\n",
       "      <td>65</td>\n",
       "      <td>45</td>\n",
       "      <td>1</td>\n",
       "      <td>False</td>\n",
       "    </tr>\n",
       "    <tr>\n",
       "      <th>2</th>\n",
       "      <td>Ivysaur</td>\n",
       "      <td>Grass</td>\n",
       "      <td>Poison</td>\n",
       "      <td>405</td>\n",
       "      <td>60</td>\n",
       "      <td>62</td>\n",
       "      <td>63</td>\n",
       "      <td>80</td>\n",
       "      <td>80</td>\n",
       "      <td>60</td>\n",
       "      <td>2</td>\n",
       "      <td>False</td>\n",
       "    </tr>\n",
       "    <tr>\n",
       "      <th>3</th>\n",
       "      <td>Venusaur</td>\n",
       "      <td>Grass</td>\n",
       "      <td>Poison</td>\n",
       "      <td>525</td>\n",
       "      <td>80</td>\n",
       "      <td>82</td>\n",
       "      <td>83</td>\n",
       "      <td>100</td>\n",
       "      <td>100</td>\n",
       "      <td>80</td>\n",
       "      <td>3</td>\n",
       "      <td>False</td>\n",
       "    </tr>\n",
       "    <tr>\n",
       "      <th>4</th>\n",
       "      <td>Charmander</td>\n",
       "      <td>Fire</td>\n",
       "      <td>NaN</td>\n",
       "      <td>309</td>\n",
       "      <td>39</td>\n",
       "      <td>52</td>\n",
       "      <td>43</td>\n",
       "      <td>60</td>\n",
       "      <td>50</td>\n",
       "      <td>65</td>\n",
       "      <td>1</td>\n",
       "      <td>False</td>\n",
       "    </tr>\n",
       "    <tr>\n",
       "      <th>5</th>\n",
       "      <td>Charmeleon</td>\n",
       "      <td>Fire</td>\n",
       "      <td>NaN</td>\n",
       "      <td>405</td>\n",
       "      <td>58</td>\n",
       "      <td>64</td>\n",
       "      <td>58</td>\n",
       "      <td>80</td>\n",
       "      <td>65</td>\n",
       "      <td>80</td>\n",
       "      <td>2</td>\n",
       "      <td>False</td>\n",
       "    </tr>\n",
       "    <tr>\n",
       "      <th>...</th>\n",
       "      <td>...</td>\n",
       "      <td>...</td>\n",
       "      <td>...</td>\n",
       "      <td>...</td>\n",
       "      <td>...</td>\n",
       "      <td>...</td>\n",
       "      <td>...</td>\n",
       "      <td>...</td>\n",
       "      <td>...</td>\n",
       "      <td>...</td>\n",
       "      <td>...</td>\n",
       "      <td>...</td>\n",
       "    </tr>\n",
       "    <tr>\n",
       "      <th>147</th>\n",
       "      <td>Dratini</td>\n",
       "      <td>Dragon</td>\n",
       "      <td>NaN</td>\n",
       "      <td>300</td>\n",
       "      <td>41</td>\n",
       "      <td>64</td>\n",
       "      <td>45</td>\n",
       "      <td>50</td>\n",
       "      <td>50</td>\n",
       "      <td>50</td>\n",
       "      <td>1</td>\n",
       "      <td>False</td>\n",
       "    </tr>\n",
       "    <tr>\n",
       "      <th>148</th>\n",
       "      <td>Dragonair</td>\n",
       "      <td>Dragon</td>\n",
       "      <td>NaN</td>\n",
       "      <td>420</td>\n",
       "      <td>61</td>\n",
       "      <td>84</td>\n",
       "      <td>65</td>\n",
       "      <td>70</td>\n",
       "      <td>70</td>\n",
       "      <td>70</td>\n",
       "      <td>2</td>\n",
       "      <td>False</td>\n",
       "    </tr>\n",
       "    <tr>\n",
       "      <th>149</th>\n",
       "      <td>Dragonite</td>\n",
       "      <td>Dragon</td>\n",
       "      <td>Flying</td>\n",
       "      <td>600</td>\n",
       "      <td>91</td>\n",
       "      <td>134</td>\n",
       "      <td>95</td>\n",
       "      <td>100</td>\n",
       "      <td>100</td>\n",
       "      <td>80</td>\n",
       "      <td>3</td>\n",
       "      <td>False</td>\n",
       "    </tr>\n",
       "    <tr>\n",
       "      <th>150</th>\n",
       "      <td>Mewtwo</td>\n",
       "      <td>Psychic</td>\n",
       "      <td>NaN</td>\n",
       "      <td>680</td>\n",
       "      <td>106</td>\n",
       "      <td>110</td>\n",
       "      <td>90</td>\n",
       "      <td>154</td>\n",
       "      <td>90</td>\n",
       "      <td>130</td>\n",
       "      <td>1</td>\n",
       "      <td>True</td>\n",
       "    </tr>\n",
       "    <tr>\n",
       "      <th>151</th>\n",
       "      <td>Mew</td>\n",
       "      <td>Psychic</td>\n",
       "      <td>NaN</td>\n",
       "      <td>600</td>\n",
       "      <td>100</td>\n",
       "      <td>100</td>\n",
       "      <td>100</td>\n",
       "      <td>100</td>\n",
       "      <td>100</td>\n",
       "      <td>100</td>\n",
       "      <td>1</td>\n",
       "      <td>False</td>\n",
       "    </tr>\n",
       "  </tbody>\n",
       "</table>\n",
       "<p>151 rows × 12 columns</p>\n",
       "</div>"
      ],
      "text/plain": [
       "           Name   Type 1  Type 2  Total   HP  Attack  Defense  Sp. Atk  \\\n",
       "#                                                                        \n",
       "1     Bulbasaur    Grass  Poison    318   45      49       49       65   \n",
       "2       Ivysaur    Grass  Poison    405   60      62       63       80   \n",
       "3      Venusaur    Grass  Poison    525   80      82       83      100   \n",
       "4    Charmander     Fire     NaN    309   39      52       43       60   \n",
       "5    Charmeleon     Fire     NaN    405   58      64       58       80   \n",
       "..          ...      ...     ...    ...  ...     ...      ...      ...   \n",
       "147     Dratini   Dragon     NaN    300   41      64       45       50   \n",
       "148   Dragonair   Dragon     NaN    420   61      84       65       70   \n",
       "149   Dragonite   Dragon  Flying    600   91     134       95      100   \n",
       "150      Mewtwo  Psychic     NaN    680  106     110       90      154   \n",
       "151         Mew  Psychic     NaN    600  100     100      100      100   \n",
       "\n",
       "     Sp. Def  Speed  Stage  Legendary  \n",
       "#                                      \n",
       "1         65     45      1      False  \n",
       "2         80     60      2      False  \n",
       "3        100     80      3      False  \n",
       "4         50     65      1      False  \n",
       "5         65     80      2      False  \n",
       "..       ...    ...    ...        ...  \n",
       "147       50     50      1      False  \n",
       "148       70     70      2      False  \n",
       "149      100     80      3      False  \n",
       "150       90    130      1       True  \n",
       "151      100    100      1      False  \n",
       "\n",
       "[151 rows x 12 columns]"
      ]
     },
     "execution_count": 153,
     "metadata": {},
     "output_type": "execute_result"
    }
   ],
   "source": [
    "df = pd.read_csv(r\"/Users/yusufkhan/Desktop/Datasets/Pokemon1.csv\",index_col=0)\n",
    "df"
   ]
  },
  {
   "cell_type": "code",
   "execution_count": 155,
   "id": "261634af-9cd3-4493-9559-d7ce6920ae61",
   "metadata": {},
   "outputs": [],
   "source": [
    "import warnings\n",
    "warnings.filterwarnings(\"ignore\")"
   ]
  },
  {
   "cell_type": "code",
   "execution_count": 163,
   "id": "a2e7c40f-d2fe-4af2-97ae-607d4a3f14ad",
   "metadata": {},
   "outputs": [
    {
     "data": {
      "image/png": "[encoded data removed]",
      "text/plain": [
       "<Figure size 640x480 with 1 Axes>"
      ]
     },
     "metadata": {},
     "output_type": "display_data"
    }
   ],
   "source": [
    "sns.distplot(df.Attack); # we put semi colon to hide <axes:"
   ]
  },
  {
   "cell_type": "code",
   "execution_count": 165,
   "id": "3c5ef16d-462e-443c-bd0a-9d1e3105f62f",
   "metadata": {},
   "outputs": [],
   "source": [
    "from scipy.stats import skew"
   ]
  },
  {
   "cell_type": "code",
   "execution_count": 167,
   "id": "70e7ca0b-8963-41c5-a58c-545dcb079544",
   "metadata": {},
   "outputs": [],
   "source": [
    "skew_att = skew(df.Attack)"
   ]
  },
  {
   "cell_type": "code",
   "execution_count": 169,
   "id": "c0b5aa0c-15aa-42aa-99c6-f134b8098d18",
   "metadata": {},
   "outputs": [
    {
     "data": {
      "text/plain": [
       "0.14469715499053246"
      ]
     },
     "execution_count": 169,
     "metadata": {},
     "output_type": "execute_result"
    }
   ],
   "source": [
    "skew_att # it is showing low skewness"
   ]
  },
  {
   "cell_type": "code",
   "execution_count": 173,
   "id": "762aefa3-c9f5-4f3a-aec0-6ad894262003",
   "metadata": {},
   "outputs": [
    {
     "data": {
      "text/plain": [
       "<Axes: xlabel='Defense', ylabel='Density'>"
      ]
     },
     "execution_count": 173,
     "metadata": {},
     "output_type": "execute_result"
    },
    {
     "data": {
      "image/png": "[encoded data removed]",
      "text/plain": [
       "<Figure size 640x480 with 1 Axes>"
      ]
     },
     "metadata": {},
     "output_type": "display_data"
    }
   ],
   "source": [
    "sns.distplot(df.Defense)"
   ]
  },
  {
   "cell_type": "code",
   "execution_count": 175,
   "id": "f0552e5b-5bd8-4124-a20d-d846c3615893",
   "metadata": {},
   "outputs": [
    {
     "data": {
      "text/plain": [
       "0.8303632725600234"
      ]
     },
     "execution_count": 175,
     "metadata": {},
     "output_type": "execute_result"
    }
   ],
   "source": [
    "skew_def = skew(df.Defense)\n",
    "skew_def # it is showing high skewness"
   ]
  },
  {
   "cell_type": "code",
   "execution_count": 177,
   "id": "32cfdf64-5b75-455c-85a9-f3d356abe0b0",
   "metadata": {},
   "outputs": [
    {
     "data": {
      "text/plain": [
       "<Axes: ylabel='Defense'>"
      ]
     },
     "execution_count": 177,
     "metadata": {},
     "output_type": "execute_result"
    },
    {
     "data": {
      "image/png": "[encoded data removed]",
      "text/plain": [
       "<Figure size 640x480 with 1 Axes>"
      ]
     },
     "metadata": {},
     "output_type": "display_data"
    }
   ],
   "source": [
    "sns.boxplot(df.Defense)"
   ]
  },
  {
   "cell_type": "code",
   "execution_count": 183,
   "id": "39271004-1640-4bff-8625-b8acb8dedcf5",
   "metadata": {},
   "outputs": [
    {
     "data": {
      "text/plain": [
       "(149, 12)"
      ]
     },
     "execution_count": 183,
     "metadata": {},
     "output_type": "execute_result"
    }
   ],
   "source": [
    "#eliminating outliers to reduce skewness\n",
    "new_df=df[df['Defense']<=150]\n",
    "new_df.shape"
   ]
  },
  {
   "cell_type": "code",
   "execution_count": 185,
   "id": "00e89f2f-7569-4df0-ae44-f0029bd6a9e6",
   "metadata": {},
   "outputs": [
    {
     "data": {
      "text/plain": [
       "<Axes: ylabel='Defense'>"
      ]
     },
     "execution_count": 185,
     "metadata": {},
     "output_type": "execute_result"
    },
    {
     "data": {
      "image/png": "[encoded data removed]",
      "text/plain": [
       "<Figure size 640x480 with 1 Axes>"
      ]
     },
     "metadata": {},
     "output_type": "display_data"
    }
   ],
   "source": [
    "sns.boxplot(new_df.Defense)"
   ]
  },
  {
   "cell_type": "code",
   "execution_count": 191,
   "id": "56c9e6ae-87c2-45fc-a34a-aefea62c2535",
   "metadata": {},
   "outputs": [
    {
     "data": {
      "text/plain": [
       "0.2879498324533908"
      ]
     },
     "execution_count": 191,
     "metadata": {},
     "output_type": "execute_result"
    }
   ],
   "source": [
    "skew_def = skew(new_df.Defense)\n",
    "skew_def # now our skewness has become low after eliminating outliers"
   ]
  },
  {
   "cell_type": "code",
   "execution_count": 193,
   "id": "266ca3ee-e76b-41f0-adb4-f36eb354d381",
   "metadata": {},
   "outputs": [],
   "source": [
    "new_def = np.log(df.Defense)"
   ]
  },
  {
   "cell_type": "code",
   "execution_count": 195,
   "id": "d8a9b9b0-cacf-4480-87cc-4637562b455b",
   "metadata": {},
   "outputs": [],
   "source": [
    "skewness = skew(new_def)"
   ]
  },
  {
   "cell_type": "code",
   "execution_count": 197,
   "id": "a456dc69-b3df-403e-8e43-1bbed1528b4a",
   "metadata": {},
   "outputs": [
    {
     "data": {
      "text/plain": [
       "-1.4212251089464005"
      ]
     },
     "execution_count": 197,
     "metadata": {},
     "output_type": "execute_result"
    }
   ],
   "source": [
    "skewness # we do not use log here as eliminating outlier reduced our skewness"
   ]
  },
  {
   "cell_type": "code",
   "execution_count": 207,
   "id": "5f70d0af-8253-4375-a754-416f006ea4ee",
   "metadata": {},
   "outputs": [
    {
     "data": {
      "text/plain": [
       "count    151.000000\n",
       "mean      68.225166\n",
       "std       26.916704\n",
       "min        5.000000\n",
       "25%       50.000000\n",
       "50%       65.000000\n",
       "75%       84.000000\n",
       "max      180.000000\n",
       "Name: Defense, dtype: float64"
      ]
     },
     "execution_count": 207,
     "metadata": {},
     "output_type": "execute_result"
    }
   ],
   "source": [
    "df.Defense.describe()"
   ]
  },
  {
   "cell_type": "code",
   "execution_count": 209,
   "id": "094b5bf0-997f-4c51-8d26-e6384e5d8d89",
   "metadata": {},
   "outputs": [
    {
     "data": {
      "text/plain": [
       "0    65\n",
       "Name: Defense, dtype: int64"
      ]
     },
     "execution_count": 209,
     "metadata": {},
     "output_type": "execute_result"
    }
   ],
   "source": [
    "df.Defense.mode()"
   ]
  },
  {
   "cell_type": "code",
   "execution_count": 211,
   "id": "8ef334a0-6002-488c-8fb5-0bef3159d7e5",
   "metadata": {},
   "outputs": [],
   "source": [
    "from scipy.stats import kurtosis"
   ]
  },
  {
   "cell_type": "code",
   "execution_count": 219,
   "id": "a60d3b4f-3399-44b9-97be-ae000c020b7f",
   "metadata": {},
   "outputs": [
    {
     "data": {
      "text/plain": [
       "2.6428752209248696"
      ]
     },
     "execution_count": 219,
     "metadata": {},
     "output_type": "execute_result"
    }
   ],
   "source": [
    "kurt_coeff_att=kurtosis(df.Attack,fisher=False)\n",
    "kurt_coeff_att\n",
    "# fisher value = True will give excess kurtosis value\n",
    "# fisher value = False will give kurtosis value"
   ]
  },
  {
   "cell_type": "code",
   "execution_count": 221,
   "id": "7ec522e3-b8af-4d88-b51c-44c7950e1020",
   "metadata": {},
   "outputs": [
    {
     "data": {
      "text/plain": [
       "4.661203142349927"
      ]
     },
     "execution_count": 221,
     "metadata": {},
     "output_type": "execute_result"
    }
   ],
   "source": [
    "kurt_coeff_def=kurtosis(df.Defense,fisher=False)\n",
    "kurt_coeff_def"
   ]
  },
  {
   "cell_type": "code",
   "execution_count": 225,
   "id": "b230d6c2-be2f-4080-890a-9b16f2093718",
   "metadata": {},
   "outputs": [
    {
     "data": {
      "text/plain": [
       "14.20890546130659"
      ]
     },
     "execution_count": 225,
     "metadata": {},
     "output_type": "execute_result"
    }
   ],
   "source": [
    "kurt_coeff_hp=kurtosis(df.HP,fisher=False)\n",
    "kurt_coeff_hp"
   ]
  },
  {
   "cell_type": "code",
   "execution_count": 229,
   "id": "6fcf8dd1-8d4b-417e-905f-1e4397b594f3",
   "metadata": {},
   "outputs": [
    {
     "data": {
      "text/plain": [
       "Index(['Name', 'Type 1', 'Type 2', 'Total', 'HP', 'Attack', 'Defense',\n",
       "       'Sp. Atk', 'Sp. Def', 'Speed', 'Stage', 'Legendary'],\n",
       "      dtype='object')"
      ]
     },
     "execution_count": 229,
     "metadata": {},
     "output_type": "execute_result"
    }
   ],
   "source": [
    "df.columns"
   ]
  },
  {
   "cell_type": "code",
   "execution_count": 231,
   "id": "aab0b5bb-8cca-402e-ab65-ebf6ef2831fb",
   "metadata": {},
   "outputs": [],
   "source": [
    "x=df[['HP', 'Attack', 'Defense',\n",
    "       'Sp. Atk', 'Sp. Def', 'Speed', 'Total']]"
   ]
  },
  {
   "cell_type": "code",
   "execution_count": 235,
   "id": "12488220-fd30-46d6-810d-b5d2e16d5f04",
   "metadata": {},
   "outputs": [
    {
     "data": {
      "text/html": [
       "<div>\n",
       "<style scoped>\n",
       "    .dataframe tbody tr th:only-of-type {\n",
       "        vertical-align: middle;\n",
       "    }\n",
       "\n",
       "    .dataframe tbody tr th {\n",
       "        vertical-align: top;\n",
       "    }\n",
       "\n",
       "    .dataframe thead th {\n",
       "        text-align: right;\n",
       "    }\n",
       "</style>\n",
       "<table border=\"1\" class=\"dataframe\">\n",
       "  <thead>\n",
       "    <tr style=\"text-align: right;\">\n",
       "      <th></th>\n",
       "      <th>HP</th>\n",
       "      <th>Attack</th>\n",
       "      <th>Defense</th>\n",
       "      <th>Sp. Atk</th>\n",
       "      <th>Sp. Def</th>\n",
       "      <th>Speed</th>\n",
       "      <th>Total</th>\n",
       "    </tr>\n",
       "  </thead>\n",
       "  <tbody>\n",
       "    <tr>\n",
       "      <th>HP</th>\n",
       "      <td>817.394790</td>\n",
       "      <td>233.262737</td>\n",
       "      <td>92.178631</td>\n",
       "      <td>193.056998</td>\n",
       "      <td>339.669095</td>\n",
       "      <td>-31.305872</td>\n",
       "      <td>1644.256380</td>\n",
       "    </tr>\n",
       "    <tr>\n",
       "      <th>Attack</th>\n",
       "      <td>233.262737</td>\n",
       "      <td>707.355850</td>\n",
       "      <td>352.188742</td>\n",
       "      <td>111.036380</td>\n",
       "      <td>237.522340</td>\n",
       "      <td>138.503311</td>\n",
       "      <td>1779.869360</td>\n",
       "    </tr>\n",
       "    <tr>\n",
       "      <th>Defense</th>\n",
       "      <td>92.178631</td>\n",
       "      <td>352.188742</td>\n",
       "      <td>724.508962</td>\n",
       "      <td>144.061810</td>\n",
       "      <td>91.128830</td>\n",
       "      <td>-38.338322</td>\n",
       "      <td>1365.728653</td>\n",
       "    </tr>\n",
       "    <tr>\n",
       "      <th>Sp. Atk</th>\n",
       "      <td>193.056998</td>\n",
       "      <td>111.036380</td>\n",
       "      <td>144.061810</td>\n",
       "      <td>814.200530</td>\n",
       "      <td>361.050552</td>\n",
       "      <td>314.069272</td>\n",
       "      <td>1937.475541</td>\n",
       "    </tr>\n",
       "    <tr>\n",
       "      <th>Sp. Def</th>\n",
       "      <td>339.669095</td>\n",
       "      <td>237.522340</td>\n",
       "      <td>91.128830</td>\n",
       "      <td>361.050552</td>\n",
       "      <td>585.539603</td>\n",
       "      <td>254.134658</td>\n",
       "      <td>1869.045077</td>\n",
       "    </tr>\n",
       "    <tr>\n",
       "      <th>Speed</th>\n",
       "      <td>-31.305872</td>\n",
       "      <td>138.503311</td>\n",
       "      <td>-38.338322</td>\n",
       "      <td>314.069272</td>\n",
       "      <td>254.134658</td>\n",
       "      <td>715.395585</td>\n",
       "      <td>1352.458631</td>\n",
       "    </tr>\n",
       "    <tr>\n",
       "      <th>Total</th>\n",
       "      <td>1644.256380</td>\n",
       "      <td>1779.869360</td>\n",
       "      <td>1365.728653</td>\n",
       "      <td>1937.475541</td>\n",
       "      <td>1869.045077</td>\n",
       "      <td>1352.458631</td>\n",
       "      <td>9948.833642</td>\n",
       "    </tr>\n",
       "  </tbody>\n",
       "</table>\n",
       "</div>"
      ],
      "text/plain": [
       "                  HP       Attack      Defense      Sp. Atk      Sp. Def  \\\n",
       "HP        817.394790   233.262737    92.178631   193.056998   339.669095   \n",
       "Attack    233.262737   707.355850   352.188742   111.036380   237.522340   \n",
       "Defense    92.178631   352.188742   724.508962   144.061810    91.128830   \n",
       "Sp. Atk   193.056998   111.036380   144.061810   814.200530   361.050552   \n",
       "Sp. Def   339.669095   237.522340    91.128830   361.050552   585.539603   \n",
       "Speed     -31.305872   138.503311   -38.338322   314.069272   254.134658   \n",
       "Total    1644.256380  1779.869360  1365.728653  1937.475541  1869.045077   \n",
       "\n",
       "               Speed        Total  \n",
       "HP        -31.305872  1644.256380  \n",
       "Attack    138.503311  1779.869360  \n",
       "Defense   -38.338322  1365.728653  \n",
       "Sp. Atk   314.069272  1937.475541  \n",
       "Sp. Def   254.134658  1869.045077  \n",
       "Speed     715.395585  1352.458631  \n",
       "Total    1352.458631  9948.833642  "
      ]
     },
     "execution_count": 235,
     "metadata": {},
     "output_type": "execute_result"
    }
   ],
   "source": [
    "cov_df=x.cov()\n",
    "cov_df"
   ]
  },
  {
   "cell_type": "code",
   "execution_count": 257,
   "id": "2fbd8ef8-8d96-4403-8387-2dde708ac117",
   "metadata": {},
   "outputs": [
    {
     "name": "stdout",
     "output_type": "stream",
     "text": [
      "               HP    Attack   Defense   Sp. Atk   Sp. Def     Speed     Total\n",
      "HP       1.000000  0.306768  0.119782  0.236649  0.490978 -0.040939  0.576591\n",
      "Attack   0.306768  1.000000  0.491965  0.146312  0.369069  0.194701  0.670939\n",
      "Defense  0.119782  0.491965  1.000000  0.187569  0.139912 -0.053252  0.508694\n",
      "Sp. Atk  0.236649  0.146312  0.187569  1.000000  0.522907  0.411516  0.680745\n",
      "Sp. Def  0.490978  0.369069  0.139912  0.522907  1.000000  0.392656  0.774383\n",
      "Speed   -0.040939  0.194701 -0.053252  0.411516  0.392656  1.000000  0.506950\n",
      "Total    0.576591  0.670939  0.508694  0.680745  0.774383  0.506950  1.000000\n"
     ]
    },
    {
     "data": {
      "text/plain": [
       "<Axes: >"
      ]
     },
     "execution_count": 257,
     "metadata": {},
     "output_type": "execute_result"
    },
    {
     "data": {
      "image/png": "[encoded data removed]",
      "text/plain": [
       "<Figure size 640x480 with 2 Axes>"
      ]
     },
     "metadata": {},
     "output_type": "display_data"
    }
   ],
   "source": [
    "#Heatmaps are useful to visualize the magnitude of relationship #between multiple variables using the correlation matrix.\n",
    "#Pairs which show high correlation, ‹-0.75 or >0.75, should be considered \n",
    "#and we can eliminate one variable out of the pair leading to feature selection.\n",
    "corr_df=x.corr(method=\"pearson\") #\"spearman\", \"kendall\"\n",
    "print(corr_df)\n",
    "\n",
    "sns.heatmap(corr_df,vmax=1.0, vmin=-1.0,annot=True) # annot gives number in boxes"
   ]
  },
  {
   "cell_type": "code",
   "execution_count": 259,
   "id": "11f5c9c8-9e31-4496-ba2c-7ac9d9e0b44b",
   "metadata": {},
   "outputs": [
    {
     "data": {
      "text/html": [
       "<div>\n",
       "<style scoped>\n",
       "    .dataframe tbody tr th:only-of-type {\n",
       "        vertical-align: middle;\n",
       "    }\n",
       "\n",
       "    .dataframe tbody tr th {\n",
       "        vertical-align: top;\n",
       "    }\n",
       "\n",
       "    .dataframe thead th {\n",
       "        text-align: right;\n",
       "    }\n",
       "</style>\n",
       "<table border=\"1\" class=\"dataframe\">\n",
       "  <thead>\n",
       "    <tr style=\"text-align: right;\">\n",
       "      <th></th>\n",
       "      <th>Survived</th>\n",
       "      <th>Pclass</th>\n",
       "      <th>Name</th>\n",
       "      <th>Sex</th>\n",
       "      <th>Age</th>\n",
       "      <th>SibSp</th>\n",
       "      <th>Parch</th>\n",
       "      <th>Ticket</th>\n",
       "      <th>Fare</th>\n",
       "      <th>Cabin</th>\n",
       "      <th>Embarked</th>\n",
       "    </tr>\n",
       "    <tr>\n",
       "      <th>PassengerId</th>\n",
       "      <th></th>\n",
       "      <th></th>\n",
       "      <th></th>\n",
       "      <th></th>\n",
       "      <th></th>\n",
       "      <th></th>\n",
       "      <th></th>\n",
       "      <th></th>\n",
       "      <th></th>\n",
       "      <th></th>\n",
       "      <th></th>\n",
       "    </tr>\n",
       "  </thead>\n",
       "  <tbody>\n",
       "    <tr>\n",
       "      <th>1</th>\n",
       "      <td>0</td>\n",
       "      <td>3</td>\n",
       "      <td>Braund, Mr. Owen Harris</td>\n",
       "      <td>male</td>\n",
       "      <td>22.0</td>\n",
       "      <td>1</td>\n",
       "      <td>0</td>\n",
       "      <td>A/5 21171</td>\n",
       "      <td>7.2500</td>\n",
       "      <td>NaN</td>\n",
       "      <td>S</td>\n",
       "    </tr>\n",
       "    <tr>\n",
       "      <th>2</th>\n",
       "      <td>1</td>\n",
       "      <td>1</td>\n",
       "      <td>Cumings, Mrs. John Bradley (Florence Briggs Th...</td>\n",
       "      <td>female</td>\n",
       "      <td>38.0</td>\n",
       "      <td>1</td>\n",
       "      <td>0</td>\n",
       "      <td>PC 17599</td>\n",
       "      <td>71.2833</td>\n",
       "      <td>C85</td>\n",
       "      <td>C</td>\n",
       "    </tr>\n",
       "    <tr>\n",
       "      <th>3</th>\n",
       "      <td>1</td>\n",
       "      <td>3</td>\n",
       "      <td>Heikkinen, Miss. Laina</td>\n",
       "      <td>female</td>\n",
       "      <td>26.0</td>\n",
       "      <td>0</td>\n",
       "      <td>0</td>\n",
       "      <td>STON/O2. 3101282</td>\n",
       "      <td>7.9250</td>\n",
       "      <td>NaN</td>\n",
       "      <td>S</td>\n",
       "    </tr>\n",
       "    <tr>\n",
       "      <th>4</th>\n",
       "      <td>1</td>\n",
       "      <td>1</td>\n",
       "      <td>Futrelle, Mrs. Jacques Heath (Lily May Peel)</td>\n",
       "      <td>female</td>\n",
       "      <td>35.0</td>\n",
       "      <td>1</td>\n",
       "      <td>0</td>\n",
       "      <td>113803</td>\n",
       "      <td>53.1000</td>\n",
       "      <td>C123</td>\n",
       "      <td>S</td>\n",
       "    </tr>\n",
       "    <tr>\n",
       "      <th>5</th>\n",
       "      <td>0</td>\n",
       "      <td>3</td>\n",
       "      <td>Allen, Mr. William Henry</td>\n",
       "      <td>male</td>\n",
       "      <td>35.0</td>\n",
       "      <td>0</td>\n",
       "      <td>0</td>\n",
       "      <td>373450</td>\n",
       "      <td>8.0500</td>\n",
       "      <td>NaN</td>\n",
       "      <td>S</td>\n",
       "    </tr>\n",
       "    <tr>\n",
       "      <th>...</th>\n",
       "      <td>...</td>\n",
       "      <td>...</td>\n",
       "      <td>...</td>\n",
       "      <td>...</td>\n",
       "      <td>...</td>\n",
       "      <td>...</td>\n",
       "      <td>...</td>\n",
       "      <td>...</td>\n",
       "      <td>...</td>\n",
       "      <td>...</td>\n",
       "      <td>...</td>\n",
       "    </tr>\n",
       "    <tr>\n",
       "      <th>887</th>\n",
       "      <td>0</td>\n",
       "      <td>2</td>\n",
       "      <td>Montvila, Rev. Juozas</td>\n",
       "      <td>male</td>\n",
       "      <td>27.0</td>\n",
       "      <td>0</td>\n",
       "      <td>0</td>\n",
       "      <td>211536</td>\n",
       "      <td>13.0000</td>\n",
       "      <td>NaN</td>\n",
       "      <td>S</td>\n",
       "    </tr>\n",
       "    <tr>\n",
       "      <th>888</th>\n",
       "      <td>1</td>\n",
       "      <td>1</td>\n",
       "      <td>Graham, Miss. Margaret Edith</td>\n",
       "      <td>female</td>\n",
       "      <td>19.0</td>\n",
       "      <td>0</td>\n",
       "      <td>0</td>\n",
       "      <td>112053</td>\n",
       "      <td>30.0000</td>\n",
       "      <td>B42</td>\n",
       "      <td>S</td>\n",
       "    </tr>\n",
       "    <tr>\n",
       "      <th>889</th>\n",
       "      <td>0</td>\n",
       "      <td>3</td>\n",
       "      <td>Johnston, Miss. Catherine Helen \"Carrie\"</td>\n",
       "      <td>female</td>\n",
       "      <td>NaN</td>\n",
       "      <td>1</td>\n",
       "      <td>2</td>\n",
       "      <td>W./C. 6607</td>\n",
       "      <td>23.4500</td>\n",
       "      <td>NaN</td>\n",
       "      <td>S</td>\n",
       "    </tr>\n",
       "    <tr>\n",
       "      <th>890</th>\n",
       "      <td>1</td>\n",
       "      <td>1</td>\n",
       "      <td>Behr, Mr. Karl Howell</td>\n",
       "      <td>male</td>\n",
       "      <td>26.0</td>\n",
       "      <td>0</td>\n",
       "      <td>0</td>\n",
       "      <td>111369</td>\n",
       "      <td>30.0000</td>\n",
       "      <td>C148</td>\n",
       "      <td>C</td>\n",
       "    </tr>\n",
       "    <tr>\n",
       "      <th>891</th>\n",
       "      <td>0</td>\n",
       "      <td>3</td>\n",
       "      <td>Dooley, Mr. Patrick</td>\n",
       "      <td>male</td>\n",
       "      <td>32.0</td>\n",
       "      <td>0</td>\n",
       "      <td>0</td>\n",
       "      <td>370376</td>\n",
       "      <td>7.7500</td>\n",
       "      <td>NaN</td>\n",
       "      <td>Q</td>\n",
       "    </tr>\n",
       "  </tbody>\n",
       "</table>\n",
       "<p>891 rows × 11 columns</p>\n",
       "</div>"
      ],
      "text/plain": [
       "             Survived  Pclass  \\\n",
       "PassengerId                     \n",
       "1                   0       3   \n",
       "2                   1       1   \n",
       "3                   1       3   \n",
       "4                   1       1   \n",
       "5                   0       3   \n",
       "...               ...     ...   \n",
       "887                 0       2   \n",
       "888                 1       1   \n",
       "889                 0       3   \n",
       "890                 1       1   \n",
       "891                 0       3   \n",
       "\n",
       "                                                          Name     Sex   Age  \\\n",
       "PassengerId                                                                    \n",
       "1                                      Braund, Mr. Owen Harris    male  22.0   \n",
       "2            Cumings, Mrs. John Bradley (Florence Briggs Th...  female  38.0   \n",
       "3                                       Heikkinen, Miss. Laina  female  26.0   \n",
       "4                 Futrelle, Mrs. Jacques Heath (Lily May Peel)  female  35.0   \n",
       "5                                     Allen, Mr. William Henry    male  35.0   \n",
       "...                                                        ...     ...   ...   \n",
       "887                                      Montvila, Rev. Juozas    male  27.0   \n",
       "888                               Graham, Miss. Margaret Edith  female  19.0   \n",
       "889                   Johnston, Miss. Catherine Helen \"Carrie\"  female   NaN   \n",
       "890                                      Behr, Mr. Karl Howell    male  26.0   \n",
       "891                                        Dooley, Mr. Patrick    male  32.0   \n",
       "\n",
       "             SibSp  Parch            Ticket     Fare Cabin Embarked  \n",
       "PassengerId                                                          \n",
       "1                1      0         A/5 21171   7.2500   NaN        S  \n",
       "2                1      0          PC 17599  71.2833   C85        C  \n",
       "3                0      0  STON/O2. 3101282   7.9250   NaN        S  \n",
       "4                1      0            113803  53.1000  C123        S  \n",
       "5                0      0            373450   8.0500   NaN        S  \n",
       "...            ...    ...               ...      ...   ...      ...  \n",
       "887              0      0            211536  13.0000   NaN        S  \n",
       "888              0      0            112053  30.0000   B42        S  \n",
       "889              1      2        W./C. 6607  23.4500   NaN        S  \n",
       "890              0      0            111369  30.0000  C148        C  \n",
       "891              0      0            370376   7.7500   NaN        Q  \n",
       "\n",
       "[891 rows x 11 columns]"
      ]
     },
     "execution_count": 259,
     "metadata": {},
     "output_type": "execute_result"
    }
   ],
   "source": [
    "titanic=pd.read_excel(r'/Users/yusufkhan/Desktop/Datasets/Titanic_Survival_Train.xls',header = 1,index_col=0)\n",
    "titanic"
   ]
  },
  {
   "cell_type": "code",
   "execution_count": 285,
   "id": "7ef06706-e71f-4f28-922a-ebd21dc4c342",
   "metadata": {},
   "outputs": [
    {
     "name": "stdout",
     "output_type": "stream",
     "text": [
      "          Survived    Pclass       Age     SibSp     Parch      Fare\n",
      "Survived  1.000000 -0.338481 -0.077221 -0.035322  0.081629  0.257307\n",
      "Pclass   -0.338481  1.000000 -0.369226  0.083081  0.018443 -0.549500\n",
      "Age      -0.077221 -0.369226  1.000000 -0.308247 -0.189119  0.096067\n",
      "SibSp    -0.035322  0.083081 -0.308247  1.000000  0.414838  0.159651\n",
      "Parch     0.081629  0.018443 -0.189119  0.414838  1.000000  0.216225\n",
      "Fare      0.257307 -0.549500  0.096067  0.159651  0.216225  1.000000\n"
     ]
    },
    {
     "data": {
      "text/plain": [
       "<Axes: >"
      ]
     },
     "execution_count": 285,
     "metadata": {},
     "output_type": "execute_result"
    },
    {
     "data": {
      "image/png": "[encoded data removed]",
      "text/plain": [
       "<Figure size 640x480 with 2 Axes>"
      ]
     },
     "metadata": {},
     "output_type": "display_data"
    }
   ],
   "source": [
    "new_df=titanic[['Survived', 'Pclass', 'Age', 'SibSp', 'Parch', 'Fare']]\n",
    "corr_df=new_df.corr()\n",
    "print(corr_df)\n",
    "sns.heatmap(corr_df,vmax=1.0,vmin=-1.0, annot=True,cmap='twilight')"
   ]
  },
  {
   "cell_type": "code",
   "execution_count": 287,
   "id": "7c4edd96-0e07-4001-af86-84a818cc8cd3",
   "metadata": {},
   "outputs": [],
   "source": [
    "#A study reports the monthly count of new subscribers of bloggers; Sheldon, Ross and Joey for a year. Find out who has more consistency in the number of new subscribers?\n",
    " \n",
    "sheldon_sub = [3, 5.1, 2.9, 3.7, 4.2, 4.2, 4.3, 5.2, 3.7, 4.4, 5.2, 3.4]\n",
    "ross_sub = [4, 4.6, 3.1, 4.2, 5.4, 3.4, 5, 6.2, 4.2, 3.5, 4.1, 5.5]\n",
    "joey_sub = [4.3, 4, 4.5, 5.1, 6, 5, 4.8, 5.4, 5.1, 6.4, 4.2, 3.4]\n"
   ]
  },
  {
   "cell_type": "code",
   "execution_count": 293,
   "id": "7b0f839c-2304-4d88-85ac-46f879572d7d",
   "metadata": {},
   "outputs": [],
   "source": [
    "def CV(s):\n",
    "    mu=s.mean()\n",
    "    sd=s.std()\n",
    "    return(sd/mu)*100"
   ]
  },
  {
   "cell_type": "code",
   "execution_count": 295,
   "id": "72fa610e-0476-4941-9a11-76cee240ffbe",
   "metadata": {},
   "outputs": [
    {
     "name": "stdout",
     "output_type": "stream",
     "text": [
      "CV for sheldon is 19.457628382542648\n",
      "CV for ross 1s 21.145192478821624\n",
      "CV for joey is 17.417938275352736\n"
     ]
    }
   ],
   "source": [
    "sheldon_sub = pd.Series([3, 5.1, 2.9, 3.7, 4.2, 4.2, 4.3, 5.2, 3.7, 4.4, 5.2, 3.4])\n",
    "ross_sub = pd.Series([4, 4.6, 3.1, 4.2, 5.4, 3.4, 5, 6.2, 4.2, 3.5, 4.1, 5.5])\n",
    "joey_sub = pd.Series([4.3, 4, 4.5, 5.1, 6, 5, 4.8, 5.4, 5.1, 6.4, 4.2, 3.4])\n",
    "print(\"CV for sheldon is\" ,CV(sheldon_sub))\n",
    "print(\"CV for ross 1s\",CV(ross_sub))\n",
    "print (\"CV for joey is\",CV(joey_sub))\n"
   ]
  },
  {
   "cell_type": "code",
   "execution_count": null,
   "id": "79edbd0b-8c35-4f6f-901f-17cab427d7bb",
   "metadata": {},
   "outputs": [],
   "source": []
  }
 ],
 "metadata": {
  "kernelspec": {
   "display_name": "Python 3 (ipykernel)",
   "language": "python",
   "name": "python3"
  },
  "language_info": {
   "codemirror_mode": {
    "name": "ipython",
    "version": 3
   },
   "file_extension": ".py",
   "mimetype": "text/x-python",
   "name": "python",
   "nbconvert_exporter": "python",
   "pygments_lexer": "ipython3",
   "version": "3.12.4"
  }
 },
 "nbformat": 4,
 "nbformat_minor": 5
}
